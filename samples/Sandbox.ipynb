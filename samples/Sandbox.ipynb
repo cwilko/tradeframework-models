{
 "cells": [
  {
   "cell_type": "code",
   "execution_count": 1,
   "metadata": {},
   "outputs": [
    {
     "name": "stderr",
     "output_type": "stream",
     "text": [
      "2023-04-04 14:30:06.799149: I tensorflow/core/platform/cpu_feature_guard.cc:193] This TensorFlow binary is optimized with oneAPI Deep Neural Network Library (oneDNN) to use the following CPU instructions in performance-critical operations:  AVX2 FMA\n",
      "To enable them in other operations, rebuild TensorFlow with the appropriate compiler flags.\n",
      "2023-04-04 14:30:06.954534: W tensorflow/compiler/xla/stream_executor/platform/default/dso_loader.cc:64] Could not load dynamic library 'libcudart.so.11.0'; dlerror: libcudart.so.11.0: cannot open shared object file: No such file or directory\n",
      "2023-04-04 14:30:06.954563: I tensorflow/compiler/xla/stream_executor/cuda/cudart_stub.cc:29] Ignore above cudart dlerror if you do not have a GPU set up on your machine.\n",
      "2023-04-04 14:30:08.096480: W tensorflow/compiler/xla/stream_executor/platform/default/dso_loader.cc:64] Could not load dynamic library 'libnvinfer.so.7'; dlerror: libnvinfer.so.7: cannot open shared object file: No such file or directory\n",
      "2023-04-04 14:30:08.096621: W tensorflow/compiler/xla/stream_executor/platform/default/dso_loader.cc:64] Could not load dynamic library 'libnvinfer_plugin.so.7'; dlerror: libnvinfer_plugin.so.7: cannot open shared object file: No such file or directory\n",
      "2023-04-04 14:30:08.096635: W tensorflow/compiler/tf2tensorrt/utils/py_utils.cc:38] TF-TRT Warning: Cannot dlopen some TensorRT libraries. If you would like to use Nvidia GPU with TensorRT, please make sure the missing libraries mentioned above are installed properly.\n"
     ]
    }
   ],
   "source": [
    "#!pip install --upgrade ~/Development/repos/tradeframework\n",
    "#!pip install --upgrade ~/Development/repos/tradeframework-insights\n",
    "#!pip install --upgrade ~/Development/repos/quantutils\n",
    "#!pip install --upgrade ~/Development/repos/marketinsights-price-aggregator\n",
    "\n",
    "# Pkg imports\n",
    "# TODO - dynamic import of SandboxEnv\n",
    "from tradeframework.environments import SandboxEnvironment  \n",
    "from marketinsights.api.aggregator import MarketDataAggregator\n",
    "from marketinsights.remote.ml import MIAssembly\n",
    "from marketinsights.remote.models import MIModelServer\n",
    "import quantutils.dataset.pipeline as ppl\n",
    "import quantutils.dataset.ml as mlutils\n",
    "\n",
    "# Dev imports\n",
    "import pandas as pd\n",
    "import numpy as np\n",
    "\n",
    "#import matplotlib\n",
    "#%matplotlib inline\n",
    "#matplotlib.rcParams['figure.figsize'] = (12.0, 6.0)\n",
    "\n",
    "import warnings\n",
    "warnings.filterwarnings(action='ignore')\n"
   ]
  },
  {
   "cell_type": "code",
   "execution_count": 2,
   "metadata": {},
   "outputs": [],
   "source": [
    "modelsvr = MIModelServer(secret=\"marketinsights-k8s-cred\")\n",
    "assembly = MIAssembly(modelsvr, secret=\"marketinsights-k8s-cred\")"
   ]
  },
  {
   "cell_type": "code",
   "execution_count": 3,
   "metadata": {},
   "outputs": [
    {
     "name": "stderr",
     "output_type": "stream",
     "text": [
      "100%|██████████| 1/1 [00:07<00:00,  7.43s/it]"
     ]
    },
    {
     "name": "stdout",
     "output_type": "stream",
     "text": [
      "Data Loaded\n"
     ]
    },
    {
     "name": "stderr",
     "output_type": "stream",
     "text": [
      "\n"
     ]
    }
   ],
   "source": [
    "data_config = [\n",
    "    {\n",
    "        \"ID\": \"MDS\",\n",
    "        \"class\": \"MDSConnector\",\n",
    "        \"opts\": {\n",
    "            \"location\": \"http://localhost:8080\"\n",
    "        },\n",
    "        \"timezone\": \"UTC\",\n",
    "        \"markets\": [\n",
    "            {\n",
    "                \"ID\": \"DOW\",\n",
    "                \"sources\": [\n",
    "                    {\n",
    "                        \"ID\": \"WallSt-hourly\",\n",
    "                        \"sample_unit\": \"H\"\n",
    "                    },\n",
    "                    {\n",
    "                        \"ID\": \"D&J-IND\",\n",
    "                        \"sample_unit\": \"5min\"\n",
    "                    }\n",
    "                ]\n",
    "            },\n",
    "            {\n",
    "                \"ID\": \"SPY\",\n",
    "                \"sources\": [\n",
    "                    {\n",
    "                        \"ID\":\"SP500-hourly\",\n",
    "                        \"sample_unit\":\"H\"\n",
    "                    },\n",
    "                    {\n",
    "                        \"ID\":\"SANDP-500\",\n",
    "                        \"sample_unit\":\"5min\"\n",
    "                    }\n",
    "                ]\n",
    "            }\n",
    "        ]\n",
    "    }\n",
    "]\n",
    "\n",
    "\n",
    "## Get Market Data\n",
    "aggregator = MarketDataAggregator(data_config)\n",
    "   \n",
    "#start = \"2013-01-01\" # Train period\n",
    "#end = \"2018-08-01\"\n",
    "\n",
    "#start=\"2018-08-02\" # Test period\n",
    "#end=\"2018-12-31\"\n",
    "\n",
    "start=\"2018-08-02\" # Test period\n",
    "end=\"2025-12-31\"\n",
    "\n",
    "marketData = aggregator.getData(mkts=[\"DOW\"], sample_unit=\"H\", start=start, end=end, aggregate=True, debug=False)\n",
    "print(\"Data Loaded\")\n",
    "#marketData = marketData.xs(\"mID\")\n",
    "#marketData = marketData.tz_convert(\"US/Eastern\", level=\"Date_Time\")\n",
    "#marketData = marketData.unstack(level=0).dropna(axis=1).stack() # Remove rows that don't have values from all markets\n",
    "#tickers = marketData.index.get_level_values(\"mID\").unique().values\n"
   ]
  },
  {
   "cell_type": "code",
   "execution_count": 123,
   "metadata": {},
   "outputs": [
    {
     "ename": "ValueError",
     "evalue": "The truth value of an array with more than one element is ambiguous. Use a.any() or a.all()",
     "output_type": "error",
     "traceback": [
      "\u001b[0;31m---------------------------------------------------------------------------\u001b[0m",
      "\u001b[0;31mValueError\u001b[0m                                Traceback (most recent call last)",
      "Cell \u001b[0;32mIn[123], line 49\u001b[0m\n\u001b[1;32m     33\u001b[0m p\u001b[39m.\u001b[39maddAsset(\n\u001b[1;32m     34\u001b[0m     env\u001b[39m.\u001b[39mcreateDerivative(\n\u001b[1;32m     35\u001b[0m         \u001b[39m\"\u001b[39m\u001b[39mARIMA\u001b[39m\u001b[39m\"\u001b[39m, \n\u001b[1;32m     36\u001b[0m         weightGenerator\u001b[39m=\u001b[39mARIMA(env, AR\u001b[39m=\u001b[39m\u001b[39m1\u001b[39m, I\u001b[39m=\u001b[39m\u001b[39m1\u001b[39m, MA\u001b[39m=\u001b[39m\u001b[39m3\u001b[39m, window\u001b[39m=\u001b[39m\u001b[39m24\u001b[39m\u001b[39m*\u001b[39m\u001b[39m5\u001b[39m\u001b[39m*\u001b[39m\u001b[39m4\u001b[39m\u001b[39m*\u001b[39m\u001b[39m3\u001b[39m, fit\u001b[39m=\u001b[39m\u001b[39m\"\u001b[39m\u001b[39minSample\u001b[39m\u001b[39m\"\u001b[39m, params\u001b[39m=\u001b[39mparams, barOnly\u001b[39m=\u001b[39m\u001b[39mTrue\u001b[39;00m))\u001b[39m.\u001b[39maddStoredAsset([\u001b[39m\"\u001b[39m\u001b[39mDOW\u001b[39m\u001b[39m\"\u001b[39m]))\n\u001b[1;32m     38\u001b[0m \u001b[39m# ML Model\u001b[39;00m\n\u001b[1;32m     39\u001b[0m \u001b[39m#p.addAsset(\u001b[39;00m\n\u001b[1;32m     40\u001b[0m \u001b[39m#    env.createDerivative(\u001b[39;00m\n\u001b[0;32m   (...)\u001b[0m\n\u001b[1;32m     47\u001b[0m \n\u001b[1;32m     48\u001b[0m \u001b[39m# Feed data into the portfolio\u001b[39;00m\n\u001b[0;32m---> 49\u001b[0m env\u001b[39m.\u001b[39;49mrefresh()\n",
      "File \u001b[0;32m~/Development/anaconda/envs/dev3.9/lib/python3.9/site-packages/tradeframework/api/core/tradeEnvironment.py:85\u001b[0m, in \u001b[0;36mTradeEnvironment.refresh\u001b[0;34m(self, idx)\u001b[0m\n\u001b[1;32m     82\u001b[0m \u001b[39mif\u001b[39;00m \u001b[39mnot\u001b[39;00m \u001b[39mself\u001b[39m\u001b[39m.\u001b[39mportfolio:\n\u001b[1;32m     83\u001b[0m     \u001b[39mraise\u001b[39;00m \u001b[39mException\u001b[39;00m(\u001b[39m'\u001b[39m\u001b[39mError: No portfolio has been configured for this environment.\u001b[39m\u001b[39m'\u001b[39m)\n\u001b[0;32m---> 85\u001b[0m \u001b[39mreturn\u001b[39;00m \u001b[39mself\u001b[39;49m\u001b[39m.\u001b[39;49mportfolio\u001b[39m.\u001b[39;49mrefresh(idx)\n",
      "File \u001b[0;32m~/Development/anaconda/envs/dev3.9/lib/python3.9/site-packages/tradeframework/api/core/derivative.py:78\u001b[0m, in \u001b[0;36mDerivative.refresh\u001b[0;34m(self, idx)\u001b[0m\n\u001b[1;32m     75\u001b[0m     \u001b[39mraise\u001b[39;00m \u001b[39mException\u001b[39;00m(\u001b[39m'\u001b[39m\u001b[39mError: No appendable assets for portfolio: \u001b[39m\u001b[39m'\u001b[39m, \u001b[39mself\u001b[39m\u001b[39m.\u001b[39mgetName())\n\u001b[1;32m     77\u001b[0m \u001b[39m# Update all children\u001b[39;00m\n\u001b[0;32m---> 78\u001b[0m [asset\u001b[39m.\u001b[39mrefresh(idx) \u001b[39mfor\u001b[39;00m asset \u001b[39min\u001b[39;00m \u001b[39mself\u001b[39m\u001b[39m.\u001b[39massets]\n\u001b[1;32m     80\u001b[0m \u001b[39m# Calculate portfolio allocation\u001b[39;00m\n\u001b[1;32m     81\u001b[0m weights \u001b[39m=\u001b[39m \u001b[39mself\u001b[39m\u001b[39m.\u001b[39mweightGenerator\u001b[39m.\u001b[39mgenerateWeights(\u001b[39mself\u001b[39m\u001b[39m.\u001b[39mweightedAssets, idx\u001b[39m=\u001b[39midx)\n",
      "File \u001b[0;32m~/Development/anaconda/envs/dev3.9/lib/python3.9/site-packages/tradeframework/api/core/derivative.py:78\u001b[0m, in \u001b[0;36m<listcomp>\u001b[0;34m(.0)\u001b[0m\n\u001b[1;32m     75\u001b[0m     \u001b[39mraise\u001b[39;00m \u001b[39mException\u001b[39;00m(\u001b[39m'\u001b[39m\u001b[39mError: No appendable assets for portfolio: \u001b[39m\u001b[39m'\u001b[39m, \u001b[39mself\u001b[39m\u001b[39m.\u001b[39mgetName())\n\u001b[1;32m     77\u001b[0m \u001b[39m# Update all children\u001b[39;00m\n\u001b[0;32m---> 78\u001b[0m [asset\u001b[39m.\u001b[39;49mrefresh(idx) \u001b[39mfor\u001b[39;00m asset \u001b[39min\u001b[39;00m \u001b[39mself\u001b[39m\u001b[39m.\u001b[39massets]\n\u001b[1;32m     80\u001b[0m \u001b[39m# Calculate portfolio allocation\u001b[39;00m\n\u001b[1;32m     81\u001b[0m weights \u001b[39m=\u001b[39m \u001b[39mself\u001b[39m\u001b[39m.\u001b[39mweightGenerator\u001b[39m.\u001b[39mgenerateWeights(\u001b[39mself\u001b[39m\u001b[39m.\u001b[39mweightedAssets, idx\u001b[39m=\u001b[39midx)\n",
      "File \u001b[0;32m~/Development/anaconda/envs/dev3.9/lib/python3.9/site-packages/tradeframework/api/core/derivative.py:81\u001b[0m, in \u001b[0;36mDerivative.refresh\u001b[0;34m(self, idx)\u001b[0m\n\u001b[1;32m     78\u001b[0m [asset\u001b[39m.\u001b[39mrefresh(idx) \u001b[39mfor\u001b[39;00m asset \u001b[39min\u001b[39;00m \u001b[39mself\u001b[39m\u001b[39m.\u001b[39massets]\n\u001b[1;32m     80\u001b[0m \u001b[39m# Calculate portfolio allocation\u001b[39;00m\n\u001b[0;32m---> 81\u001b[0m weights \u001b[39m=\u001b[39m \u001b[39mself\u001b[39;49m\u001b[39m.\u001b[39;49mweightGenerator\u001b[39m.\u001b[39;49mgenerateWeights(\u001b[39mself\u001b[39;49m\u001b[39m.\u001b[39;49mweightedAssets, idx\u001b[39m=\u001b[39;49midx)\n\u001b[1;32m     83\u001b[0m \u001b[39m# Update derivative state\u001b[39;00m\n\u001b[1;32m     84\u001b[0m \u001b[39mreturn\u001b[39;00m \u001b[39mself\u001b[39m\u001b[39m.\u001b[39mupdateState(weights, idx\u001b[39m=\u001b[39midx)\n",
      "File \u001b[0;32m~/Development/anaconda/envs/dev3.9/lib/python3.9/site-packages/tradeframework/api/core/model.py:20\u001b[0m, in \u001b[0;36mModel.generateWeights\u001b[0;34m(self, derivatives, idx)\u001b[0m\n\u001b[1;32m     19\u001b[0m \u001b[39mdef\u001b[39;00m \u001b[39mgenerateWeights\u001b[39m(\u001b[39mself\u001b[39m, derivatives, idx):\n\u001b[0;32m---> 20\u001b[0m     \u001b[39mreturn\u001b[39;00m [\n\u001b[1;32m     21\u001b[0m         \u001b[39mself\u001b[39m\u001b[39m.\u001b[39mgetSignals(\u001b[39mself\u001b[39m\u001b[39m.\u001b[39mgetWindow(derivative, idx), idx)\n\u001b[1;32m     22\u001b[0m         \u001b[39mfor\u001b[39;00m derivative \u001b[39min\u001b[39;00m derivatives\n\u001b[1;32m     23\u001b[0m     ]\n",
      "File \u001b[0;32m~/Development/anaconda/envs/dev3.9/lib/python3.9/site-packages/tradeframework/api/core/model.py:21\u001b[0m, in \u001b[0;36m<listcomp>\u001b[0;34m(.0)\u001b[0m\n\u001b[1;32m     19\u001b[0m \u001b[39mdef\u001b[39;00m \u001b[39mgenerateWeights\u001b[39m(\u001b[39mself\u001b[39m, derivatives, idx):\n\u001b[1;32m     20\u001b[0m     \u001b[39mreturn\u001b[39;00m [\n\u001b[0;32m---> 21\u001b[0m         \u001b[39mself\u001b[39;49m\u001b[39m.\u001b[39;49mgetSignals(\u001b[39mself\u001b[39;49m\u001b[39m.\u001b[39;49mgetWindow(derivative, idx), idx)\n\u001b[1;32m     22\u001b[0m         \u001b[39mfor\u001b[39;00m derivative \u001b[39min\u001b[39;00m derivatives\n\u001b[1;32m     23\u001b[0m     ]\n",
      "Cell \u001b[0;32mIn[117], line 34\u001b[0m, in \u001b[0;36mARIMA.getSignals\u001b[0;34m(self, window, idx)\u001b[0m\n\u001b[1;32m     29\u001b[0m \u001b[39mif\u001b[39;00m \u001b[39mself\u001b[39m\u001b[39m.\u001b[39mfit \u001b[39m==\u001b[39m \u001b[39m\"\u001b[39m\u001b[39minSample\u001b[39m\u001b[39m\"\u001b[39m \u001b[39mor\u001b[39;00m \u001b[39mself\u001b[39m\u001b[39m.\u001b[39mparams:\n\u001b[1;32m     30\u001b[0m     \n\u001b[1;32m     31\u001b[0m     \u001b[39m# For development and analysis purposes, get \"predictions\" of in-sample values\u001b[39;00m\n\u001b[1;32m     32\u001b[0m     model \u001b[39m=\u001b[39m sm\u001b[39m.\u001b[39mtsa\u001b[39m.\u001b[39marima\u001b[39m.\u001b[39mARIMA(window[\u001b[39m\"\u001b[39m\u001b[39mClose\u001b[39m\u001b[39m\"\u001b[39m]\u001b[39m.\u001b[39mvalues, order\u001b[39m=\u001b[39m(\u001b[39mself\u001b[39m\u001b[39m.\u001b[39mAR, \u001b[39mself\u001b[39m\u001b[39m.\u001b[39mI, \u001b[39mself\u001b[39m\u001b[39m.\u001b[39mMA))\n\u001b[0;32m---> 34\u001b[0m     \u001b[39mif\u001b[39;00m \u001b[39mself\u001b[39m\u001b[39m.\u001b[39mparams:\n\u001b[1;32m     35\u001b[0m         \u001b[39m# Re-use provided model paramaters\u001b[39;00m\n\u001b[1;32m     36\u001b[0m         \u001b[39mself\u001b[39m\u001b[39m.\u001b[39mresult \u001b[39m=\u001b[39m model\u001b[39m.\u001b[39mfilter(params\u001b[39m=\u001b[39m\u001b[39mself\u001b[39m\u001b[39m.\u001b[39mparams) \n\u001b[1;32m     37\u001b[0m     \u001b[39melse\u001b[39;00m:\n",
      "\u001b[0;31mValueError\u001b[0m: The truth value of an array with more than one element is ambiguous. Use a.any() or a.all()"
     ]
    }
   ],
   "source": [
    "env = SandboxEnvironment(\"TradeFair\", \"US/Eastern\")\n",
    "env.createAssets(marketData)\n",
    "\n",
    "p = env.createDerivative(\"MyPortfolio\", weightGenerator=env.createOptimizer(\"EqualWeightsOptimizer\"))\n",
    "env.setPortfolio(p)\n",
    "\n",
    "# Create baseline as an unweighted asset\n",
    "baseline = env.createDerivative(\"Baseline Signal\", weightGenerator=env.createModel(\"BuyAndHold\", opts={\"barOnly\": False}))\n",
    "baseline.addStoredAsset([\"DOW\"])\n",
    "p.addAsset(baseline, weighted=False)\n",
    "\n",
    "# Create baseline as an unweighted asset\n",
    "baseline2 = env.createDerivative(\"MaxReturn\", weightGenerator=env.createModel(\"MaxReturn\", opts={\"start\":\"19:00\", \"end\":\"20:00\", \"barOnly\": True}))\n",
    "baseline2.addStoredAsset([\"DOW\"])\n",
    "#p.addAsset(baseline2, weighted=False)\n",
    "\n",
    "# Create baseline as an unweighted asset\n",
    "baseline3 = env.createDerivative(\"MinReturn\", weightGenerator=env.createModel(\"MinReturn\", opts={\"start\":\"19:00\", \"end\":\"20:00\", \"barOnly\": True}))\n",
    "baseline3.addStoredAsset([\"DOW\"])\n",
    "#p.addAsset(baseline3, weighted=False)\n",
    "\n",
    "# BuyAndHold\n",
    "\"\"\" p.addAsset(\n",
    "    env.createDerivative(\n",
    "        \"BuyAndHold\", \n",
    "        weightGenerator=env.createModel(\n",
    "            \"BuyAndHold\", \n",
    "            #opts={\"start\":\"19:00\", \"end\":\"20:00\", \"barOnly\": True}\n",
    "            opts={\"barOnly\": False}\n",
    "        )).addStoredAsset([\"DOW\"]))\n",
    " \"\"\"\n",
    "# ARIMA\n",
    "p.addAsset(\n",
    "    env.createDerivative(\n",
    "        \"ARIMA\", \n",
    "        weightGenerator=ARIMA(env, AR=1, I=1, MA=3, window=24*5*4*3, fit=\"inSample\", params=params, barOnly=True)).addStoredAsset([\"DOW\"]))\n",
    "\n",
    "# ML Model\n",
    "#p.addAsset(\n",
    "#    env.createDerivative(\n",
    "#        \"mlmodel\", \n",
    "#        weightGenerator=env.createModel(\n",
    "#            \"MIBasicModel\", \n",
    "#            modelModule=\"tradeframework.models.remote\",\n",
    "#            opts={\"window\": 2, \"modelSvr\": modelsvr, \"secret\":\"marketinsights-k8s-cred\", \"trainingRunId\":\"mlmodel\", \"threshold\":0.8, \"barOnly\": True}\n",
    "#        )).addStoredAsset([\"DOW\"]))\n",
    "\n",
    "# Feed data into the portfolio\n",
    "env.refresh()\n"
   ]
  },
  {
   "cell_type": "code",
   "execution_count": 122,
   "metadata": {},
   "outputs": [],
   "source": [
    "params = p.assets[1].weightGenerator.result.params"
   ]
  },
  {
   "cell_type": "code",
   "execution_count": 5,
   "metadata": {
    "scrolled": false
   },
   "outputs": [
    {
     "name": "stdout",
     "output_type": "stream",
     "text": [
      "ARIMA:000, AIC:-6637.156677803146, MFE:4.994448498488629e-06, MAE:0.02606127092740817\n",
      "ARIMA:010, AIC:-5627.725325290887, MFE:-1.0305893466325581e-05, MAE:inf\n",
      "ARIMA:001, AIC:-6666.817417931898, MFE:5.595139401717496e-06, MAE:0.014954386072632275\n",
      "ARIMA:011, AIC:-6623.3385729805295, MFE:-3.19304278634448e-05, MAE:inf\n",
      "ARIMA:002, AIC:-6697.624774392927, MFE:3.0972943950108544e-06, MAE:0.002861757906411409\n",
      "ARIMA:012, AIC:-6652.670521750577, MFE:-3.608802341898233e-05, MAE:inf\n",
      "ARIMA:003, AIC:-6700.329892507509, MFE:3.701675092497706e-06, MAE:0.0012649778079308386\n",
      "ARIMA:013, AIC:-6683.902818299128, MFE:-2.9729979161456735e-05, MAE:inf\n",
      "ARIMA:004, AIC:-6698.730185626137, MFE:5.7932269145810806e-06, MAE:-0.0003906421279314114\n",
      "ARIMA:014, AIC:-6685.40858046805, MFE:-3.93152053227188e-05, MAE:inf\n",
      "ARIMA:100, AIC:-6676.372674410941, MFE:4.433966625642799e-06, MAE:-0.014132144914355414\n",
      "ARIMA:110, AIC:-6262.218145344214, MFE:-3.88998202450866e-06, MAE:inf\n",
      "ARIMA:101, AIC:-6683.247563334575, MFE:3.5935324696258446e-06, MAE:-0.037217771719963266\n",
      "ARIMA:111, AIC:-6662.189962782375, MFE:-3.567075680355744e-05, MAE:inf\n",
      "ARIMA:102, AIC:-6698.965472632646, MFE:5.135105899162529e-06, MAE:-0.09317122982853958\n",
      "ARIMA:112, AIC:-6628.381400403976, MFE:-3.801674510590245e-05, MAE:inf\n",
      "ARIMA:103, AIC:-6698.087612343286, MFE:5.250987194498177e-06, MAE:0.0015745411378497692\n",
      "ARIMA:113, AIC:-6663.41467033137, MFE:-6.065786427719707e-05, MAE:inf\n",
      "ARIMA:104, AIC:-6696.765374790456, MFE:5.540722972957595e-06, MAE:-0.006730638026769814\n",
      "ARIMA:114, AIC:-6699.963571093505, MFE:-5.368377178924112e-05, MAE:inf\n",
      "ARIMA:200, AIC:-6696.809473544813, MFE:3.248359453459211e-06, MAE:-0.004137329035526734\n",
      "ARIMA:210, AIC:-6387.500303145351, MFE:-4.367434080938258e-06, MAE:inf\n",
      "ARIMA:201, AIC:-6694.645221388706, MFE:4.0140412602031695e-06, MAE:0.001856873196831103\n",
      "ARIMA:211, AIC:-6682.864482857112, MFE:-2.9918508818391094e-05, MAE:inf\n",
      "ARIMA:202, AIC:-6699.190194751457, MFE:4.298788793458432e-06, MAE:-0.0197798351145026\n",
      "ARIMA:212, AIC:-6684.300799666953, MFE:-4.6096961335197516e-05, MAE:inf\n",
      "ARIMA:203, AIC:-6694.896398854262, MFE:-1.4455347235586172e-05, MAE:0.008756462358179734\n",
      "ARIMA:213, AIC:-6752.032096334695, MFE:-6.443858777924609e-05, MAE:inf\n",
      "ARIMA:204, AIC:-6695.102817528872, MFE:6.8657080408643934e-06, MAE:0.014364521855214266\n",
      "ARIMA:214, AIC:-6753.091096287159, MFE:-6.04016185865562e-05, MAE:inf\n",
      "ARIMA:300, AIC:-6695.179034313983, MFE:3.1118442844270297e-06, MAE:0.00013198269926382206\n",
      "ARIMA:310, AIC:-6411.548133954566, MFE:-3.813308163859796e-06, MAE:inf\n",
      "ARIMA:301, AIC:-6692.882852238704, MFE:4.526918363622988e-06, MAE:0.0029597636375052103\n",
      "ARIMA:311, AIC:-6681.28225428175, MFE:-2.9764440584185287e-05, MAE:inf\n",
      "ARIMA:302, AIC:-6764.1169098613445, MFE:-2.900852436778942e-05, MAE:-0.025516935345631733\n",
      "ARIMA:312, AIC:-6736.605845971597, MFE:-3.877004232074428e-05, MAE:inf\n",
      "ARIMA:303, AIC:-6695.09068778356, MFE:-1.2109991129026007e-06, MAE:0.0006536655513403785\n",
      "ARIMA:313, AIC:-6747.659461388502, MFE:-5.8017766812906484e-05, MAE:inf\n",
      "ARIMA:304, AIC:-6681.899981334121, MFE:1.6219006088907998e-05, MAE:0.0063420914411639745\n",
      "ARIMA:314, AIC:-6756.257378978464, MFE:-4.08298940198304e-05, MAE:inf\n",
      "ARIMA:400, AIC:-6706.1628356818655, MFE:5.736050664103791e-06, MAE:-0.00035558404700130464\n",
      "ARIMA:410, AIC:-6501.230637321306, MFE:-3.67473424166968e-06, MAE:inf\n",
      "ARIMA:401, AIC:-6703.1055466771995, MFE:5.828936832494628e-06, MAE:-0.006690654214043101\n",
      "ARIMA:411, AIC:-6683.2725094134275, MFE:-5.82265120856069e-05, MAE:inf\n",
      "ARIMA:402, AIC:-6718.514158506355, MFE:0.0013248866331429026, MAE:-1.0713077517299314\n",
      "ARIMA:412, AIC:-6744.006471763688, MFE:-5.840069821089752e-05, MAE:inf\n",
      "ARIMA:403, AIC:-6713.962615564564, MFE:-4.010679589481634e-05, MAE:-0.1346560323829771\n",
      "ARIMA:413, AIC:-6743.224552470143, MFE:-6.206718749276788e-05, MAE:inf\n",
      "ARIMA:404, AIC:-6759.003166975757, MFE:0.00012944805514482116, MAE:-0.11232353030090736\n",
      "ARIMA:414, AIC:-6752.7764077369575, MFE:-3.992568323474357e-05, MAE:inf\n",
      "\n",
      "Best Result was ARIMA(3, 0, 2) with an AIC of -6764.1169098613445\n"
     ]
    },
    {
     "data": {
      "image/png": "[encoded data removed]",
      "text/plain": [
       "<Figure size 1500x1000 with 5 Axes>"
      ]
     },
     "metadata": {},
     "output_type": "display_data"
    }
   ],
   "source": [
    "from tradeframework.api.insights import InsightManager\n",
    "import warnings\n",
    "warnings.filterwarnings(\"ignore\")\n",
    "\n",
    "im = InsightManager(p)\n",
    "im.addInsightGenerator(im.createInsightGenerator(\"ARIMAFit\", opts={\"series\":\"returns\"}))\n",
    "#im.addInsightGenerator(im.createInsightGenerator(\"AnalysisPlot\", opts={\"lags\":30}))\n",
    "#im.addInsightGenerator(im.createInsightGenerator(\"OHLCPlot\"))\n",
    "#im.addInsightGenerator(im.createInsightGenerator(\"PerfSummary\", opts={\"baseline\": p.assets[0], \"level\": .95, \"iterations\":10000}))\n",
    "#im.addInsightGenerator(im.createInsightGenerator(\"StatisticalTests\", opts={\"baseline\": p.assets[0], \"level\": .95, \"iterations\":10000}))\n",
    "    \n",
    "results = im.generateInsights()"
   ]
  },
  {
   "cell_type": "code",
   "execution_count": 12,
   "metadata": {},
   "outputs": [
    {
     "ename": "NameError",
     "evalue": "name 'tsplot' is not defined",
     "output_type": "error",
     "traceback": [
      "\u001b[0;31m---------------------------------------------------------------------------\u001b[0m",
      "\u001b[0;31mNameError\u001b[0m                                 Traceback (most recent call last)",
      "Cell \u001b[0;32mIn[12], line 2\u001b[0m\n\u001b[1;32m      1\u001b[0m results[\u001b[39m\"\u001b[39m\u001b[39mARIMAFit\u001b[39m\u001b[39m\"\u001b[39m]\u001b[39m.\u001b[39mresid\n\u001b[0;32m----> 2\u001b[0m tsplot(results[\u001b[39m\"\u001b[39m\u001b[39mARIMAFit\u001b[39m\u001b[39m\"\u001b[39m]\u001b[39m.\u001b[39mresid)\n",
      "\u001b[0;31mNameError\u001b[0m: name 'tsplot' is not defined"
     ]
    }
   ],
   "source": [
    "results[\"ARIMAFit\"].resid\n",
    "tsplot(results[\"ARIMAFit\"].resid)\n",
    "# TODO : Be able to add any ts to IM for tsplot\n",
    "#tsplot(p.assets[1].returns[\"Close\"])\n",
    "#array([ 1.,  1.,  1., -1.,  1.,  1., -1., -1.,  1.,  1.])\n",
    "#array([ 1.,  1.,  1., -1.,  1.,  1., -1., -1., -1.,  1.])"
   ]
  },
  {
   "cell_type": "code",
   "execution_count": 13,
   "metadata": {},
   "outputs": [
    {
     "data": {
      "text/html": [
       "<div>\n",
       "<style scoped>\n",
       "    .dataframe tbody tr th:only-of-type {\n",
       "        vertical-align: middle;\n",
       "    }\n",
       "\n",
       "    .dataframe tbody tr th {\n",
       "        vertical-align: top;\n",
       "    }\n",
       "\n",
       "    .dataframe thead th {\n",
       "        text-align: right;\n",
       "    }\n",
       "</style>\n",
       "<table border=\"1\" class=\"dataframe\">\n",
       "  <thead>\n",
       "    <tr style=\"text-align: right;\">\n",
       "      <th></th>\n",
       "      <th>0</th>\n",
       "      <th>1</th>\n",
       "      <th>2</th>\n",
       "      <th>3</th>\n",
       "      <th>4</th>\n",
       "      <th>5</th>\n",
       "      <th>6</th>\n",
       "      <th>7</th>\n",
       "      <th>8</th>\n",
       "      <th>9</th>\n",
       "      <th>y_pred0</th>\n",
       "    </tr>\n",
       "    <tr>\n",
       "      <th>Date_Time</th>\n",
       "      <th></th>\n",
       "      <th></th>\n",
       "      <th></th>\n",
       "      <th></th>\n",
       "      <th></th>\n",
       "      <th></th>\n",
       "      <th></th>\n",
       "      <th></th>\n",
       "      <th></th>\n",
       "      <th></th>\n",
       "      <th></th>\n",
       "    </tr>\n",
       "  </thead>\n",
       "  <tbody>\n",
       "    <tr>\n",
       "      <th>2018-08-02 15:00:00-04:00</th>\n",
       "      <td>0.111111</td>\n",
       "      <td>0.854167</td>\n",
       "      <td>0.000000</td>\n",
       "      <td>0.819444</td>\n",
       "      <td>0.805556</td>\n",
       "      <td>1.000000</td>\n",
       "      <td>0.319444</td>\n",
       "      <td>0.486111</td>\n",
       "      <td>0.284613</td>\n",
       "      <td>1.0</td>\n",
       "      <td>6.081961e-01</td>\n",
       "    </tr>\n",
       "    <tr>\n",
       "      <th>2018-08-03 15:00:00-04:00</th>\n",
       "      <td>0.367318</td>\n",
       "      <td>1.000000</td>\n",
       "      <td>0.132920</td>\n",
       "      <td>0.767032</td>\n",
       "      <td>0.767032</td>\n",
       "      <td>0.911863</td>\n",
       "      <td>0.000000</td>\n",
       "      <td>0.457361</td>\n",
       "      <td>0.082569</td>\n",
       "      <td>1.0</td>\n",
       "      <td>5.719656e-01</td>\n",
       "    </tr>\n",
       "    <tr>\n",
       "      <th>2018-08-06 15:00:00-04:00</th>\n",
       "      <td>0.806915</td>\n",
       "      <td>1.000000</td>\n",
       "      <td>0.026677</td>\n",
       "      <td>0.110852</td>\n",
       "      <td>0.112147</td>\n",
       "      <td>0.772727</td>\n",
       "      <td>0.000000</td>\n",
       "      <td>0.584823</td>\n",
       "      <td>0.302531</td>\n",
       "      <td>0.0</td>\n",
       "      <td>1.670068e-02</td>\n",
       "    </tr>\n",
       "    <tr>\n",
       "      <th>2018-08-07 15:00:00-04:00</th>\n",
       "      <td>0.739247</td>\n",
       "      <td>1.000000</td>\n",
       "      <td>0.000000</td>\n",
       "      <td>0.499866</td>\n",
       "      <td>0.496660</td>\n",
       "      <td>0.818595</td>\n",
       "      <td>0.189153</td>\n",
       "      <td>0.526583</td>\n",
       "      <td>0.145812</td>\n",
       "      <td>0.0</td>\n",
       "      <td>5.727510e-01</td>\n",
       "    </tr>\n",
       "    <tr>\n",
       "      <th>2018-08-08 15:00:00-04:00</th>\n",
       "      <td>0.258850</td>\n",
       "      <td>0.931969</td>\n",
       "      <td>0.000000</td>\n",
       "      <td>0.926438</td>\n",
       "      <td>0.926715</td>\n",
       "      <td>1.000000</td>\n",
       "      <td>0.621681</td>\n",
       "      <td>0.863938</td>\n",
       "      <td>0.141364</td>\n",
       "      <td>0.0</td>\n",
       "      <td>4.995912e-03</td>\n",
       "    </tr>\n",
       "    <tr>\n",
       "      <th>...</th>\n",
       "      <td>...</td>\n",
       "      <td>...</td>\n",
       "      <td>...</td>\n",
       "      <td>...</td>\n",
       "      <td>...</td>\n",
       "      <td>...</td>\n",
       "      <td>...</td>\n",
       "      <td>...</td>\n",
       "      <td>...</td>\n",
       "      <td>...</td>\n",
       "      <td>...</td>\n",
       "    </tr>\n",
       "    <tr>\n",
       "      <th>2023-03-13 15:00:00-04:00</th>\n",
       "      <td>0.291276</td>\n",
       "      <td>0.734563</td>\n",
       "      <td>0.000000</td>\n",
       "      <td>0.645286</td>\n",
       "      <td>0.644230</td>\n",
       "      <td>1.000000</td>\n",
       "      <td>0.583926</td>\n",
       "      <td>0.742167</td>\n",
       "      <td>0.889658</td>\n",
       "      <td>0.0</td>\n",
       "      <td>4.920740e-01</td>\n",
       "    </tr>\n",
       "    <tr>\n",
       "      <th>2023-03-14 15:00:00-04:00</th>\n",
       "      <td>0.930287</td>\n",
       "      <td>1.000000</td>\n",
       "      <td>0.156444</td>\n",
       "      <td>0.345516</td>\n",
       "      <td>0.345382</td>\n",
       "      <td>0.572711</td>\n",
       "      <td>0.000000</td>\n",
       "      <td>0.302435</td>\n",
       "      <td>0.929334</td>\n",
       "      <td>1.0</td>\n",
       "      <td>8.946470e-01</td>\n",
       "    </tr>\n",
       "    <tr>\n",
       "      <th>2023-03-15 15:00:00-04:00</th>\n",
       "      <td>0.036753</td>\n",
       "      <td>0.534095</td>\n",
       "      <td>0.000000</td>\n",
       "      <td>0.461735</td>\n",
       "      <td>0.474115</td>\n",
       "      <td>1.000000</td>\n",
       "      <td>0.309948</td>\n",
       "      <td>0.827428</td>\n",
       "      <td>1.471107</td>\n",
       "      <td>1.0</td>\n",
       "      <td>1.923854e-16</td>\n",
       "    </tr>\n",
       "    <tr>\n",
       "      <th>2023-03-16 15:00:00-04:00</th>\n",
       "      <td>0.564321</td>\n",
       "      <td>1.000000</td>\n",
       "      <td>0.432029</td>\n",
       "      <td>0.607390</td>\n",
       "      <td>0.609243</td>\n",
       "      <td>0.628671</td>\n",
       "      <td>0.000000</td>\n",
       "      <td>0.520973</td>\n",
       "      <td>0.553235</td>\n",
       "      <td>1.0</td>\n",
       "      <td>3.058062e-01</td>\n",
       "    </tr>\n",
       "    <tr>\n",
       "      <th>2023-03-17 15:00:00-04:00</th>\n",
       "      <td>0.685867</td>\n",
       "      <td>1.000000</td>\n",
       "      <td>0.567389</td>\n",
       "      <td>0.739625</td>\n",
       "      <td>0.748483</td>\n",
       "      <td>0.874525</td>\n",
       "      <td>0.000000</td>\n",
       "      <td>0.330030</td>\n",
       "      <td>0.775027</td>\n",
       "      <td>1.0</td>\n",
       "      <td>5.815974e-01</td>\n",
       "    </tr>\n",
       "  </tbody>\n",
       "</table>\n",
       "<p>1155 rows × 11 columns</p>\n",
       "</div>"
      ],
      "text/plain": [
       "                                  0         1         2         3         4  \\\n",
       "Date_Time                                                                     \n",
       "2018-08-02 15:00:00-04:00  0.111111  0.854167  0.000000  0.819444  0.805556   \n",
       "2018-08-03 15:00:00-04:00  0.367318  1.000000  0.132920  0.767032  0.767032   \n",
       "2018-08-06 15:00:00-04:00  0.806915  1.000000  0.026677  0.110852  0.112147   \n",
       "2018-08-07 15:00:00-04:00  0.739247  1.000000  0.000000  0.499866  0.496660   \n",
       "2018-08-08 15:00:00-04:00  0.258850  0.931969  0.000000  0.926438  0.926715   \n",
       "...                             ...       ...       ...       ...       ...   \n",
       "2023-03-13 15:00:00-04:00  0.291276  0.734563  0.000000  0.645286  0.644230   \n",
       "2023-03-14 15:00:00-04:00  0.930287  1.000000  0.156444  0.345516  0.345382   \n",
       "2023-03-15 15:00:00-04:00  0.036753  0.534095  0.000000  0.461735  0.474115   \n",
       "2023-03-16 15:00:00-04:00  0.564321  1.000000  0.432029  0.607390  0.609243   \n",
       "2023-03-17 15:00:00-04:00  0.685867  1.000000  0.567389  0.739625  0.748483   \n",
       "\n",
       "                                  5         6         7         8    9  \\\n",
       "Date_Time                                                                \n",
       "2018-08-02 15:00:00-04:00  1.000000  0.319444  0.486111  0.284613  1.0   \n",
       "2018-08-03 15:00:00-04:00  0.911863  0.000000  0.457361  0.082569  1.0   \n",
       "2018-08-06 15:00:00-04:00  0.772727  0.000000  0.584823  0.302531  0.0   \n",
       "2018-08-07 15:00:00-04:00  0.818595  0.189153  0.526583  0.145812  0.0   \n",
       "2018-08-08 15:00:00-04:00  1.000000  0.621681  0.863938  0.141364  0.0   \n",
       "...                             ...       ...       ...       ...  ...   \n",
       "2023-03-13 15:00:00-04:00  1.000000  0.583926  0.742167  0.889658  0.0   \n",
       "2023-03-14 15:00:00-04:00  0.572711  0.000000  0.302435  0.929334  1.0   \n",
       "2023-03-15 15:00:00-04:00  1.000000  0.309948  0.827428  1.471107  1.0   \n",
       "2023-03-16 15:00:00-04:00  0.628671  0.000000  0.520973  0.553235  1.0   \n",
       "2023-03-17 15:00:00-04:00  0.874525  0.000000  0.330030  0.775027  1.0   \n",
       "\n",
       "                                y_pred0  \n",
       "Date_Time                                \n",
       "2018-08-02 15:00:00-04:00  6.081961e-01  \n",
       "2018-08-03 15:00:00-04:00  5.719656e-01  \n",
       "2018-08-06 15:00:00-04:00  1.670068e-02  \n",
       "2018-08-07 15:00:00-04:00  5.727510e-01  \n",
       "2018-08-08 15:00:00-04:00  4.995912e-03  \n",
       "...                                 ...  \n",
       "2023-03-13 15:00:00-04:00  4.920740e-01  \n",
       "2023-03-14 15:00:00-04:00  8.946470e-01  \n",
       "2023-03-15 15:00:00-04:00  1.923854e-16  \n",
       "2023-03-16 15:00:00-04:00  3.058062e-01  \n",
       "2023-03-17 15:00:00-04:00  5.815974e-01  \n",
       "\n",
       "[1155 rows x 11 columns]"
      ]
     },
     "execution_count": 13,
     "metadata": {},
     "output_type": "execute_result"
    }
   ],
   "source": [
    "predictions = assembly.get_predictions_with_raw_data(marketData.xs(\"DOW\"), training_id=\"mlmodel\")\n",
    "predictions"
   ]
  },
  {
   "cell_type": "code",
   "execution_count": 17,
   "metadata": {},
   "outputs": [
    {
     "name": "stdout",
     "output_type": "stream",
     "text": [
      "Won : 576.0\n",
      "Lost : 579.0\n",
      "Total : 1155.0\n",
      "Diff : -3.0\n",
      "Edge : -0.2597402597402597%\n",
      "IR : -0.08827348\n"
     ]
    },
    {
     "data": {
      "text/plain": [
       "0.4987013"
      ]
     },
     "execution_count": 17,
     "metadata": {},
     "output_type": "execute_result"
    }
   ],
   "source": [
    "mlutils.evaluate(ppl.onehot(predictions[[\"y_pred0\"]].values), ppl.onehot(predictions[[9]].values), threshold=0.5)"
   ]
  },
  {
   "cell_type": "code",
   "execution_count": 18,
   "metadata": {},
   "outputs": [
    {
     "name": "stdout",
     "output_type": "stream",
     "text": [
      "Won : 562.0\n",
      "Lost : 593.0\n",
      "Total : 1155.0\n",
      "Diff : -31.0\n",
      "Edge : -2.683982683982684%\n",
      "IR : -0.91215926\n"
     ]
    },
    {
     "data": {
      "text/plain": [
       "0.48658007"
      ]
     },
     "execution_count": 18,
     "metadata": {},
     "output_type": "execute_result"
    }
   ],
   "source": [
    "mlutils.evaluate(ppl.onehot(np.ones(predictions[[9]].values.shape)), ppl.onehot(predictions[[9]].values), threshold=0.5)"
   ]
  },
  {
   "cell_type": "code",
   "execution_count": 117,
   "metadata": {},
   "outputs": [],
   "source": [
    "import pandas as pd\n",
    "import numpy as np\n",
    "from tradeframework.api.core import Model\n",
    "import statsmodels.api as sm\n",
    "from typing import Literal\n",
    "from tqdm import tqdm\n",
    "\n",
    "\n",
    "class ARIMA(Model):\n",
    "    \"\"\"Creates a predictive model based on an ARIMA timeseries model\"\"\"\n",
    "\n",
    "    def __init__(self, env, AR=0, I=0, MA=0, window=1000, fit: Literal[\"fitAll\", \"fitWindow\", \"fitOnce\", \"inSample\"] = \"inSample\", params=None, barOnly=True):\n",
    "        Model.__init__(self, env, window)\n",
    "        self.AR = AR\n",
    "        self.I = I\n",
    "        self.MA = MA\n",
    "        self.fit = fit\n",
    "        self.params = params\n",
    "        self.barOnly = barOnly\n",
    "\n",
    "    def getSignals(self, window, idx=0):\n",
    "\n",
    "        signals = pd.DataFrame(\n",
    "            np.zeros((len(window), 2)),\n",
    "            index=window.index,\n",
    "            columns=[\"bar\", \"gap\"],\n",
    "        )\n",
    "\n",
    "        if self.fit == \"inSample\" or self.params is not None:\n",
    "            \n",
    "            # For development and analysis purposes, get \"predictions\" of in-sample values\n",
    "            model = sm.tsa.arima.ARIMA(window[\"Close\"].values, order=(self.AR, self.I, self.MA))\n",
    "            \n",
    "            if self.params is not None:\n",
    "                # Re-use provided model paramaters\n",
    "                self.result = model.filter(params=self.params) \n",
    "            else:\n",
    "                self.result = model.fit()\n",
    "\n",
    "            predictions = self.result.predict(start=0, end=len(window)-1)\n",
    "                \n",
    "            predictionSignals = np.sign(\n",
    "                predictions - window[\"Close\"].shift().values\n",
    "            )\n",
    "\n",
    "            predictionSignals = pd.DataFrame(\n",
    "                np.array([predictionSignals, predictionSignals]).T,\n",
    "                index=window.index,\n",
    "                columns=[\"bar\", \"gap\"],\n",
    "            )\n",
    "            \n",
    "        elif len(window) > self.window:\n",
    "\n",
    "            dataLen = len(window) - self.window\n",
    "            res = sm.tsa.arima.ARIMA(\n",
    "                window[: self.window][\"Close\"].values, order=(self.AR, self.I, self.MA)\n",
    "            ).fit()\n",
    "            \n",
    "            if self.fit == \"fitOnce\":            \n",
    "\n",
    "                # Fit to an initial window, then predict all based on fitted model.\n",
    "                res = res.append(window[self.window:][\"Close\"].values)    \n",
    "                predictions = res.predict(start=self.window, end=len(window)-1)\n",
    "                    \n",
    "            else:\n",
    "                predictions = np.array([res.forecast()[0]])\n",
    "\n",
    "                for i in tqdm(range(1, dataLen)):\n",
    "                    if self.fit == \"fitAll\":\n",
    "                        # Fit to an ever increasing window and predict next step\n",
    "\n",
    "                        predictions = np.array([res.forecast()[0]])\n",
    "                        res = res.append(\n",
    "                            window[self.window + i - 1 : self.window + i][\"Close\"].values,\n",
    "                            refit=True\n",
    "                        )\n",
    "                    elif self.fit == \"fitWindow\":\n",
    "                        # Fit to an rolling window and predict next step\n",
    "                        res = sm.tsa.arima.ARIMA(\n",
    "                            window[i:i+self.window][\"Close\"].values, order=(self.AR, self.I, self.MA)\n",
    "                        ).fit()\n",
    "                        \n",
    "                    predictions = np.append(predictions, res.forecast()[0])\n",
    "\n",
    "            predictionSignals = np.sign(\n",
    "                predictions - window[self.window - 1 : -1][\"Close\"].values\n",
    "            )\n",
    "\n",
    "            predictionSignals = pd.DataFrame(\n",
    "                np.array([predictionSignals, predictionSignals]).T,\n",
    "                index=window[self.window :].index,\n",
    "                columns=[\"bar\", \"gap\"],\n",
    "            )\n",
    "\n",
    "        if self.barOnly:\n",
    "            predictionSignals[\"gap\"] = 0\n",
    "\n",
    "        signals.update(predictionSignals)\n",
    "\n",
    "        return signals[idx:]\n"
   ]
  },
  {
   "cell_type": "code",
   "execution_count": 33,
   "metadata": {},
   "outputs": [
    {
     "data": {
      "text/plain": [
       "array([ 1.,  1.,  1., -1.,  1.,  1., -1., -1., -1.,  1.])"
      ]
     },
     "execution_count": 33,
     "metadata": {},
     "output_type": "execute_result"
    }
   ],
   "source": [
    "import statsmodels.api as sm\n",
    "x = marketData.xs(\"DOW\")\n",
    "window = 9498#24*5*4*3\n",
    "x = x.iloc[-window-100:]\n",
    "r = len(x) - window\n",
    "predictions = np.array([sm.tsa.arima.ARIMA(x[i:i+window][\"Close\"].values, order=(3, 1, 5)).fit().forecast()[0] for i in range(r)])\n",
    "signals = np.sign(predictions - x[window-1:-1][\"Close\"].values)\n",
    "signals"
   ]
  },
  {
   "cell_type": "code",
   "execution_count": 238,
   "metadata": {},
   "outputs": [
    {
     "name": "stderr",
     "output_type": "stream",
     "text": [
      "/home/cwilkin/Development/anaconda/envs/dev3.9/lib/python3.9/site-packages/statsmodels/base/model.py:604: ConvergenceWarning: Maximum Likelihood optimization failed to converge. Check mle_retvals\n",
      "  warnings.warn(\"Maximum Likelihood optimization failed to \"\n"
     ]
    },
    {
     "data": {
      "text/plain": [
       "array([-1.,  1.,  1., -1., -1.,  1., -1., -1.,  1.,  1., -1., -1.,  1.,\n",
       "        1., -1., -1.,  1.,  1., -1., -1.,  1.,  1., -1., -1., -1.,  1.,\n",
       "       -1., -1., -1.,  1.,  1., -1., -1.,  1.,  1., -1., -1.,  1., -1.,\n",
       "       -1., -1.,  1., -1., -1.,  1.,  1., -1., -1.,  1.,  1., -1., -1.,\n",
       "        1.,  1., -1., -1.,  1.,  1., -1., -1.,  1.,  1., -1., -1.,  1.,\n",
       "        1., -1., -1.,  1.,  1., -1., -1.,  1.,  1., -1., -1.,  1.,  1.,\n",
       "       -1., -1.,  1.,  1., -1., -1.,  1.,  1., -1.,  1., -1.,  1., -1.,\n",
       "        1., -1., -1., -1.,  1., -1., -1., -1.,  1., -1., -1.,  1., -1.,\n",
       "       -1.,  1.,  1., -1., -1.,  1.,  1., -1., -1.,  1., -1.,  1., -1.,\n",
       "        1., -1., -1., -1.,  1., -1., -1., -1.,  1., -1., -1.,  1.,  1.,\n",
       "        1., -1.,  1.,  1.,  1., -1.,  1.,  1., -1., -1.,  1.,  1., -1.,\n",
       "       -1.,  1.,  1., -1., -1.,  1.,  1., -1., -1.,  1.,  1., -1.,  1.,\n",
       "        1.,  1., -1., -1.,  1.,  1., -1., -1.,  1., -1., -1.,  1.,  1.,\n",
       "       -1., -1.,  1.,  1., -1., -1.,  1.,  1., -1., -1.,  1.,  1., -1.,\n",
       "       -1.,  1., -1., -1.,  1.,  1., -1., -1.,  1.,  1., -1., -1.,  1.,\n",
       "        1.,  1., -1.,  1.,  1., -1., -1.,  1.,  1., -1., -1.,  1.,  1.,\n",
       "       -1., -1.,  1.,  1., -1., -1.,  1.,  1., -1., -1.,  1.,  1., -1.,\n",
       "       -1.,  1., -1., -1.,  1.,  1., -1., -1.,  1.,  1., -1., -1.,  1.,\n",
       "        1., -1., -1.,  1.,  1., -1., -1., -1.,  1., -1., -1.,  1.,  1.,\n",
       "       -1., -1.,  1.,  1., -1., -1.,  1.,  1., -1., -1.,  1.,  1., -1.,\n",
       "       -1.,  1.,  1., -1., -1.,  1., -1., -1., -1.,  1.,  1., -1.,  1.,\n",
       "        1., -1., -1.,  1.,  1., -1., -1.,  1.,  1., -1., -1.,  1.,  1.,\n",
       "       -1., -1.,  1.,  1., -1., -1.,  1.,  1., -1., -1.,  1.,  1., -1.,\n",
       "       -1.,  1.,  1., -1., -1.,  1.,  1., -1., -1.,  1.,  1., -1., -1.,\n",
       "        1.,  1., -1., -1.,  1.,  1., -1., -1.,  1.,  1., -1.,  1.,  1.,\n",
       "       -1., -1.,  1.,  1., -1., -1.,  1.,  1., -1., -1.,  1.,  1., -1.,\n",
       "        1.,  1., -1., -1.,  1.,  1., -1., -1.,  1.,  1., -1., -1.,  1.,\n",
       "        1.,  1., -1.,  1., -1., -1., -1.,  1., -1., -1., -1.,  1.,  1.,\n",
       "       -1., -1.,  1., -1., -1.,  1.,  1., -1., -1.,  1.,  1., -1., -1.,\n",
       "        1.,  1., -1., -1.,  1.,  1., -1., -1.,  1.,  1., -1., -1.,  1.,\n",
       "        1., -1., -1.,  1.,  1., -1.,  1.,  1.,  1., -1.,  1.,  1., -1.,\n",
       "       -1.,  1.,  1., -1., -1.,  1.,  1., -1., -1.,  1., -1., -1., -1.,\n",
       "        1., -1., -1.,  1.,  1., -1., -1., -1.,  1., -1., -1.,  1.,  1.,\n",
       "       -1., -1.,  1., -1., -1., -1.,  1., -1., -1., -1.,  1., -1., -1.,\n",
       "        1.,  1., -1., -1.,  1.,  1., -1., -1.,  1.,  1., -1., -1.,  1.,\n",
       "        1., -1., -1.,  1.,  1., -1., -1.,  1.,  1., -1., -1.,  1.,  1.,\n",
       "       -1., -1.,  1.,  1., -1.,  1.,  1., -1., -1.,  1.,  1., -1., -1.,\n",
       "        1.,  1., -1., -1.,  1.,  1., -1., -1.,  1.,  1., -1., -1.,  1.,\n",
       "        1., -1.,  1.,  1.,  1., -1., -1.,  1., -1.,  1., -1.,  1., -1.,\n",
       "        1.,  1.,  1., -1.,  1.,  1., -1., -1.,  1.,  1., -1., -1.,  1.,\n",
       "        1., -1., -1.,  1., -1.,  1., -1.,  1., -1., -1., -1.,  1., -1.,\n",
       "       -1., -1.,  1., -1., -1.,  1.,  1., -1., -1.,  1.,  1., -1., -1.,\n",
       "        1., -1., -1., -1.,  1., -1., -1.,  1.,  1., -1., -1., -1.,  1.,\n",
       "       -1., -1.,  1.,  1., -1., -1.,  1.,  1., -1., -1.,  1.,  1., -1.,\n",
       "        1.,  1., -1., -1.,  1.,  1., -1., -1.,  1.,  1., -1., -1.,  1.,\n",
       "        1., -1., -1.,  1.,  1., -1., -1.,  1.,  1., -1., -1.,  1.,  1.,\n",
       "       -1., -1.,  1.,  1., -1., -1.,  1.,  1., -1.,  1.,  1., -1., -1.,\n",
       "        1.,  1., -1., -1.,  1.,  1., -1., -1.,  1.,  1., -1., -1.,  1.,\n",
       "        1., -1., -1.,  1.,  1., -1., -1.,  1.,  1., -1., -1.,  1.,  1.,\n",
       "       -1., -1.,  1.,  1., -1., -1.,  1.,  1., -1., -1.,  1.,  1., -1.,\n",
       "       -1.,  1., -1., -1.,  1.,  1., -1., -1.,  1.,  1.,  1., -1.,  1.,\n",
       "        1., -1., -1.,  1.,  1., -1.,  1.,  1.,  1., -1., -1.,  1.,  1.,\n",
       "       -1., -1.,  1.,  1., -1., -1.,  1.,  1., -1., -1.,  1.,  1., -1.,\n",
       "       -1.,  1., -1., -1., -1.,  1., -1., -1.,  1.,  1., -1., -1.,  1.,\n",
       "        1., -1., -1.,  1.,  1., -1., -1.,  1.,  1., -1., -1.,  1.,  1.,\n",
       "       -1., -1.,  1.,  1., -1., -1.,  1., -1., -1.,  1.,  1.,  1., -1.,\n",
       "        1.,  1., -1.,  1., -1.,  1., -1.,  1.,  1., -1., -1., -1.,  1.,\n",
       "       -1., -1., -1.,  1.,  1., -1., -1.,  1.,  1., -1., -1.,  1., -1.,\n",
       "       -1., -1.,  1.,  1., -1., -1.,  1., -1.,  1., -1.,  1.,  1., -1.,\n",
       "       -1.,  1.,  1., -1., -1.,  1., -1., -1., -1.,  1.,  1., -1.,  1.,\n",
       "        1., -1., -1.,  1.,  1., -1., -1.,  1.,  1., -1., -1.,  1.,  1.,\n",
       "       -1., -1.,  1.,  1., -1., -1.,  1.,  1., -1., -1.,  1.,  1., -1.,\n",
       "       -1., -1.,  1., -1., -1.,  1., -1.,  1., -1.,  1., -1.,  1., -1.,\n",
       "        1., -1.,  1., -1.,  1., -1.,  1.,  1., -1.,  1.,  1.,  1., -1.,\n",
       "       -1.,  1., -1.,  1.,  1.,  1., -1.,  1.,  1.,  1., -1., -1.,  1.,\n",
       "        1., -1., -1.,  1.,  1., -1., -1.,  1.,  1., -1.,  1.,  1., -1.,\n",
       "       -1., -1.,  1., -1., -1., -1.,  1.,  1., -1., -1.,  1., -1., -1.,\n",
       "        1.,  1., -1., -1.,  1.,  1., -1., -1.,  1.,  1., -1., -1.,  1.,\n",
       "        1., -1., -1.,  1.,  1., -1., -1.,  1.,  1., -1., -1.,  1.,  1.,\n",
       "       -1., -1.,  1.,  1., -1., -1.,  1.,  1., -1.,  1.,  1., -1., -1.,\n",
       "        1.,  1., -1., -1.,  1.,  1., -1., -1.,  1.,  1., -1., -1.,  1.,\n",
       "        1., -1., -1.,  1.,  1., -1.,  1.,  1., -1., -1.,  1.,  1., -1.,\n",
       "       -1.,  1.,  1., -1., -1.,  1.,  1., -1., -1.,  1.,  1., -1., -1.,\n",
       "        1., -1., -1., -1.,  1., -1., -1., -1.,  1., -1., -1., -1.,  1.,\n",
       "       -1., -1.,  1.,  1.,  1., -1.,  1.,  1.,  1., -1.,  1.,  1., -1.,\n",
       "       -1.,  1.,  1., -1., -1.,  1.,  1., -1., -1.,  1.,  1., -1., -1.,\n",
       "        1.,  1., -1., -1.,  1.,  1., -1., -1.,  1., -1., -1.,  1.])"
      ]
     },
     "execution_count": 238,
     "metadata": {},
     "output_type": "execute_result"
    }
   ],
   "source": [
    "import statsmodels.api as sm\n",
    "x = marketData.xs(\"DOW\")\n",
    "window = 24*5*4*3\n",
    "x = x.iloc[-window-1000:]\n",
    "r = len(x) - window\n",
    "params = sm.tsa.arima.ARIMA(x[:window][\"Close\"].values, order=(3, 1, 5)).fit().params\n",
    "predictions = np.array([sm.tsa.arima.ARIMA(x[i:i+window][\"Close\"].values, order=(3, 1, 5)).filter(params).forecast()[0] for i in range(r)])\n",
    "signals = np.sign(predictions - x[window-1:-1][\"Close\"].values)\n",
    "signals"
   ]
  },
  {
   "cell_type": "code",
   "execution_count": 280,
   "metadata": {},
   "outputs": [
    {
     "data": {
      "text/plain": [
       "array([ 1.,  1., -1., -1., -1.,  1.,  1., -1., -1.,  1.])"
      ]
     },
     "execution_count": 280,
     "metadata": {},
     "output_type": "execute_result"
    }
   ],
   "source": [
    "import statsmodels.api as sm\n",
    "x = marketData.xs(\"DOW\")\n",
    "window = 24*5*4*3\n",
    "x = x.iloc[-window-10:]\n",
    "r = len(x) - window\n",
    "res = sm.tsa.arima.ARIMA(x[:window][\"Close\"].values, order=(3, 1, 5)).fit()\n",
    "predictions = np.array([res.apply(x[i:i+window][\"Close\"].values, refit=True).forecast()[0] for i in range(r)])\n",
    "signals = np.sign(predictions - x[window-1:-1][\"Close\"].values)\n",
    "signals"
   ]
  },
  {
   "cell_type": "code",
   "execution_count": 290,
   "metadata": {},
   "outputs": [
    {
     "name": "stderr",
     "output_type": "stream",
     "text": [
      "/home/cwilkin/Development/anaconda/envs/dev3.9/lib/python3.9/site-packages/statsmodels/base/model.py:604: ConvergenceWarning: Maximum Likelihood optimization failed to converge. Check mle_retvals\n",
      "  warnings.warn(\"Maximum Likelihood optimization failed to \"\n",
      "/home/cwilkin/Development/anaconda/envs/dev3.9/lib/python3.9/site-packages/statsmodels/base/model.py:604: ConvergenceWarning: Maximum Likelihood optimization failed to converge. Check mle_retvals\n",
      "  warnings.warn(\"Maximum Likelihood optimization failed to \"\n"
     ]
    },
    {
     "data": {
      "text/plain": [
       "array([-1., -1.,  1., -1.,  1., -1., -1.,  1., -1.,  1.,  1., -1., -1.,\n",
       "        1.,  1.,  1., -1., -1.,  1.,  1.,  1., -1., -1., -1.,  1.,  1.,\n",
       "       -1.,  1.,  1., -1., -1.,  1.,  1.,  1., -1., -1.,  1.,  1., -1.,\n",
       "        1.,  1., -1., -1., -1.,  1.,  1.,  1.,  1., -1.,  1., -1., -1.,\n",
       "        1.,  1.,  1., -1.,  1., -1.,  1.,  1., -1., -1., -1., -1.,  1.,\n",
       "        1., -1.,  1.,  1.,  1., -1., -1.,  1.,  1., -1., -1.,  1.,  1.,\n",
       "       -1.,  1., -1., -1.,  1., -1., -1.,  1.,  1., -1., -1., -1.,  1.,\n",
       "        1.,  1., -1., -1.,  1.,  1.,  1., -1., -1.])"
      ]
     },
     "execution_count": 290,
     "metadata": {},
     "output_type": "execute_result"
    }
   ],
   "source": [
    "import statsmodels.api as sm\n",
    "x = marketData.xs(\"DOW\")\n",
    "window = 24*5*4*3\n",
    "x = x.iloc[-window-100:]\n",
    "r = len(x) - window\n",
    "res = sm.tsa.arima.ARIMA(x[:window][\"Close\"].values, order=(3, 1, 5)).fit()\n",
    "#print(x[:window][\"Close\"].values)\n",
    "predictions = np.array([res.forecast()[0]])\n",
    "for i in range(1, r):\n",
    "    res = res.append(x[window+i-1:window+i][\"Close\"].values, refit=True)\n",
    "    #print(x[window+i-1:window+i][\"Close\"].values)\n",
    "    predictions = np.append(predictions, res.forecast()[0])\n",
    "signals = np.sign(predictions - x[window-1:-1][\"Close\"].values)\n",
    "signals"
   ]
  },
  {
   "cell_type": "code",
   "execution_count": 62,
   "metadata": {},
   "outputs": [
    {
     "ename": "ValueError",
     "evalue": "operands could not be broadcast together with shapes (10,) (8068,) ",
     "output_type": "error",
     "traceback": [
      "\u001b[0;31m---------------------------------------------------------------------------\u001b[0m",
      "\u001b[0;31mValueError\u001b[0m                                Traceback (most recent call last)",
      "Cell \u001b[0;32mIn[62], line 9\u001b[0m\n\u001b[1;32m      7\u001b[0m \u001b[39m#print(x[:window][\"Close\"].values)\u001b[39;00m\n\u001b[1;32m      8\u001b[0m predictions \u001b[39m=\u001b[39m res\u001b[39m.\u001b[39mpredict(start\u001b[39m=\u001b[39m\u001b[39mlen\u001b[39m(x)\u001b[39m-\u001b[39m\u001b[39m10\u001b[39m, end\u001b[39m=\u001b[39m\u001b[39mlen\u001b[39m(x)\u001b[39m-\u001b[39m\u001b[39m1\u001b[39m)\n\u001b[0;32m----> 9\u001b[0m signals \u001b[39m=\u001b[39m np\u001b[39m.\u001b[39msign(predictions \u001b[39m-\u001b[39;49m x[window\u001b[39m-\u001b[39;49m\u001b[39m1\u001b[39;49m:\u001b[39m-\u001b[39;49m\u001b[39m1\u001b[39;49m][\u001b[39m\"\u001b[39;49m\u001b[39mClose\u001b[39;49m\u001b[39m\"\u001b[39;49m]\u001b[39m.\u001b[39;49mvalues)\n\u001b[1;32m     10\u001b[0m signals\n",
      "\u001b[0;31mValueError\u001b[0m: operands could not be broadcast together with shapes (10,) (8068,) "
     ]
    }
   ],
   "source": [
    "import statsmodels.api as sm\n",
    "x = marketData.xs(\"DOW\")\n",
    "#window = 24*5*4*3\n",
    "#x = x.iloc[-10:]\n",
    "#r = len(x) - window\n",
    "res = sm.tsa.arima.ARIMA(x[\"Close\"].values, order=(3, 1, 5)).fit()\n",
    "#print(x[:window][\"Close\"].values)\n",
    "predictions = res.predict(start=len(x)-10, end=len(x)-1)\n",
    "signals = np.sign(predictions - x[window-1:-1][\"Close\"].values)\n",
    "signals"
   ]
  },
  {
   "cell_type": "code",
   "execution_count": 190,
   "metadata": {},
   "outputs": [
    {
     "name": "stderr",
     "output_type": "stream",
     "text": [
      "/home/cwilkin/Development/anaconda/envs/dev3.9/lib/python3.9/site-packages/statsmodels/base/model.py:604: ConvergenceWarning: Maximum Likelihood optimization failed to converge. Check mle_retvals\n",
      "  warnings.warn(\"Maximum Likelihood optimization failed to \"\n"
     ]
    },
    {
     "data": {
      "text/plain": [
       "array([ 1., -1., -1., -1., -1., -1.,  1., -1.,  1., -1.])"
      ]
     },
     "execution_count": 190,
     "metadata": {},
     "output_type": "execute_result"
    }
   ],
   "source": [
    "import statsmodels.api as sm\n",
    "y = marketData.xs(\"DOW\")\n",
    "window = 24*5*4*3\n",
    "x = y.iloc[-window-10:]\n",
    "r = len(x) - window\n",
    "res = sm.tsa.arima.ARIMA(x[:window][\"Close\"].values, order=(3, 1, 5)).fit()\n",
    "#print(x[:window][\"Close\"].values)\n",
    "predictions = np.array([res.forecast()[0]])\n",
    "for i in range(1, r):\n",
    "    res = res.extend(x[window+i-1:window+i][\"Close\"].values)\n",
    "    #print(x[window+i-1:window+i][\"Close\"].values)\n",
    "    predictions = np.append(predictions, res.forecast()[0])\n",
    "signals = np.sign(predictions - x[window-1:-1][\"Close\"].values)\n",
    "signals"
   ]
  },
  {
   "cell_type": "code",
   "execution_count": 112,
   "metadata": {},
   "outputs": [
    {
     "name": "stderr",
     "output_type": "stream",
     "text": [
      "/home/cwilkin/Development/anaconda/envs/dev3.9/lib/python3.9/site-packages/statsmodels/base/model.py:604: ConvergenceWarning: Maximum Likelihood optimization failed to converge. Check mle_retvals\n",
      "  warnings.warn(\"Maximum Likelihood optimization failed to \"\n"
     ]
    },
    {
     "data": {
      "text/plain": [
       "array([ 1., -1.,  1., -1., -1.,  1., -1.,  1., -1., -1.])"
      ]
     },
     "execution_count": 112,
     "metadata": {},
     "output_type": "execute_result"
    }
   ],
   "source": [
    "import statsmodels.api as sm\n",
    "y = marketData.xs(\"DOW\")\n",
    "window = 24*5*4*3\n",
    "x = y.iloc[-window-10:]\n",
    "r = len(x) - window\n",
    "res = sm.tsa.arima.ARIMA(x[:window][\"Close\"].values, order=(4,1,3)).fit()\n",
    "#print(x[:window][\"Close\"].values)\n",
    "#predictions2 = np.array([res.forecast()[0]])\n",
    "\n",
    "result = res.append(x[window:][\"Close\"].values)\n",
    "    #print(x[window+i-1:window+i][\"Close\"].values)\n",
    "predictions2 = result.predict(start=len(x)-10, end=len(x)-1)\n",
    "signals2 = np.sign(predictions2 - x[window-1:-1][\"Close\"].values)\n",
    "signals2"
   ]
  },
  {
   "cell_type": "code",
   "execution_count": 106,
   "metadata": {},
   "outputs": [
    {
     "data": {
      "text/plain": [
       "array([32245.82203025, 32247.70379636, 32247.58775146, 32007.59730162,\n",
       "       31851.92708551, 31808.49112529, 31901.06410835, 31912.91038558,\n",
       "       31809.23428615, 31860.44674748])"
      ]
     },
     "execution_count": 106,
     "metadata": {},
     "output_type": "execute_result"
    }
   ],
   "source": [
    "predictions2"
   ]
  },
  {
   "cell_type": "code",
   "execution_count": 73,
   "metadata": {},
   "outputs": [],
   "source": [
    "mod = sm.tsa.arima.ARIMA(x[1:][\"Close\"].values, order=(1, 1, 0)).filter(res.params)\n",
    "result.initialize(mod, res.params)"
   ]
  },
  {
   "cell_type": "code",
   "execution_count": 107,
   "metadata": {},
   "outputs": [],
   "source": [
    "mod = sm.tsa.arima.ARIMA(x[window:][\"Close\"].values, order=(1, 1, 0))\n",
    "res2 = mod.filter(res.params)\n",
    "#res2.initialize(mod, params=res.params)"
   ]
  },
  {
   "cell_type": "code",
   "execution_count": 108,
   "metadata": {},
   "outputs": [
    {
     "data": {
      "text/plain": [
       "array([    0.        , 32257.63030248, 32247.58775146, 32007.59730162,\n",
       "       31851.92708551, 31808.49112529, 31901.06410835, 31912.91038558,\n",
       "       31809.23428615, 31860.44674748])"
      ]
     },
     "execution_count": 108,
     "metadata": {},
     "output_type": "execute_result"
    }
   ],
   "source": [
    "res2.predict()"
   ]
  },
  {
   "cell_type": "code",
   "execution_count": 109,
   "metadata": {},
   "outputs": [
    {
     "data": {
      "text/plain": [
       "array([    0.        , 32257.63030248, 32247.58775146, 32007.59730162,\n",
       "       31851.92708551, 31808.49112529, 31901.06410835, 31912.91038558,\n",
       "       31809.23428615, 31860.44674748])"
      ]
     },
     "execution_count": 109,
     "metadata": {},
     "output_type": "execute_result"
    }
   ],
   "source": [
    "res2.predict()"
   ]
  },
  {
   "cell_type": "code",
   "execution_count": 114,
   "metadata": {},
   "outputs": [
    {
     "data": {
      "text/plain": [
       "array([2.10321582e-02, 1.49452129e+04])"
      ]
     },
     "execution_count": 114,
     "metadata": {},
     "output_type": "execute_result"
    }
   ],
   "source": [
    "res2.params"
   ]
  },
  {
   "cell_type": "code",
   "execution_count": 113,
   "metadata": {},
   "outputs": [
    {
     "data": {
      "text/plain": [
       "array([-9.93115257e-01, -1.23047954e-01,  4.73227172e-01, -4.17102544e-02,\n",
       "        1.01873311e+00,  1.22286132e-01, -5.32034052e-01,  1.48711161e+04])"
      ]
     },
     "execution_count": 113,
     "metadata": {},
     "output_type": "execute_result"
    }
   ],
   "source": [
    "res.params"
   ]
  },
  {
   "cell_type": "code",
   "execution_count": 18,
   "metadata": {},
   "outputs": [
    {
     "data": {
      "text/plain": [
       "9508"
      ]
     },
     "execution_count": 18,
     "metadata": {},
     "output_type": "execute_result"
    }
   ],
   "source": [
    "y = marketData.xs(\"DOW\")\n",
    "len(y)"
   ]
  },
  {
   "cell_type": "code",
   "execution_count": 289,
   "metadata": {},
   "outputs": [
    {
     "data": {
      "text/plain": [
       "array([32228.23928744])"
      ]
     },
     "execution_count": 289,
     "metadata": {},
     "output_type": "execute_result"
    }
   ],
   "source": [
    "sm.tsa.arima.ARIMA(x[:window][\"Close\"].values, order=(3, 1, 5)).filter(params).forecast()"
   ]
  },
  {
   "cell_type": "code",
   "execution_count": 224,
   "metadata": {},
   "outputs": [
    {
     "data": {
      "text/plain": [
       "-2.448366808491554e-05"
      ]
     },
     "execution_count": 224,
     "metadata": {},
     "output_type": "execute_result"
    }
   ],
   "source": [
    "import tradeframework.operations.utils as utils\n",
    "np.log(utils.getPeriodReturns(p.returns) + 1)[-5:].values[0][0]\n"
   ]
  },
  {
   "cell_type": "code",
   "execution_count": 231,
   "metadata": {},
   "outputs": [
    {
     "data": {
      "text/html": [
       "<div>\n",
       "<style scoped>\n",
       "    .dataframe tbody tr th:only-of-type {\n",
       "        vertical-align: middle;\n",
       "    }\n",
       "\n",
       "    .dataframe tbody tr th {\n",
       "        vertical-align: top;\n",
       "    }\n",
       "\n",
       "    .dataframe thead th {\n",
       "        text-align: right;\n",
       "    }\n",
       "</style>\n",
       "<table border=\"1\" class=\"dataframe\">\n",
       "  <thead>\n",
       "    <tr style=\"text-align: right;\">\n",
       "      <th></th>\n",
       "      <th>Open</th>\n",
       "      <th>Close</th>\n",
       "    </tr>\n",
       "    <tr>\n",
       "      <th>Date_Time</th>\n",
       "      <th></th>\n",
       "      <th></th>\n",
       "    </tr>\n",
       "  </thead>\n",
       "  <tbody>\n",
       "    <tr>\n",
       "      <th>2013-01-01 05:00:00+00:00</th>\n",
       "      <td>0.0</td>\n",
       "      <td>0.000000</td>\n",
       "    </tr>\n",
       "    <tr>\n",
       "      <th>2013-01-01 22:15:00+00:00</th>\n",
       "      <td>0.0</td>\n",
       "      <td>0.000000</td>\n",
       "    </tr>\n",
       "    <tr>\n",
       "      <th>2013-01-02 05:00:00+00:00</th>\n",
       "      <td>0.0</td>\n",
       "      <td>0.000000</td>\n",
       "    </tr>\n",
       "    <tr>\n",
       "      <th>2013-01-02 14:30:00+00:00</th>\n",
       "      <td>0.0</td>\n",
       "      <td>0.000000</td>\n",
       "    </tr>\n",
       "    <tr>\n",
       "      <th>2013-01-02 14:35:00+00:00</th>\n",
       "      <td>0.0</td>\n",
       "      <td>0.000000</td>\n",
       "    </tr>\n",
       "    <tr>\n",
       "      <th>...</th>\n",
       "      <td>...</td>\n",
       "      <td>...</td>\n",
       "    </tr>\n",
       "    <tr>\n",
       "      <th>2023-03-17 20:00:00+00:00</th>\n",
       "      <td>0.0</td>\n",
       "      <td>-0.000069</td>\n",
       "    </tr>\n",
       "    <tr>\n",
       "      <th>2023-03-17 20:05:00+00:00</th>\n",
       "      <td>0.0</td>\n",
       "      <td>0.000000</td>\n",
       "    </tr>\n",
       "    <tr>\n",
       "      <th>2023-03-17 20:10:00+00:00</th>\n",
       "      <td>0.0</td>\n",
       "      <td>0.000000</td>\n",
       "    </tr>\n",
       "    <tr>\n",
       "      <th>2023-03-17 20:15:00+00:00</th>\n",
       "      <td>0.0</td>\n",
       "      <td>0.000000</td>\n",
       "    </tr>\n",
       "    <tr>\n",
       "      <th>2023-03-17 20:20:00+00:00</th>\n",
       "      <td>0.0</td>\n",
       "      <td>0.000000</td>\n",
       "    </tr>\n",
       "  </tbody>\n",
       "</table>\n",
       "<p>211963 rows × 2 columns</p>\n",
       "</div>"
      ],
      "text/plain": [
       "                           Open     Close\n",
       "Date_Time                                \n",
       "2013-01-01 05:00:00+00:00   0.0  0.000000\n",
       "2013-01-01 22:15:00+00:00   0.0  0.000000\n",
       "2013-01-02 05:00:00+00:00   0.0  0.000000\n",
       "2013-01-02 14:30:00+00:00   0.0  0.000000\n",
       "2013-01-02 14:35:00+00:00   0.0  0.000000\n",
       "...                         ...       ...\n",
       "2023-03-17 20:00:00+00:00   0.0 -0.000069\n",
       "2023-03-17 20:05:00+00:00   0.0  0.000000\n",
       "2023-03-17 20:10:00+00:00   0.0  0.000000\n",
       "2023-03-17 20:15:00+00:00   0.0  0.000000\n",
       "2023-03-17 20:20:00+00:00   0.0  0.000000\n",
       "\n",
       "[211963 rows x 2 columns]"
      ]
     },
     "execution_count": 231,
     "metadata": {},
     "output_type": "execute_result"
    }
   ],
   "source": [
    "p.assets[1].returns"
   ]
  }
 ],
 "metadata": {
  "kernelspec": {
   "display_name": "dev3.9",
   "language": "python",
   "name": "python3"
  },
  "language_info": {
   "codemirror_mode": {
    "name": "ipython",
    "version": 3
   },
   "file_extension": ".py",
   "mimetype": "text/x-python",
   "name": "python",
   "nbconvert_exporter": "python",
   "pygments_lexer": "ipython3",
   "version": "3.9.12"
  }
 },
 "nbformat": 4,
 "nbformat_minor": 2
}
