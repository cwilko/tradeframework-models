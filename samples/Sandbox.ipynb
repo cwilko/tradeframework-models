{
 "cells": [
  {
   "cell_type": "code",
   "execution_count": 1,
   "metadata": {},
   "outputs": [
    {
     "name": "stderr",
     "output_type": "stream",
     "text": [
      "2023-03-27 22:15:56.681443: I tensorflow/core/platform/cpu_feature_guard.cc:193] This TensorFlow binary is optimized with oneAPI Deep Neural Network Library (oneDNN) to use the following CPU instructions in performance-critical operations:  AVX2 FMA\n",
      "To enable them in other operations, rebuild TensorFlow with the appropriate compiler flags.\n",
      "2023-03-27 22:15:56.804616: W tensorflow/compiler/xla/stream_executor/platform/default/dso_loader.cc:64] Could not load dynamic library 'libcudart.so.11.0'; dlerror: libcudart.so.11.0: cannot open shared object file: No such file or directory\n",
      "2023-03-27 22:15:56.804638: I tensorflow/compiler/xla/stream_executor/cuda/cudart_stub.cc:29] Ignore above cudart dlerror if you do not have a GPU set up on your machine.\n",
      "2023-03-27 22:15:57.790613: W tensorflow/compiler/xla/stream_executor/platform/default/dso_loader.cc:64] Could not load dynamic library 'libnvinfer.so.7'; dlerror: libnvinfer.so.7: cannot open shared object file: No such file or directory\n",
      "2023-03-27 22:15:57.790743: W tensorflow/compiler/xla/stream_executor/platform/default/dso_loader.cc:64] Could not load dynamic library 'libnvinfer_plugin.so.7'; dlerror: libnvinfer_plugin.so.7: cannot open shared object file: No such file or directory\n",
      "2023-03-27 22:15:57.790771: W tensorflow/compiler/tf2tensorrt/utils/py_utils.cc:38] TF-TRT Warning: Cannot dlopen some TensorRT libraries. If you would like to use Nvidia GPU with TensorRT, please make sure the missing libraries mentioned above are installed properly.\n"
     ]
    }
   ],
   "source": [
    "#!pip install --upgrade ~/Development/repos/tradeframework\n",
    "#!pip install --upgrade ~/Development/repos/tradeframework-insights\n",
    "#!pip install --upgrade ~/Development/repos/quantutils\n",
    "#!pip install --upgrade ~/Development/repos/marketinsights-price-aggregator\n",
    "\n",
    "# Pkg imports\n",
    "# TODO - dynamic import of SandboxEnv\n",
    "from tradeframework.environments import SandboxEnvironment  \n",
    "from marketinsights.api.aggregator import MarketDataAggregator\n",
    "from marketinsights.remote.ml import MIAssembly\n",
    "from marketinsights.remote.models import MIModelServer\n",
    "import quantutils.dataset.pipeline as ppl\n",
    "\n",
    "# Dev imports\n",
    "import pandas as pd\n",
    "import numpy as np\n",
    "\n",
    "#import matplotlib\n",
    "#%matplotlib inline\n",
    "#matplotlib.rcParams['figure.figsize'] = (12.0, 6.0)\n",
    "\n",
    "import warnings\n",
    "warnings.filterwarnings(action='ignore')\n"
   ]
  },
  {
   "cell_type": "code",
   "execution_count": 2,
   "metadata": {},
   "outputs": [
    {
     "name": "stderr",
     "output_type": "stream",
     "text": [
      "100%|█████████████████████████████████████████████| 1/1 [00:00<00:00, 16.62it/s]"
     ]
    },
    {
     "name": "stdout",
     "output_type": "stream",
     "text": [
      "Data Loaded\n"
     ]
    },
    {
     "name": "stderr",
     "output_type": "stream",
     "text": [
      "\n"
     ]
    }
   ],
   "source": [
    "data_config = [\n",
    "    {\n",
    "        \"ID\": \"MDS\",\n",
    "        \"class\": \"MDSConnector\",\n",
    "        \"opts\": {\n",
    "            \"location\": \"http://pricestore.192.168.1.203.nip.io\"\n",
    "        },\n",
    "        \"timezone\": \"UTC\",\n",
    "        \"markets\": [\n",
    "            {\n",
    "                \"ID\": \"DOW\",\n",
    "                \"sources\": [\n",
    "                    {\n",
    "                        \"ID\": \"WallSt-hourly\",\n",
    "                        \"sample_unit\": \"H\"\n",
    "                    },\n",
    "                    {\n",
    "                        \"ID\": \"D&J-IND\",\n",
    "                        \"sample_unit\": \"5min\"\n",
    "                    }\n",
    "                ]\n",
    "            },\n",
    "            {\n",
    "                \"ID\": \"SPY\",\n",
    "                \"sources\": [\n",
    "                    {\n",
    "                        \"ID\":\"SP500-hourly\",\n",
    "                        \"sample_unit\":\"H\"\n",
    "                    },\n",
    "                    {\n",
    "                        \"ID\":\"SANDP-500\",\n",
    "                        \"sample_unit\":\"5min\"\n",
    "                    }\n",
    "                ]\n",
    "            }\n",
    "        ]\n",
    "    }\n",
    "]\n",
    "\n",
    "\n",
    "## Get Market Data\n",
    "aggregator = MarketDataAggregator(data_config)\n",
    "   \n",
    "#start = \"2013-01-01\" # Train period\n",
    "#end = \"2018-08-01\"\n",
    "\n",
    "start=\"2018-08-02\" # Test period\n",
    "end=\"2018-12-31\"\n",
    "\n",
    "start=\"2016-07-06\"\n",
    "end=\"2016-07-15\"\n",
    "\n",
    "marketData = aggregator.getData(mkts=[\"DOW\"], sample_unit=\"H\", start=start, end=end, aggregate=True, debug=False)\n",
    "print(\"Data Loaded\")\n",
    "#marketData = marketData.xs(\"mID\")\n",
    "#marketData = marketData.tz_convert(\"US/Eastern\", level=\"Date_Time\")\n",
    "#marketData = marketData.unstack(level=0).dropna(axis=1).stack() # Remove rows that don't have values from all markets\n",
    "#tickers = marketData.index.get_level_values(\"mID\").unique().values\n"
   ]
  },
  {
   "cell_type": "code",
   "execution_count": 3,
   "metadata": {},
   "outputs": [],
   "source": [
    "modelsvr = MIModelServer(secret=\"marketinsights-k8s-cred\")"
   ]
  },
  {
   "cell_type": "code",
   "execution_count": 6,
   "metadata": {},
   "outputs": [
    {
     "data": {
      "text/plain": [
       "<tradeframework.api.core.derivative.Derivative at 0x7f97180e5dc0>"
      ]
     },
     "execution_count": 6,
     "metadata": {},
     "output_type": "execute_result"
    }
   ],
   "source": [
    "env = SandboxEnvironment(\"TradeFair\", \"US/Eastern\")\n",
    "env.createAssets(marketData)\n",
    "\n",
    "p = env.createDerivative(\"MyPortfolio\", weightGenerator=env.createOptimizer(\"EqualWeightsOptimizer\"))\n",
    "env.setPortfolio(p)\n",
    "\n",
    "# Create baseline as an unweighted asset\n",
    "baseline = env.createDerivative(\"Baseline\", weightGenerator=env.createModel(\"BuyAndHold\", opts={\"start\":\"19:00\", \"end\":\"20:00\", \"barOnly\": True}))\n",
    "baseline.addStoredAsset([\"DOW\"])\n",
    "p.addAsset(baseline, weighted=False)\n",
    "\n",
    "# BuyAndHold\n",
    "#p.addAsset(\n",
    "#    env.createDerivative(\n",
    "#        \"BuyAndHold\", \n",
    "#        weightGenerator=env.createModel(\n",
    "#            \"BuyAndHold\", \n",
    "#            opts={\"start\":\"15:00\", \"end\":\"16:00\", \"barOnly\": True}\n",
    "#        )).addStoredAsset([\"DOW\"]))\n",
    "\n",
    "\n",
    "# ML Model\n",
    "p.addAsset(\n",
    "    env.createDerivative(\n",
    "        \"mlmodel\", \n",
    "        weightGenerator=env.createModel(\n",
    "            \"MIBasicModel\", \n",
    "            modelModule=\"tradeframework.models.remote\",\n",
    "            opts={\"window\": 2, \"modelSvr\": modelsvr, \"trainingRunId\":\"testModel-4b8fcc0053f13d518c4056ba9e1e3cdc\", \"barOnly\": True}\n",
    "        )).addStoredAsset([\"DOW\"]))\n",
    "\n",
    "# Feed data into the portfolio\n",
    "env.refresh()\n",
    "\n",
    "\n"
   ]
  },
  {
   "cell_type": "code",
   "execution_count": 7,
   "metadata": {},
   "outputs": [
    {
     "data": {
      "image/png": "[encoded data removed]",
      "text/plain": [
       "<Figure size 1200x600 with 1 Axes>"
      ]
     },
     "metadata": {},
     "output_type": "display_data"
    }
   ],
   "source": [
    "from tradeframework.api.insights import InsightManager\n",
    "\n",
    "im = InsightManager(p)\n",
    "im.addInsightGenerator(im.createInsightGenerator(\"BasicPlot\", opts={\"baseline\": p.assets[0]}))\n",
    "                                                 \n",
    "results = im.generateInsights()"
   ]
  },
  {
   "cell_type": "code",
   "execution_count": 25,
   "metadata": {},
   "outputs": [
    {
     "data": {
      "text/html": [
       "<div>\n",
       "<style scoped>\n",
       "    .dataframe tbody tr th:only-of-type {\n",
       "        vertical-align: middle;\n",
       "    }\n",
       "\n",
       "    .dataframe tbody tr th {\n",
       "        vertical-align: top;\n",
       "    }\n",
       "\n",
       "    .dataframe thead tr th {\n",
       "        text-align: left;\n",
       "    }\n",
       "\n",
       "    .dataframe thead tr:last-of-type th {\n",
       "        text-align: right;\n",
       "    }\n",
       "</style>\n",
       "<table border=\"1\" class=\"dataframe\">\n",
       "  <thead>\n",
       "    <tr>\n",
       "      <th></th>\n",
       "      <th colspan=\"2\" halign=\"left\">DOW</th>\n",
       "    </tr>\n",
       "    <tr>\n",
       "      <th></th>\n",
       "      <th>bar</th>\n",
       "      <th>gap</th>\n",
       "    </tr>\n",
       "    <tr>\n",
       "      <th>Date_Time</th>\n",
       "      <th></th>\n",
       "      <th></th>\n",
       "    </tr>\n",
       "  </thead>\n",
       "  <tbody>\n",
       "    <tr>\n",
       "      <th>2016-07-06 19:00:00+00:00</th>\n",
       "      <td>1.0</td>\n",
       "      <td>0.0</td>\n",
       "    </tr>\n",
       "    <tr>\n",
       "      <th>2016-07-07 19:00:00+00:00</th>\n",
       "      <td>1.0</td>\n",
       "      <td>0.0</td>\n",
       "    </tr>\n",
       "    <tr>\n",
       "      <th>2016-07-08 19:00:00+00:00</th>\n",
       "      <td>1.0</td>\n",
       "      <td>0.0</td>\n",
       "    </tr>\n",
       "    <tr>\n",
       "      <th>2016-07-11 19:00:00+00:00</th>\n",
       "      <td>1.0</td>\n",
       "      <td>0.0</td>\n",
       "    </tr>\n",
       "    <tr>\n",
       "      <th>2016-07-12 19:00:00+00:00</th>\n",
       "      <td>1.0</td>\n",
       "      <td>0.0</td>\n",
       "    </tr>\n",
       "    <tr>\n",
       "      <th>2016-07-13 19:00:00+00:00</th>\n",
       "      <td>1.0</td>\n",
       "      <td>0.0</td>\n",
       "    </tr>\n",
       "    <tr>\n",
       "      <th>2016-07-14 19:00:00+00:00</th>\n",
       "      <td>1.0</td>\n",
       "      <td>0.0</td>\n",
       "    </tr>\n",
       "    <tr>\n",
       "      <th>2016-07-15 19:00:00+00:00</th>\n",
       "      <td>1.0</td>\n",
       "      <td>0.0</td>\n",
       "    </tr>\n",
       "  </tbody>\n",
       "</table>\n",
       "</div>"
      ],
      "text/plain": [
       "                           DOW     \n",
       "                           bar  gap\n",
       "Date_Time                          \n",
       "2016-07-06 19:00:00+00:00  1.0  0.0\n",
       "2016-07-07 19:00:00+00:00  1.0  0.0\n",
       "2016-07-08 19:00:00+00:00  1.0  0.0\n",
       "2016-07-11 19:00:00+00:00  1.0  0.0\n",
       "2016-07-12 19:00:00+00:00  1.0  0.0\n",
       "2016-07-13 19:00:00+00:00  1.0  0.0\n",
       "2016-07-14 19:00:00+00:00  1.0  0.0\n",
       "2016-07-15 19:00:00+00:00  1.0  0.0"
      ]
     },
     "execution_count": 25,
     "metadata": {},
     "output_type": "execute_result"
    }
   ],
   "source": [
    "ppl.cropTime(p.assets[1].weights, start=\"19:00\", end=\"20:00\").values.sum()"
   ]
  },
  {
   "cell_type": "code",
   "execution_count": 21,
   "metadata": {},
   "outputs": [],
   "source": [
    "x = marketData.xs(\"DOW\")\n",
    "x = ppl.localize(x, \"UTC\", \"US/Eastern\")\n",
    "x.to_csv(\"test.csv\")"
   ]
  },
  {
   "cell_type": "code",
   "execution_count": 28,
   "metadata": {},
   "outputs": [
    {
     "data": {
      "text/plain": [
       "[19, 43, 67, 90, 114, 138, 162, 186]"
      ]
     },
     "execution_count": 28,
     "metadata": {},
     "output_type": "execute_result"
    }
   ],
   "source": [
    "crop = ppl.cropTime(x, \"15:00\", \"16:00\")\n",
    "idx = [x.index.get_loc(crop.index[z]) for z in range(len(crop))]\n",
    "idx"
   ]
  },
  {
   "cell_type": "code",
   "execution_count": null,
   "metadata": {},
   "outputs": [],
   "source": []
  }
 ],
 "metadata": {
  "kernelspec": {
   "display_name": "dev3.9",
   "language": "python",
   "name": "dev3.9"
  },
  "language_info": {
   "codemirror_mode": {
    "name": "ipython",
    "version": 3
   },
   "file_extension": ".py",
   "mimetype": "text/x-python",
   "name": "python",
   "nbconvert_exporter": "python",
   "pygments_lexer": "ipython3",
   "version": "3.9.12"
  }
 },
 "nbformat": 4,
 "nbformat_minor": 2
}
