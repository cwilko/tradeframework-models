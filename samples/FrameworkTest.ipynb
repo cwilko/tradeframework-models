{
 "cells": [
  {
   "cell_type": "code",
   "execution_count": 1,
   "metadata": {},
   "outputs": [
    {
     "name": "stderr",
     "output_type": "stream",
     "text": [
      "2023-04-26 09:22:50.824353: I tensorflow/core/platform/cpu_feature_guard.cc:193] This TensorFlow binary is optimized with oneAPI Deep Neural Network Library (oneDNN) to use the following CPU instructions in performance-critical operations:  AVX2 FMA\n",
      "To enable them in other operations, rebuild TensorFlow with the appropriate compiler flags.\n",
      "2023-04-26 09:22:50.970196: W tensorflow/compiler/xla/stream_executor/platform/default/dso_loader.cc:64] Could not load dynamic library 'libcudart.so.11.0'; dlerror: libcudart.so.11.0: cannot open shared object file: No such file or directory\n",
      "2023-04-26 09:22:50.970218: I tensorflow/compiler/xla/stream_executor/cuda/cudart_stub.cc:29] Ignore above cudart dlerror if you do not have a GPU set up on your machine.\n",
      "2023-04-26 09:22:52.047569: W tensorflow/compiler/xla/stream_executor/platform/default/dso_loader.cc:64] Could not load dynamic library 'libnvinfer.so.7'; dlerror: libnvinfer.so.7: cannot open shared object file: No such file or directory\n",
      "2023-04-26 09:22:52.047685: W tensorflow/compiler/xla/stream_executor/platform/default/dso_loader.cc:64] Could not load dynamic library 'libnvinfer_plugin.so.7'; dlerror: libnvinfer_plugin.so.7: cannot open shared object file: No such file or directory\n",
      "2023-04-26 09:22:52.047696: W tensorflow/compiler/tf2tensorrt/utils/py_utils.cc:38] TF-TRT Warning: Cannot dlopen some TensorRT libraries. If you would like to use Nvidia GPU with TensorRT, please make sure the missing libraries mentioned above are installed properly.\n"
     ]
    }
   ],
   "source": [
    "#!pip install --upgrade ~/Development/repos/tradeframework\n",
    "#!pip install --upgrade ~/Development/repos/tradeframework-insights\n",
    "#!pip install --upgrade ~/Development/repos/quantutils\n",
    "#!pip install --upgrade ~/Development/repos/marketinsights-price-aggregator\n",
    "\n",
    "import warnings\n",
    "warnings.filterwarnings(action='ignore')\n",
    "\n",
    "# Pkg imports\n",
    "# TODO - dynamic import of SandboxEnv\n",
    "from tradeframework.environments import SandboxEnvironment  \n",
    "from marketinsights.api.aggregator import MarketDataAggregator\n",
    "from marketinsights.remote.ml import MIAssembly\n",
    "from marketinsights.remote.models import MIModelServer\n",
    "import quantutils.dataset.pipeline as ppl\n",
    "import quantutils.dataset.ml as mlutils\n",
    "\n",
    "# Dev imports\n",
    "import pandas as pd\n",
    "import numpy as np\n",
    "\n",
    "#import matplotlib\n",
    "#%matplotlib inline\n",
    "#matplotlib.rcParams['figure.figsize'] = (12.0, 6.0)\n",
    "\n",
    "\n"
   ]
  },
  {
   "cell_type": "code",
   "execution_count": 2,
   "metadata": {},
   "outputs": [],
   "source": [
    "modelsvr = MIModelServer(secret=\"marketinsights-k8s-cred\")\n",
    "assembly = MIAssembly(modelsvr, secret=\"marketinsights-k8s-cred\")"
   ]
  },
  {
   "cell_type": "code",
   "execution_count": 5,
   "metadata": {},
   "outputs": [
    {
     "name": "stderr",
     "output_type": "stream",
     "text": [
      "100%|█████████████████████████████████████████████| 1/1 [00:00<00:00,  1.66it/s]"
     ]
    },
    {
     "name": "stdout",
     "output_type": "stream",
     "text": [
      "Data Loaded\n"
     ]
    },
    {
     "name": "stderr",
     "output_type": "stream",
     "text": [
      "\n"
     ]
    }
   ],
   "source": [
    "data_config = [\n",
    "    {\n",
    "        \"ID\": \"MDS\",\n",
    "        \"class\": \"MDSConnector\",\n",
    "        \"opts\": {\n",
    "            \"location\": \"http://localhost:8080\"\n",
    "        },\n",
    "        \"timezone\": \"UTC\",\n",
    "        \"markets\": [\n",
    "            {\n",
    "                \"ID\": \"DOW\",\n",
    "                \"sources\": [\n",
    "                    {\n",
    "                        \"ID\": \"WallSt-hourly\",\n",
    "                        \"sample_unit\": \"H\"\n",
    "                    },\n",
    "                    {\n",
    "                        \"ID\": \"D&J-IND\",\n",
    "                        \"sample_unit\": \"5min\"\n",
    "                    }\n",
    "                ]\n",
    "            },\n",
    "            {\n",
    "                \"ID\": \"SPY\",\n",
    "                \"sources\": [\n",
    "                    {\n",
    "                        \"ID\":\"SP500-hourly\",\n",
    "                        \"sample_unit\":\"H\"\n",
    "                    },\n",
    "                    {\n",
    "                        \"ID\":\"SANDP-500\",\n",
    "                        \"sample_unit\":\"5min\"\n",
    "                    }\n",
    "                ]\n",
    "            }\n",
    "        ]\n",
    "    }\n",
    "]\n",
    "\n",
    "\n",
    "## Get Market Data\n",
    "aggregator = MarketDataAggregator(data_config)\n",
    "   \n",
    "start = \"2013-01-01\" # Train period\n",
    "end = \"2018-08-01\"\n",
    "\n",
    "#start=\"2018-08-02\" # Test period\n",
    "#end=\"2018-12-31\"\n",
    "\n",
    "#start=\"2018-08-02\" # Test period\n",
    "#end=\"2025-12-31\"\n",
    "\n",
    "marketData = aggregator.getData(mkts=[\"DOW\"], sample_unit=\"D\", start=start, end=end, aggregate=True, debug=False)\n",
    "print(\"Data Loaded\")\n",
    "#marketData = marketData.xs(\"mID\")\n",
    "#marketData = marketData.tz_convert(\"US/Eastern\", level=\"Date_Time\")\n",
    "#marketData = marketData.unstack(level=0).dropna(axis=1).stack() # Remove rows that don't have values from all markets\n",
    "#tickers = marketData.index.get_level_values(\"mID\").unique().values\n"
   ]
  },
  {
   "cell_type": "code",
   "execution_count": 14,
   "metadata": {},
   "outputs": [
    {
     "data": {
      "text/plain": [
       "<tradeframework.api.core.derivative.Derivative at 0x7f9f12f61250>"
      ]
     },
     "execution_count": 14,
     "metadata": {},
     "output_type": "execute_result"
    }
   ],
   "source": [
    "env = SandboxEnvironment(\"TradeFair\", \"US/Eastern\")\n",
    "env.createAssets(marketData)\n",
    "\n",
    "p = env.createDerivative(\"MyPortfolio\", weightGenerator=env.createOptimizer(\"EqualWeightsOptimizer\"))\n",
    "env.setPortfolio(p)\n",
    "\n",
    "# Create baseline as an unweighted asset\n",
    "baseline = env.createDerivative(\"Baseline Signal\", weightGenerator=env.createModel(\"BuyAndHold\", opts={\"barOnly\": False}))\n",
    "baseline.addStoredAsset([\"DOW\"])\n",
    "p.addAsset(baseline, weighted=False)\n",
    "\n",
    "# BuyAndHold\n",
    "\"\"\" p.addAsset(\n",
    "    env.createDerivative(\n",
    "        \"BuyAndHold\", \n",
    "        weightGenerator=env.createModel(\n",
    "            \"BuyAndHold\", \n",
    "            #opts={\"start\":\"19:00\", \"end\":\"20:00\", \"barOnly\": True}\n",
    "            opts={\"barOnly\": False}\n",
    "        )).addStoredAsset([\"DOW\"])) \"\"\"\n",
    "\n",
    "# ARIMA\n",
    "p.addAsset(\n",
    "    env.createDerivative(\n",
    "        \"ARIMA\", \n",
    "        weightGenerator=env.createModel(\n",
    "            \"ARIMA\", \n",
    "            modelModule=\"tradeframework.models.regression\",\n",
    "            opts={\"AR\":3, \"I\":1, \"MA\":2, \"window\":5*4*3, \"fit\":\"fitOnce\", \"barOnly\": False}\n",
    "        )).addStoredAsset([\"DOW\"]))\n",
    "\n",
    "# Feed data into the portfolio\n",
    "env.refresh()\n"
   ]
  },
  {
   "cell_type": "code",
   "execution_count": 6,
   "metadata": {},
   "outputs": [
    {
     "data": {
      "text/plain": [
       "'[-0.30081263760633137, 0.39470190597557736, -0.04743263387904501, -0.14170836016613247, 0.38866070473072584, -0.3981799528688712, 44444.46650679612]'"
      ]
     },
     "execution_count": 6,
     "metadata": {},
     "output_type": "execute_result"
    }
   ],
   "source": [
    "params = p.assets[1].weightGenerator.result.params\n",
    "str(params.tolist())"
   ]
  },
  {
   "cell_type": "code",
   "execution_count": 9,
   "metadata": {},
   "outputs": [
    {
     "data": {
      "text/plain": [
       "array([-3.00812638e-01,  3.94701906e-01, -4.74326339e-02, -1.41708360e-01,\n",
       "        3.88660705e-01, -3.98179953e-01,  4.44444665e+04])"
      ]
     },
     "execution_count": 9,
     "metadata": {},
     "output_type": "execute_result"
    }
   ],
   "source": [
    "p.assets[1].weightGenerator.result.params"
   ]
  },
  {
   "cell_type": "code",
   "execution_count": 7,
   "metadata": {},
   "outputs": [],
   "source": [
    "import tradeframework.operations.utils as utils\n",
    "y = np.sign(utils.getPeriodLogReturns(p.returns)[\"period\"])\n",
    "x = np.sign(utils.getPeriodLogReturns(p.assets[0].returns)[\"period\"])\n",
    "\n",
    "index = y[y!=0].index.intersection(x[x!=0].index)\n",
    "x = x.loc[index]\n",
    "y = y.loc[index]"
   ]
  },
  {
   "cell_type": "code",
   "execution_count": 8,
   "metadata": {},
   "outputs": [
    {
     "data": {
      "text/plain": [
       "Date_Time\n",
       "2013-03-04 00:00:00+00:00    1.0\n",
       "2013-03-05 00:00:00+00:00    1.0\n",
       "2013-03-06 00:00:00+00:00    1.0\n",
       "2013-03-07 00:00:00+00:00    1.0\n",
       "2013-03-08 00:00:00+00:00    1.0\n",
       "                            ... \n",
       "2018-07-27 00:00:00+00:00   -1.0\n",
       "2018-07-29 00:00:00+00:00   -1.0\n",
       "2018-07-30 00:00:00+00:00   -1.0\n",
       "2018-07-31 00:00:00+00:00    1.0\n",
       "2018-08-01 00:00:00+00:00   -1.0\n",
       "Name: period, Length: 1476, dtype: float64"
      ]
     },
     "execution_count": 8,
     "metadata": {},
     "output_type": "execute_result"
    }
   ],
   "source": [
    "x"
   ]
  },
  {
   "cell_type": "code",
   "execution_count": 9,
   "metadata": {
    "scrolled": false
   },
   "outputs": [
    {
     "data": {
      "text/plain": [
       "<sklearn.metrics._plot.confusion_matrix.ConfusionMatrixDisplay at 0x7fe0535d2fd0>"
      ]
     },
     "execution_count": 9,
     "metadata": {},
     "output_type": "execute_result"
    },
    {
     "data": {
      "image/png": "[encoded data removed]",
      "text/plain": [
       "<Figure size 1200x600 with 2 Axes>"
      ]
     },
     "metadata": {},
     "output_type": "display_data"
    }
   ],
   "source": [
    "from sklearn import metrics\n",
    "cf = metrics.confusion_matrix(x, y, labels=[1, -1], normalize=\"all\")\n",
    "cm_display = metrics.ConfusionMatrixDisplay(confusion_matrix = cf, display_labels = [\"Buy\", \"Sell\"])\n",
    "cm_display.plot()\n"
   ]
  },
  {
   "cell_type": "code",
   "execution_count": 10,
   "metadata": {},
   "outputs": [
    {
     "data": {
      "text/plain": [
       "-0.06639566395663957"
      ]
     },
     "execution_count": 10,
     "metadata": {},
     "output_type": "execute_result"
    }
   ],
   "source": [
    "np.sum(cf * np.array([[1, -1], [-1, 1]]))"
   ]
  },
  {
   "cell_type": "code",
   "execution_count": 12,
   "metadata": {},
   "outputs": [
    {
     "data": {
      "text/plain": [
       "-0.006692682926829272"
      ]
     },
     "execution_count": 12,
     "metadata": {},
     "output_type": "execute_result"
    }
   ],
   "source": [
    "meanRet = 0.0004\n",
    "np.sum(cf * np.array([[meanRet, -(meanRet)],[-(meanRet), meanRet]])) * 252"
   ]
  },
  {
   "cell_type": "code",
   "execution_count": 32,
   "metadata": {},
   "outputs": [
    {
     "data": {
      "text/plain": [
       "0.00040350008443811204"
      ]
     },
     "execution_count": 32,
     "metadata": {},
     "output_type": "execute_result"
    }
   ],
   "source": [
    "utils.getPeriodReturns(p.assets[0].returns)[\"period\"].mean()"
   ]
  },
  {
   "cell_type": "code",
   "execution_count": 21,
   "metadata": {},
   "outputs": [
    {
     "data": {
      "text/plain": [
       "0.42251655629139073"
      ]
     },
     "execution_count": 21,
     "metadata": {},
     "output_type": "execute_result"
    }
   ],
   "source": [
    "metrics.precision_score(x, y, pos_label=-1)"
   ]
  },
  {
   "cell_type": "code",
   "execution_count": 14,
   "metadata": {},
   "outputs": [
    {
     "data": {
      "text/plain": [
       "0.48461034708578915"
      ]
     },
     "execution_count": 14,
     "metadata": {},
     "output_type": "execute_result"
    }
   ],
   "source": [
    "metrics.f1_score(x, y)"
   ]
  },
  {
   "cell_type": "code",
   "execution_count": 22,
   "metadata": {},
   "outputs": [
    {
     "data": {
      "text/plain": [
       "0.46680216802168023"
      ]
     },
     "execution_count": 22,
     "metadata": {},
     "output_type": "execute_result"
    }
   ],
   "source": [
    "metrics.accuracy_score(x, y)"
   ]
  },
  {
   "cell_type": "code",
   "execution_count": 15,
   "metadata": {
    "scrolled": false
   },
   "outputs": [
    {
     "name": "stdout",
     "output_type": "stream",
     "text": [
      "\n",
      "=================================================\n",
      "Regression Metrics\n",
      "=================================================\n",
      "\n",
      "Mean Forecast Error (MFE): 0.00030101128542797467\n",
      "Mean Absolute Error (MAE): 0.004619322358687734\n",
      "Max. Error: 0.07541944903318837\n",
      "Residual Standard Error (RSE): 0.00921409168554236\n",
      "Mean Absolute Percentage Error (MAPE): 1.0202333349445873\n",
      "Mean Absolute Standard Error (MASE): 0.6913371893666805\n",
      "\n",
      "R-Squared: -0.8090902525572012\n",
      "Mean Directional Accuracy (MDA): 0.730835734870317%\n",
      "Mean Sign Accuracy (MSA): 0.478110599078341%\n",
      "\n",
      "=================================================\n",
      "Classification Metrics\n",
      "=================================================\n",
      "\n",
      "Won : 733\n",
      "Lost : 743\n",
      "Total : 1476\n",
      "Diff : -10\n",
      "\n",
      "Accuracy : 49.66%\n",
      "Information Coefficient (Edge): -0.68%\n",
      "Expected Value (Annualised): -0.61%\n",
      "\n",
      "Precision: Of all the predicted Buys/Sells, how many were correct?\n",
      "Precision (Buy) : 55.16%\n",
      "Precision (Sell): 45.78%\n",
      "\n",
      "Recall: Of all the actual Buys/Sells, how many were correct?\n",
      "Recall (Buy): 41.81%\n",
      "Recall (Sell): 59.10%\n",
      "\n",
      "F1 Score: Harmonic mean of Precision and Recall for the Buys/Sells\n",
      "F1 Score (Buy): 47.57%\n",
      "F1 Score (Sell): 51.60%\n"
     ]
    },
    {
     "data": {
      "image/png": "[encoded data removed]",
      "text/plain": [
       "<Figure size 1200x600 with 2 Axes>"
      ]
     },
     "metadata": {},
     "output_type": "display_data"
    },
    {
     "name": "stdout",
     "output_type": "stream",
     "text": [
      "\n",
      "=================================================\n",
      "Portfolio Metrics\n",
      "=================================================\n",
      "\n",
      "Sharpe Ratio (annualised) : 0.24\n",
      "Information Ratio (annualised) : -0.48\n",
      "Mean Return (annualised) : 2.57%\n",
      "Standard Deviation (annualised) : 0.11\n",
      "Maximum Drawdown (f=1) : 0.25\n",
      "Maximum Drawdown Duration (f=1) : 811.0 periods\n",
      "Max Return : 3.95%\n",
      "Min Return : -4.55%\n",
      "Optimal Kelly Stake : 2.2187491405675526\n"
     ]
    },
    {
     "data": {
      "image/png": "[encoded data removed]",
      "text/plain": [
       "<Figure size 1200x600 with 1 Axes>"
      ]
     },
     "metadata": {},
     "output_type": "display_data"
    }
   ],
   "source": [
    "from tradeframework.api.insights import InsightManager\n",
    "import warnings\n",
    "warnings.filterwarnings(\"ignore\")\n",
    "\n",
    "im = InsightManager(p)\n",
    "im.addInsightGenerator(im.createInsightGenerator(\"PredictionMetrics\", opts={\"baseline\":p.assets[0]}))\n",
    "im.addInsightGenerator(im.createInsightGenerator(\"ConfusionMatrix\", opts={\"baseline\":p.assets[0], \"noHold\":True}))\n",
    "im.addInsightGenerator(im.createInsightGenerator(\"PerfSummary\", opts={\"baseline\":p.assets[0]}))\n",
    "im.addInsightGenerator(im.createInsightGenerator(\"BasicPlot\", opts={\"baseline\":p.assets[0], \"log\":True}))\n",
    "   \n",
    "results = im.generateInsights()\n"
   ]
  },
  {
   "cell_type": "code",
   "execution_count": null,
   "metadata": {},
   "outputs": [],
   "source": []
  },
  {
   "cell_type": "code",
   "execution_count": 16,
   "metadata": {},
   "outputs": [
    {
     "name": "stdout",
     "output_type": "stream",
     "text": [
      "ARIMA:0,0,0, AIC:-7440.662816029129, MFE:4.996844481743962e-06, MAE:0.07712385651957761\n",
      "ARIMA:0,1,0, AIC:-6500.664252481962, MFE:-8.20111071763238e-06, MAE:inf\n",
      "ARIMA:0,0,1, AIC:-7453.631037844412, MFE:3.626782691207489e-06, MAE:0.005390750407778205\n",
      "ARIMA:0,1,1, AIC:-7425.871959720772, MFE:5.1753631446932554e-05, MAE:inf\n",
      "ARIMA:0,0,2, AIC:-7453.751354994642, MFE:3.3230224873354193e-06, MAE:0.005267007946091965\n",
      "ARIMA:0,1,2, AIC:-7438.6004848697285, MFE:5.9224153730657735e-05, MAE:inf\n",
      "ARIMA:0,0,3, AIC:-7464.2643266921605, MFE:4.313352307249537e-06, MAE:-0.00773894082947563\n",
      "ARIMA:0,1,3, AIC:-7438.882585730082, MFE:5.405274825965503e-05, MAE:inf\n",
      "ARIMA:0,0,4, AIC:-7469.948090841857, MFE:6.1196447512573846e-06, MAE:-0.004489576252736426\n",
      "ARIMA:0,1,4, AIC:-7435.4600820941, MFE:3.680155694197121e-06, MAE:inf\n",
      "ARIMA:1,0,0, AIC:-7454.963863225506, MFE:2.4534577092933636e-06, MAE:0.007998339850644106\n",
      "ARIMA:1,1,0, AIC:-6974.389889467233, MFE:-2.5619524403703867e-07, MAE:inf\n",
      "ARIMA:1,0,1, AIC:-7451.2477099676935, MFE:5.114775978502464e-06, MAE:-0.00998638154593427\n",
      "ARIMA:1,1,1, AIC:-7439.933945625528, MFE:5.897872682573521e-05, MAE:inf\n",
      "ARIMA:1,0,2, AIC:-7452.127258027964, MFE:3.3263878181228436e-06, MAE:0.004628399877844265\n",
      "ARIMA:1,1,2, AIC:-7425.773013500719, MFE:5.146607426054445e-05, MAE:inf\n",
      "ARIMA:1,0,3, AIC:-7460.5640008117225, MFE:3.915332765889914e-06, MAE:0.008706620244720176\n",
      "ARIMA:1,1,3, AIC:-7442.416509691472, MFE:6.0458959156341316e-05, MAE:inf\n",
      "ARIMA:1,0,4, AIC:-7478.891256541567, MFE:4.668230390270277e-06, MAE:-0.005090864618576796\n",
      "ARIMA:1,1,4, AIC:-7409.035605689292, MFE:-9.971224456707213e-06, MAE:inf\n",
      "ARIMA:2,0,0, AIC:-7455.578276848226, MFE:3.5431264557296307e-06, MAE:-0.01807626332333122\n",
      "ARIMA:2,1,0, AIC:-7074.353179684629, MFE:3.2585727826669946e-06, MAE:inf\n",
      "ARIMA:2,0,1, AIC:-7453.120445502345, MFE:5.241405423942537e-06, MAE:-0.012563084154701254\n",
      "ARIMA:2,1,1, AIC:-7440.582938499953, MFE:5.5440443986245316e-05, MAE:inf\n",
      "ARIMA:2,0,2, AIC:-7452.168930323271, MFE:3.422135442499338e-06, MAE:0.0036771784483749137\n",
      "ARIMA:2,1,2, AIC:-7445.044995369873, MFE:5.9339767135517615e-05, MAE:inf\n",
      "ARIMA:2,0,3, AIC:-7455.032789057015, MFE:3.911311532722985e-06, MAE:0.001832712120474733\n",
      "ARIMA:2,1,3, AIC:-7469.673152852601, MFE:5.458321733855308e-05, MAE:inf\n",
      "ARIMA:2,0,4, AIC:-7477.679947143543, MFE:7.435968204485359e-06, MAE:0.009990133188658924\n",
      "ARIMA:2,1,4, AIC:-7450.23685115365, MFE:5.300894723669076e-05, MAE:inf\n",
      "ARIMA:3,0,0, AIC:-7459.453868589202, MFE:5.395308880779361e-06, MAE:-0.0066755570437433435\n",
      "ARIMA:3,1,0, AIC:-7118.600406286435, MFE:4.381808278284583e-06, MAE:inf\n",
      "ARIMA:3,0,1, AIC:-7458.381269376288, MFE:3.7182574197415107e-06, MAE:-0.001092706327022645\n",
      "ARIMA:3,1,1, AIC:-7437.2351584032685, MFE:2.2884829150319228e-05, MAE:inf\n",
      "ARIMA:3,0,2, AIC:-7463.25642441735, MFE:4.061839232672626e-06, MAE:0.0015461856155333047\n",
      "ARIMA:3,1,2, AIC:-7440.119242107694, MFE:2.2300429909024345e-05, MAE:inf\n",
      "ARIMA:3,0,3, AIC:-7454.759367170394, MFE:4.057994223738912e-06, MAE:0.003907861701436057\n",
      "ARIMA:3,1,3, AIC:-7471.15551795399, MFE:5.477103460184908e-05, MAE:inf\n",
      "ARIMA:3,0,4, AIC:-7465.313145533399, MFE:5.110235743991049e-06, MAE:-0.009642278270998879\n",
      "ARIMA:3,1,4, AIC:-7440.455523637538, MFE:4.7677483166474316e-05, MAE:inf\n",
      "ARIMA:4,0,0, AIC:-7472.602079375722, MFE:4.009091375334561e-06, MAE:0.0013463864477669496\n",
      "ARIMA:4,1,0, AIC:-7206.167353059425, MFE:6.245790787690682e-06, MAE:inf\n",
      "ARIMA:4,0,1, AIC:-7470.31561792579, MFE:4.887563393086578e-06, MAE:0.006419224203115171\n",
      "ARIMA:4,1,1, AIC:-7439.791287837801, MFE:-1.6887369411958773e-06, MAE:inf\n",
      "ARIMA:4,0,2, AIC:-7481.630925508865, MFE:6.020894884395092e-06, MAE:-0.0035521981769578827\n",
      "ARIMA:4,1,2, AIC:-7446.232927424749, MFE:8.023828600452755e-06, MAE:inf\n",
      "ARIMA:4,0,3, AIC:-7465.559845195802, MFE:3.93760822918159e-06, MAE:0.013988503175444759\n",
      "ARIMA:4,1,3, AIC:-7461.039983496045, MFE:5.155481952821405e-05, MAE:inf\n",
      "ARIMA:4,0,4, AIC:-7475.1140890598035, MFE:4.7682367254326615e-06, MAE:0.0025387053956812226\n",
      "ARIMA:4,1,4, AIC:-7443.695780901835, MFE:4.364854178320222e-05, MAE:inf\n",
      "\n",
      "Best Result was ARIMA(4, 0, 2) with an AIC of -7481.630925508865\n",
      "\n",
      "=============================================\n",
      "Augmented Dicker-Fuller Test for Stationarity\n",
      "=============================================\n",
      "\n",
      "H0 = Non-Stationary data\n",
      "H1 = Stationary data\n",
      "\n",
      "Critical value: -33.66443037916577\n",
      "Probability of Non-Stationarity: 0.0%\n",
      "Number of lags used: 0\n",
      "Number of observations: 1162\n",
      "T-Scores:\n",
      "         -> 10% : -2.5680960046332366\n",
      "         -> 5%  : -2.86403051064684\n",
      "         -> 1%  : -3.4359901072390353\n",
      "\n",
      "H0 can be rejected with 100.0% confidence\n",
      "Conclusion: Data is stationary\n",
      "\n",
      "=============================================\n",
      "Ljung-Box Test for AutoCorrelations\n",
      "=============================================\n",
      "\n",
      "H0 = No Serial AutoCorrelation in the data\n",
      "H1 = AutoCorrelation exists\n",
      "\n",
      "Critical value: 29.33548552183288\n",
      "Probability of White Noise: 8.136062258822488\n",
      "\n",
      "H0 can be rejected with [0.91863938]% confidence\n",
      "Conclusion: Data is white noise\n",
      "\n",
      "=============================================\n",
      "Jaque-Bera Test for Normal Distribution\n",
      "=============================================\n",
      "\n",
      "H0 = Data is Normally distributed\n",
      "H1 = Data may not be Normally distributed\n",
      "\n",
      "Critical value: 586.733208287128\n",
      "Probability of Normal Distribution: 3.912935109089552e-126\n",
      "\n",
      "H0 can be rejected with 1.0% confidence\n",
      "Conclusion: Data may not be Normally distributed\n"
     ]
    }
   ],
   "source": [
    "from tradeframework.api.insights import InsightManager\n",
    "import warnings\n",
    "warnings.filterwarnings(\"ignore\")\n",
    "\n",
    "im = InsightManager(p)\n",
    "im.addInsightGenerator(im.createInsightGenerator(\"ARIMAFit\", opts={\"series\":np.log(p.assets[0].values[\"Close\"]).diff()[1:]}))\n",
    "\n",
    "results = im.generateInsights()\n",
    "\n",
    "im = InsightManager(p)\n",
    "#im.addInsightGenerator(im.createInsightGenerator(\"AnalysisPlot\", opts={\"series\":results[\"ARIMAFit\"].resid}))\n",
    "im.addInsightGenerator(im.createInsightGenerator(\"StationarityTest\", opts={\"series\":results[\"ARIMAFit\"].resid}))\n",
    "#im.addInsightGenerator(im.createInsightGenerator(\"MACFPlot\", opts={\"series\":results[\"ARIMAFit\"].resid})\n",
    "im.addInsightGenerator(im.createInsightGenerator(\"WhiteNoiseTest\", opts={\"series\":results[\"ARIMAFit\"].resid}))\n",
    "im.addInsightGenerator(im.createInsightGenerator(\"NormalityTest\", opts={\"series\":results[\"ARIMAFit\"].resid}))\n",
    "  \n",
    "results = im.generateInsights()"
   ]
  },
  {
   "cell_type": "code",
   "execution_count": 17,
   "metadata": {},
   "outputs": [
    {
     "name": "stdout",
     "output_type": "stream",
     "text": [
      "Won : 576.0\n",
      "Lost : 579.0\n",
      "Total : 1155.0\n",
      "Diff : -3.0\n",
      "Edge : -0.2597402597402597%\n",
      "IR : -0.08827348\n"
     ]
    },
    {
     "data": {
      "text/plain": [
       "0.4987013"
      ]
     },
     "execution_count": 17,
     "metadata": {},
     "output_type": "execute_result"
    }
   ],
   "source": [
    "mlutils.evaluate(ppl.onehot(predictions[[\"y_pred0\"]].values), ppl.onehot(predictions[[9]].values), threshold=0.5)"
   ]
  },
  {
   "cell_type": "code",
   "execution_count": 18,
   "metadata": {},
   "outputs": [
    {
     "name": "stdout",
     "output_type": "stream",
     "text": [
      "Won : 562.0\n",
      "Lost : 593.0\n",
      "Total : 1155.0\n",
      "Diff : -31.0\n",
      "Edge : -2.683982683982684%\n",
      "IR : -0.91215926\n"
     ]
    },
    {
     "data": {
      "text/plain": [
       "0.48658007"
      ]
     },
     "execution_count": 18,
     "metadata": {},
     "output_type": "execute_result"
    }
   ],
   "source": [
    "mlutils.evaluate(ppl.onehot(np.ones(predictions[[9]].values.shape)), ppl.onehot(predictions[[9]].values), threshold=0.5)"
   ]
  },
  {
   "cell_type": "code",
   "execution_count": 4,
   "metadata": {},
   "outputs": [],
   "source": [
    "import pandas as pd\n",
    "import numpy as np\n",
    "from tradeframework.api.core import Model\n",
    "import statsmodels.api as sm\n",
    "from typing import Literal\n",
    "from tqdm import tqdm\n",
    "\n",
    "\n",
    "class ARIMA(Model):\n",
    "    \"\"\"Creates a predictive model based on an ARIMA timeseries model\"\"\"\n",
    "\n",
    "    def __init__(self, env, AR=0, I=0, MA=0, window=1000, fit: Literal[\"fitAll\", \"fitWindow\", \"fitOnce\", \"inSample\"] = \"inSample\", barOnly=True):\n",
    "        Model.__init__(self, env, window)\n",
    "        self.AR = AR\n",
    "        self.I = I\n",
    "        self.MA = MA\n",
    "        self.fit = fit\n",
    "        self.barOnly = barOnly\n",
    "\n",
    "    def getSignals(self, window, idx=0):\n",
    "\n",
    "        signals = pd.DataFrame(\n",
    "            np.zeros((len(window), 2)),\n",
    "            index=window.index,\n",
    "            columns=[\"bar\", \"gap\"],\n",
    "        )\n",
    "\n",
    "        if self.fit == \"inSample\":\n",
    "            \n",
    "            # For development and analysis purposes, get \"predictions\" of in-sample values\n",
    "            self.result = sm.tsa.arima.ARIMA(window[\"Close\"].values, order=(self.AR, self.I, self.MA)).fit()\n",
    "            predictions = self.result.predict(start=0, end=len(window)-1)\n",
    "                \n",
    "            predictionSignals = np.sign(\n",
    "                predictions - window[\"Close\"].shift().values\n",
    "            )\n",
    "\n",
    "            predictionSignals = pd.DataFrame(\n",
    "                np.array([predictionSignals, predictionSignals]).T,\n",
    "                index=window.index,\n",
    "                columns=[\"bar\", \"gap\"],\n",
    "            )\n",
    "            \n",
    "        elif len(window) > self.window:\n",
    "\n",
    "            dataLen = len(window) - self.window\n",
    "            res = sm.tsa.arima.ARIMA(\n",
    "                window[: self.window][\"Close\"].values, order=(self.AR, self.I, self.MA)\n",
    "            ).fit()\n",
    "            \n",
    "            if self.fit == \"fitOnce\":            \n",
    "\n",
    "                # Fit to an initial window, then predict all based on fitted model.\n",
    "                res = res.append(window[self.window:][\"Close\"].values)    \n",
    "                predictions = res.predict(start=self.window, end=len(window)-1)\n",
    "                    \n",
    "            else:\n",
    "                predictions = np.array([res.forecast()[0]])\n",
    "\n",
    "                for i in tqdm(range(1, dataLen)):\n",
    "                    if self.fit == \"fitAll\":\n",
    "                        # Fit to an ever increasing window and predict next step\n",
    "\n",
    "                        predictions = np.array([res.forecast()[0]])\n",
    "                        res = res.append(\n",
    "                            window[self.window + i - 1 : self.window + i][\"Close\"].values,\n",
    "                            refit=True\n",
    "                        )\n",
    "                    elif self.fit == \"fitWindow\":\n",
    "                        # Fit to an rolling window and predict next step\n",
    "                        res = sm.tsa.arima.ARIMA(\n",
    "                            window[i:i+self.window][\"Close\"].values, order=(self.AR, self.I, self.MA)\n",
    "                        ).fit()\n",
    "                        \n",
    "                    predictions = np.append(predictions, res.forecast()[0])\n",
    "\n",
    "            predictionSignals = np.sign(\n",
    "                predictions - window[self.window - 1 : -1][\"Close\"].values\n",
    "            )\n",
    "\n",
    "            predictionSignals = pd.DataFrame(\n",
    "                np.array([predictionSignals, predictionSignals]).T,\n",
    "                index=window[self.window :].index,\n",
    "                columns=[\"bar\", \"gap\"],\n",
    "            )\n",
    "\n",
    "        if self.barOnly:\n",
    "            predictionSignals[\"gap\"] = 0\n",
    "\n",
    "        signals.update(predictionSignals)\n",
    "\n",
    "        return signals[idx:]\n"
   ]
  },
  {
   "cell_type": "code",
   "execution_count": 33,
   "metadata": {},
   "outputs": [
    {
     "data": {
      "text/plain": [
       "array([ 1.,  1.,  1., -1.,  1.,  1., -1., -1., -1.,  1.])"
      ]
     },
     "execution_count": 33,
     "metadata": {},
     "output_type": "execute_result"
    }
   ],
   "source": [
    "import statsmodels.api as sm\n",
    "x = marketData.xs(\"DOW\")\n",
    "window = 9498#24*5*4*3\n",
    "x = x.iloc[-window-100:]\n",
    "r = len(x) - window\n",
    "predictions = np.array([sm.tsa.arima.ARIMA(x[i:i+window][\"Close\"].values, order=(3, 1, 5)).fit().forecast()[0] for i in range(r)])\n",
    "signals = np.sign(predictions - x[window-1:-1][\"Close\"].values)\n",
    "signals"
   ]
  },
  {
   "cell_type": "code",
   "execution_count": 238,
   "metadata": {},
   "outputs": [
    {
     "name": "stderr",
     "output_type": "stream",
     "text": [
      "/home/cwilkin/Development/anaconda/envs/dev3.9/lib/python3.9/site-packages/statsmodels/base/model.py:604: ConvergenceWarning: Maximum Likelihood optimization failed to converge. Check mle_retvals\n",
      "  warnings.warn(\"Maximum Likelihood optimization failed to \"\n"
     ]
    },
    {
     "data": {
      "text/plain": [
       "array([-1.,  1.,  1., -1., -1.,  1., -1., -1.,  1.,  1., -1., -1.,  1.,\n",
       "        1., -1., -1.,  1.,  1., -1., -1.,  1.,  1., -1., -1., -1.,  1.,\n",
       "       -1., -1., -1.,  1.,  1., -1., -1.,  1.,  1., -1., -1.,  1., -1.,\n",
       "       -1., -1.,  1., -1., -1.,  1.,  1., -1., -1.,  1.,  1., -1., -1.,\n",
       "        1.,  1., -1., -1.,  1.,  1., -1., -1.,  1.,  1., -1., -1.,  1.,\n",
       "        1., -1., -1.,  1.,  1., -1., -1.,  1.,  1., -1., -1.,  1.,  1.,\n",
       "       -1., -1.,  1.,  1., -1., -1.,  1.,  1., -1.,  1., -1.,  1., -1.,\n",
       "        1., -1., -1., -1.,  1., -1., -1., -1.,  1., -1., -1.,  1., -1.,\n",
       "       -1.,  1.,  1., -1., -1.,  1.,  1., -1., -1.,  1., -1.,  1., -1.,\n",
       "        1., -1., -1., -1.,  1., -1., -1., -1.,  1., -1., -1.,  1.,  1.,\n",
       "        1., -1.,  1.,  1.,  1., -1.,  1.,  1., -1., -1.,  1.,  1., -1.,\n",
       "       -1.,  1.,  1., -1., -1.,  1.,  1., -1., -1.,  1.,  1., -1.,  1.,\n",
       "        1.,  1., -1., -1.,  1.,  1., -1., -1.,  1., -1., -1.,  1.,  1.,\n",
       "       -1., -1.,  1.,  1., -1., -1.,  1.,  1., -1., -1.,  1.,  1., -1.,\n",
       "       -1.,  1., -1., -1.,  1.,  1., -1., -1.,  1.,  1., -1., -1.,  1.,\n",
       "        1.,  1., -1.,  1.,  1., -1., -1.,  1.,  1., -1., -1.,  1.,  1.,\n",
       "       -1., -1.,  1.,  1., -1., -1.,  1.,  1., -1., -1.,  1.,  1., -1.,\n",
       "       -1.,  1., -1., -1.,  1.,  1., -1., -1.,  1.,  1., -1., -1.,  1.,\n",
       "        1., -1., -1.,  1.,  1., -1., -1., -1.,  1., -1., -1.,  1.,  1.,\n",
       "       -1., -1.,  1.,  1., -1., -1.,  1.,  1., -1., -1.,  1.,  1., -1.,\n",
       "       -1.,  1.,  1., -1., -1.,  1., -1., -1., -1.,  1.,  1., -1.,  1.,\n",
       "        1., -1., -1.,  1.,  1., -1., -1.,  1.,  1., -1., -1.,  1.,  1.,\n",
       "       -1., -1.,  1.,  1., -1., -1.,  1.,  1., -1., -1.,  1.,  1., -1.,\n",
       "       -1.,  1.,  1., -1., -1.,  1.,  1., -1., -1.,  1.,  1., -1., -1.,\n",
       "        1.,  1., -1., -1.,  1.,  1., -1., -1.,  1.,  1., -1.,  1.,  1.,\n",
       "       -1., -1.,  1.,  1., -1., -1.,  1.,  1., -1., -1.,  1.,  1., -1.,\n",
       "        1.,  1., -1., -1.,  1.,  1., -1., -1.,  1.,  1., -1., -1.,  1.,\n",
       "        1.,  1., -1.,  1., -1., -1., -1.,  1., -1., -1., -1.,  1.,  1.,\n",
       "       -1., -1.,  1., -1., -1.,  1.,  1., -1., -1.,  1.,  1., -1., -1.,\n",
       "        1.,  1., -1., -1.,  1.,  1., -1., -1.,  1.,  1., -1., -1.,  1.,\n",
       "        1., -1., -1.,  1.,  1., -1.,  1.,  1.,  1., -1.,  1.,  1., -1.,\n",
       "       -1.,  1.,  1., -1., -1.,  1.,  1., -1., -1.,  1., -1., -1., -1.,\n",
       "        1., -1., -1.,  1.,  1., -1., -1., -1.,  1., -1., -1.,  1.,  1.,\n",
       "       -1., -1.,  1., -1., -1., -1.,  1., -1., -1., -1.,  1., -1., -1.,\n",
       "        1.,  1., -1., -1.,  1.,  1., -1., -1.,  1.,  1., -1., -1.,  1.,\n",
       "        1., -1., -1.,  1.,  1., -1., -1.,  1.,  1., -1., -1.,  1.,  1.,\n",
       "       -1., -1.,  1.,  1., -1.,  1.,  1., -1., -1.,  1.,  1., -1., -1.,\n",
       "        1.,  1., -1., -1.,  1.,  1., -1., -1.,  1.,  1., -1., -1.,  1.,\n",
       "        1., -1.,  1.,  1.,  1., -1., -1.,  1., -1.,  1., -1.,  1., -1.,\n",
       "        1.,  1.,  1., -1.,  1.,  1., -1., -1.,  1.,  1., -1., -1.,  1.,\n",
       "        1., -1., -1.,  1., -1.,  1., -1.,  1., -1., -1., -1.,  1., -1.,\n",
       "       -1., -1.,  1., -1., -1.,  1.,  1., -1., -1.,  1.,  1., -1., -1.,\n",
       "        1., -1., -1., -1.,  1., -1., -1.,  1.,  1., -1., -1., -1.,  1.,\n",
       "       -1., -1.,  1.,  1., -1., -1.,  1.,  1., -1., -1.,  1.,  1., -1.,\n",
       "        1.,  1., -1., -1.,  1.,  1., -1., -1.,  1.,  1., -1., -1.,  1.,\n",
       "        1., -1., -1.,  1.,  1., -1., -1.,  1.,  1., -1., -1.,  1.,  1.,\n",
       "       -1., -1.,  1.,  1., -1., -1.,  1.,  1., -1.,  1.,  1., -1., -1.,\n",
       "        1.,  1., -1., -1.,  1.,  1., -1., -1.,  1.,  1., -1., -1.,  1.,\n",
       "        1., -1., -1.,  1.,  1., -1., -1.,  1.,  1., -1., -1.,  1.,  1.,\n",
       "       -1., -1.,  1.,  1., -1., -1.,  1.,  1., -1., -1.,  1.,  1., -1.,\n",
       "       -1.,  1., -1., -1.,  1.,  1., -1., -1.,  1.,  1.,  1., -1.,  1.,\n",
       "        1., -1., -1.,  1.,  1., -1.,  1.,  1.,  1., -1., -1.,  1.,  1.,\n",
       "       -1., -1.,  1.,  1., -1., -1.,  1.,  1., -1., -1.,  1.,  1., -1.,\n",
       "       -1.,  1., -1., -1., -1.,  1., -1., -1.,  1.,  1., -1., -1.,  1.,\n",
       "        1., -1., -1.,  1.,  1., -1., -1.,  1.,  1., -1., -1.,  1.,  1.,\n",
       "       -1., -1.,  1.,  1., -1., -1.,  1., -1., -1.,  1.,  1.,  1., -1.,\n",
       "        1.,  1., -1.,  1., -1.,  1., -1.,  1.,  1., -1., -1., -1.,  1.,\n",
       "       -1., -1., -1.,  1.,  1., -1., -1.,  1.,  1., -1., -1.,  1., -1.,\n",
       "       -1., -1.,  1.,  1., -1., -1.,  1., -1.,  1., -1.,  1.,  1., -1.,\n",
       "       -1.,  1.,  1., -1., -1.,  1., -1., -1., -1.,  1.,  1., -1.,  1.,\n",
       "        1., -1., -1.,  1.,  1., -1., -1.,  1.,  1., -1., -1.,  1.,  1.,\n",
       "       -1., -1.,  1.,  1., -1., -1.,  1.,  1., -1., -1.,  1.,  1., -1.,\n",
       "       -1., -1.,  1., -1., -1.,  1., -1.,  1., -1.,  1., -1.,  1., -1.,\n",
       "        1., -1.,  1., -1.,  1., -1.,  1.,  1., -1.,  1.,  1.,  1., -1.,\n",
       "       -1.,  1., -1.,  1.,  1.,  1., -1.,  1.,  1.,  1., -1., -1.,  1.,\n",
       "        1., -1., -1.,  1.,  1., -1., -1.,  1.,  1., -1.,  1.,  1., -1.,\n",
       "       -1., -1.,  1., -1., -1., -1.,  1.,  1., -1., -1.,  1., -1., -1.,\n",
       "        1.,  1., -1., -1.,  1.,  1., -1., -1.,  1.,  1., -1., -1.,  1.,\n",
       "        1., -1., -1.,  1.,  1., -1., -1.,  1.,  1., -1., -1.,  1.,  1.,\n",
       "       -1., -1.,  1.,  1., -1., -1.,  1.,  1., -1.,  1.,  1., -1., -1.,\n",
       "        1.,  1., -1., -1.,  1.,  1., -1., -1.,  1.,  1., -1., -1.,  1.,\n",
       "        1., -1., -1.,  1.,  1., -1.,  1.,  1., -1., -1.,  1.,  1., -1.,\n",
       "       -1.,  1.,  1., -1., -1.,  1.,  1., -1., -1.,  1.,  1., -1., -1.,\n",
       "        1., -1., -1., -1.,  1., -1., -1., -1.,  1., -1., -1., -1.,  1.,\n",
       "       -1., -1.,  1.,  1.,  1., -1.,  1.,  1.,  1., -1.,  1.,  1., -1.,\n",
       "       -1.,  1.,  1., -1., -1.,  1.,  1., -1., -1.,  1.,  1., -1., -1.,\n",
       "        1.,  1., -1., -1.,  1.,  1., -1., -1.,  1., -1., -1.,  1.])"
      ]
     },
     "execution_count": 238,
     "metadata": {},
     "output_type": "execute_result"
    }
   ],
   "source": [
    "import statsmodels.api as sm\n",
    "x = marketData.xs(\"DOW\")\n",
    "window = 24*5*4*3\n",
    "x = x.iloc[-window-1000:]\n",
    "r = len(x) - window\n",
    "params = sm.tsa.arima.ARIMA(x[:window][\"Close\"].values, order=(3, 1, 5)).fit().params\n",
    "predictions = np.array([sm.tsa.arima.ARIMA(x[i:i+window][\"Close\"].values, order=(3, 1, 5)).filter(params).forecast()[0] for i in range(r)])\n",
    "signals = np.sign(predictions - x[window-1:-1][\"Close\"].values)\n",
    "signals"
   ]
  },
  {
   "cell_type": "code",
   "execution_count": 280,
   "metadata": {},
   "outputs": [
    {
     "data": {
      "text/plain": [
       "array([ 1.,  1., -1., -1., -1.,  1.,  1., -1., -1.,  1.])"
      ]
     },
     "execution_count": 280,
     "metadata": {},
     "output_type": "execute_result"
    }
   ],
   "source": [
    "import statsmodels.api as sm\n",
    "x = marketData.xs(\"DOW\")\n",
    "window = 24*5*4*3\n",
    "x = x.iloc[-window-10:]\n",
    "r = len(x) - window\n",
    "res = sm.tsa.arima.ARIMA(x[:window][\"Close\"].values, order=(3, 1, 5)).fit()\n",
    "predictions = np.array([res.apply(x[i:i+window][\"Close\"].values, refit=True).forecast()[0] for i in range(r)])\n",
    "signals = np.sign(predictions - x[window-1:-1][\"Close\"].values)\n",
    "signals"
   ]
  },
  {
   "cell_type": "code",
   "execution_count": 290,
   "metadata": {},
   "outputs": [
    {
     "name": "stderr",
     "output_type": "stream",
     "text": [
      "/home/cwilkin/Development/anaconda/envs/dev3.9/lib/python3.9/site-packages/statsmodels/base/model.py:604: ConvergenceWarning: Maximum Likelihood optimization failed to converge. Check mle_retvals\n",
      "  warnings.warn(\"Maximum Likelihood optimization failed to \"\n",
      "/home/cwilkin/Development/anaconda/envs/dev3.9/lib/python3.9/site-packages/statsmodels/base/model.py:604: ConvergenceWarning: Maximum Likelihood optimization failed to converge. Check mle_retvals\n",
      "  warnings.warn(\"Maximum Likelihood optimization failed to \"\n"
     ]
    },
    {
     "data": {
      "text/plain": [
       "array([-1., -1.,  1., -1.,  1., -1., -1.,  1., -1.,  1.,  1., -1., -1.,\n",
       "        1.,  1.,  1., -1., -1.,  1.,  1.,  1., -1., -1., -1.,  1.,  1.,\n",
       "       -1.,  1.,  1., -1., -1.,  1.,  1.,  1., -1., -1.,  1.,  1., -1.,\n",
       "        1.,  1., -1., -1., -1.,  1.,  1.,  1.,  1., -1.,  1., -1., -1.,\n",
       "        1.,  1.,  1., -1.,  1., -1.,  1.,  1., -1., -1., -1., -1.,  1.,\n",
       "        1., -1.,  1.,  1.,  1., -1., -1.,  1.,  1., -1., -1.,  1.,  1.,\n",
       "       -1.,  1., -1., -1.,  1., -1., -1.,  1.,  1., -1., -1., -1.,  1.,\n",
       "        1.,  1., -1., -1.,  1.,  1.,  1., -1., -1.])"
      ]
     },
     "execution_count": 290,
     "metadata": {},
     "output_type": "execute_result"
    }
   ],
   "source": [
    "import statsmodels.api as sm\n",
    "x = marketData.xs(\"DOW\")\n",
    "window = 24*5*4*3\n",
    "x = x.iloc[-window-100:]\n",
    "r = len(x) - window\n",
    "res = sm.tsa.arima.ARIMA(x[:window][\"Close\"].values, order=(3, 1, 5)).fit()\n",
    "#print(x[:window][\"Close\"].values)\n",
    "predictions = np.array([res.forecast()[0]])\n",
    "for i in range(1, r):\n",
    "    res = res.append(x[window+i-1:window+i][\"Close\"].values, refit=True)\n",
    "    #print(x[window+i-1:window+i][\"Close\"].values)\n",
    "    predictions = np.append(predictions, res.forecast()[0])\n",
    "signals = np.sign(predictions - x[window-1:-1][\"Close\"].values)\n",
    "signals"
   ]
  },
  {
   "cell_type": "code",
   "execution_count": 62,
   "metadata": {},
   "outputs": [
    {
     "ename": "ValueError",
     "evalue": "operands could not be broadcast together with shapes (10,) (8068,) ",
     "output_type": "error",
     "traceback": [
      "\u001b[0;31m---------------------------------------------------------------------------\u001b[0m",
      "\u001b[0;31mValueError\u001b[0m                                Traceback (most recent call last)",
      "Cell \u001b[0;32mIn[62], line 9\u001b[0m\n\u001b[1;32m      7\u001b[0m \u001b[39m#print(x[:window][\"Close\"].values)\u001b[39;00m\n\u001b[1;32m      8\u001b[0m predictions \u001b[39m=\u001b[39m res\u001b[39m.\u001b[39mpredict(start\u001b[39m=\u001b[39m\u001b[39mlen\u001b[39m(x)\u001b[39m-\u001b[39m\u001b[39m10\u001b[39m, end\u001b[39m=\u001b[39m\u001b[39mlen\u001b[39m(x)\u001b[39m-\u001b[39m\u001b[39m1\u001b[39m)\n\u001b[0;32m----> 9\u001b[0m signals \u001b[39m=\u001b[39m np\u001b[39m.\u001b[39msign(predictions \u001b[39m-\u001b[39;49m x[window\u001b[39m-\u001b[39;49m\u001b[39m1\u001b[39;49m:\u001b[39m-\u001b[39;49m\u001b[39m1\u001b[39;49m][\u001b[39m\"\u001b[39;49m\u001b[39mClose\u001b[39;49m\u001b[39m\"\u001b[39;49m]\u001b[39m.\u001b[39;49mvalues)\n\u001b[1;32m     10\u001b[0m signals\n",
      "\u001b[0;31mValueError\u001b[0m: operands could not be broadcast together with shapes (10,) (8068,) "
     ]
    }
   ],
   "source": [
    "import statsmodels.api as sm\n",
    "x = marketData.xs(\"DOW\")\n",
    "#window = 24*5*4*3\n",
    "#x = x.iloc[-10:]\n",
    "#r = len(x) - window\n",
    "res = sm.tsa.arima.ARIMA(x[\"Close\"].values, order=(3, 1, 5)).fit()\n",
    "#print(x[:window][\"Close\"].values)\n",
    "predictions = res.predict(start=len(x)-10, end=len(x)-1)\n",
    "signals = np.sign(predictions - x[window-1:-1][\"Close\"].values)\n",
    "signals"
   ]
  },
  {
   "cell_type": "code",
   "execution_count": 190,
   "metadata": {},
   "outputs": [
    {
     "name": "stderr",
     "output_type": "stream",
     "text": [
      "/home/cwilkin/Development/anaconda/envs/dev3.9/lib/python3.9/site-packages/statsmodels/base/model.py:604: ConvergenceWarning: Maximum Likelihood optimization failed to converge. Check mle_retvals\n",
      "  warnings.warn(\"Maximum Likelihood optimization failed to \"\n"
     ]
    },
    {
     "data": {
      "text/plain": [
       "array([ 1., -1., -1., -1., -1., -1.,  1., -1.,  1., -1.])"
      ]
     },
     "execution_count": 190,
     "metadata": {},
     "output_type": "execute_result"
    }
   ],
   "source": [
    "import statsmodels.api as sm\n",
    "y = marketData.xs(\"DOW\")\n",
    "window = 24*5*4*3\n",
    "x = y.iloc[-window-10:]\n",
    "r = len(x) - window\n",
    "res = sm.tsa.arima.ARIMA(x[:window][\"Close\"].values, order=(3, 1, 5)).fit()\n",
    "#print(x[:window][\"Close\"].values)\n",
    "predictions = np.array([res.forecast()[0]])\n",
    "for i in range(1, r):\n",
    "    res = res.extend(x[window+i-1:window+i][\"Close\"].values)\n",
    "    #print(x[window+i-1:window+i][\"Close\"].values)\n",
    "    predictions = np.append(predictions, res.forecast()[0])\n",
    "signals = np.sign(predictions - x[window-1:-1][\"Close\"].values)\n",
    "signals"
   ]
  },
  {
   "cell_type": "code",
   "execution_count": 198,
   "metadata": {},
   "outputs": [
    {
     "name": "stderr",
     "output_type": "stream",
     "text": [
      "/home/cwilkin/Development/anaconda/envs/dev3.9/lib/python3.9/site-packages/statsmodels/base/model.py:604: ConvergenceWarning: Maximum Likelihood optimization failed to converge. Check mle_retvals\n",
      "  warnings.warn(\"Maximum Likelihood optimization failed to \"\n"
     ]
    },
    {
     "data": {
      "text/plain": [
       "array([ 1., -1., -1., -1., -1., -1.,  1., -1.,  1., -1.])"
      ]
     },
     "execution_count": 198,
     "metadata": {},
     "output_type": "execute_result"
    }
   ],
   "source": [
    "import statsmodels.api as sm\n",
    "y = marketData.xs(\"DOW\")\n",
    "window = 24*5*4*3\n",
    "x = y.iloc[-window-10:]\n",
    "r = len(x) - window\n",
    "res = sm.tsa.arima.ARIMA(x[:window][\"Close\"].values, order=(3, 1, 5)).fit()\n",
    "#print(x[:window][\"Close\"].values)\n",
    "#predictions2 = np.array([res.forecast()[0]])\n",
    "\n",
    "res = res.append(x[window:][\"Close\"].values)\n",
    "    #print(x[window+i-1:window+i][\"Close\"].values)\n",
    "predictions2 = res.predict(start=len(x)-10, end=len(x)-1)\n",
    "signals2 = np.sign(predictions2 - x[window-1:-1][\"Close\"].values)\n",
    "signals2"
   ]
  },
  {
   "cell_type": "code",
   "execution_count": 199,
   "metadata": {},
   "outputs": [
    {
     "data": {
      "text/plain": [
       "array([25362.6742862 , 25356.89759519, 25370.59228602, 25362.35768089,\n",
       "       25360.84946418, 25330.26384022, 25335.66772374, 25334.57961911,\n",
       "       25335.74281298, 25334.357043  ])"
      ]
     },
     "execution_count": 199,
     "metadata": {},
     "output_type": "execute_result"
    }
   ],
   "source": [
    "predictions2"
   ]
  },
  {
   "cell_type": "code",
   "execution_count": 191,
   "metadata": {},
   "outputs": [
    {
     "data": {
      "text/plain": [
       "array([25362.6742862 , 25356.89759519, 25370.59228602, 25362.35768089,\n",
       "       25360.84946418, 25330.26384022, 25335.66772374, 25334.57961911,\n",
       "       25335.74281298, 25334.357043  ])"
      ]
     },
     "execution_count": 191,
     "metadata": {},
     "output_type": "execute_result"
    }
   ],
   "source": [
    "predictions"
   ]
  },
  {
   "cell_type": "code",
   "execution_count": 64,
   "metadata": {},
   "outputs": [
    {
     "data": {
      "text/plain": [
       "Date_Time\n",
       "2023-03-16 20:00:00+00:00    32247.638805\n",
       "2023-03-16 21:00:00+00:00    32247.588803\n",
       "2023-03-17 13:00:00+00:00    32012.540867\n",
       "2023-03-17 14:00:00+00:00    31855.235556\n",
       "2023-03-17 15:00:00+00:00    31809.454010\n",
       "2023-03-17 16:00:00+00:00    31899.177039\n",
       "2023-03-17 17:00:00+00:00    31912.627494\n",
       "2023-03-17 18:00:00+00:00    31811.364074\n",
       "2023-03-17 19:00:00+00:00    31859.435698\n",
       "2023-03-17 20:00:00+00:00    31863.055820\n",
       "Name: Close, dtype: float64"
      ]
     },
     "execution_count": 64,
     "metadata": {},
     "output_type": "execute_result"
    }
   ],
   "source": [
    "x[-10:][\"Close\"]"
   ]
  },
  {
   "cell_type": "code",
   "execution_count": 199,
   "metadata": {},
   "outputs": [],
   "source": [
    "mod = sm.tsa.statespace.SARIMAX(x[:window][\"Close\"].values, order=(3, 1, 5))\n",
    "#res = mod.fit(disp=False)"
   ]
  },
  {
   "cell_type": "code",
   "execution_count": 161,
   "metadata": {},
   "outputs": [
    {
     "data": {
      "text/plain": [
       "array([32246.08159955])"
      ]
     },
     "execution_count": 161,
     "metadata": {},
     "output_type": "execute_result"
    }
   ],
   "source": [
    "res.apply(x[window-10:window][\"Close\"].values).forecast()\n"
   ]
  },
  {
   "cell_type": "code",
   "execution_count": 201,
   "metadata": {},
   "outputs": [
    {
     "data": {
      "text/plain": [
       "array([32245.7395778])"
      ]
     },
     "execution_count": 201,
     "metadata": {},
     "output_type": "execute_result"
    }
   ],
   "source": [
    "res.forecast()"
   ]
  },
  {
   "cell_type": "code",
   "execution_count": 18,
   "metadata": {},
   "outputs": [
    {
     "data": {
      "text/plain": [
       "9508"
      ]
     },
     "execution_count": 18,
     "metadata": {},
     "output_type": "execute_result"
    }
   ],
   "source": [
    "y = marketData.xs(\"DOW\")\n",
    "len(y)"
   ]
  },
  {
   "cell_type": "code",
   "execution_count": 289,
   "metadata": {},
   "outputs": [
    {
     "data": {
      "text/plain": [
       "array([32228.23928744])"
      ]
     },
     "execution_count": 289,
     "metadata": {},
     "output_type": "execute_result"
    }
   ],
   "source": [
    "sm.tsa.arima.ARIMA(x[:window][\"Close\"].values, order=(3, 1, 5)).filter(params).forecast()"
   ]
  },
  {
   "cell_type": "code",
   "execution_count": 224,
   "metadata": {},
   "outputs": [
    {
     "data": {
      "text/plain": [
       "-2.448366808491554e-05"
      ]
     },
     "execution_count": 224,
     "metadata": {},
     "output_type": "execute_result"
    }
   ],
   "source": [
    "import tradeframework.operations.utils as utils\n",
    "np.log(utils.getPeriodReturns(p.returns) + 1)[-5:].values[0][0]\n"
   ]
  },
  {
   "cell_type": "code",
   "execution_count": 231,
   "metadata": {},
   "outputs": [
    {
     "data": {
      "text/html": [
       "<div>\n",
       "<style scoped>\n",
       "    .dataframe tbody tr th:only-of-type {\n",
       "        vertical-align: middle;\n",
       "    }\n",
       "\n",
       "    .dataframe tbody tr th {\n",
       "        vertical-align: top;\n",
       "    }\n",
       "\n",
       "    .dataframe thead th {\n",
       "        text-align: right;\n",
       "    }\n",
       "</style>\n",
       "<table border=\"1\" class=\"dataframe\">\n",
       "  <thead>\n",
       "    <tr style=\"text-align: right;\">\n",
       "      <th></th>\n",
       "      <th>Open</th>\n",
       "      <th>Close</th>\n",
       "    </tr>\n",
       "    <tr>\n",
       "      <th>Date_Time</th>\n",
       "      <th></th>\n",
       "      <th></th>\n",
       "    </tr>\n",
       "  </thead>\n",
       "  <tbody>\n",
       "    <tr>\n",
       "      <th>2013-01-01 05:00:00+00:00</th>\n",
       "      <td>0.0</td>\n",
       "      <td>0.000000</td>\n",
       "    </tr>\n",
       "    <tr>\n",
       "      <th>2013-01-01 22:15:00+00:00</th>\n",
       "      <td>0.0</td>\n",
       "      <td>0.000000</td>\n",
       "    </tr>\n",
       "    <tr>\n",
       "      <th>2013-01-02 05:00:00+00:00</th>\n",
       "      <td>0.0</td>\n",
       "      <td>0.000000</td>\n",
       "    </tr>\n",
       "    <tr>\n",
       "      <th>2013-01-02 14:30:00+00:00</th>\n",
       "      <td>0.0</td>\n",
       "      <td>0.000000</td>\n",
       "    </tr>\n",
       "    <tr>\n",
       "      <th>2013-01-02 14:35:00+00:00</th>\n",
       "      <td>0.0</td>\n",
       "      <td>0.000000</td>\n",
       "    </tr>\n",
       "    <tr>\n",
       "      <th>...</th>\n",
       "      <td>...</td>\n",
       "      <td>...</td>\n",
       "    </tr>\n",
       "    <tr>\n",
       "      <th>2023-03-17 20:00:00+00:00</th>\n",
       "      <td>0.0</td>\n",
       "      <td>-0.000069</td>\n",
       "    </tr>\n",
       "    <tr>\n",
       "      <th>2023-03-17 20:05:00+00:00</th>\n",
       "      <td>0.0</td>\n",
       "      <td>0.000000</td>\n",
       "    </tr>\n",
       "    <tr>\n",
       "      <th>2023-03-17 20:10:00+00:00</th>\n",
       "      <td>0.0</td>\n",
       "      <td>0.000000</td>\n",
       "    </tr>\n",
       "    <tr>\n",
       "      <th>2023-03-17 20:15:00+00:00</th>\n",
       "      <td>0.0</td>\n",
       "      <td>0.000000</td>\n",
       "    </tr>\n",
       "    <tr>\n",
       "      <th>2023-03-17 20:20:00+00:00</th>\n",
       "      <td>0.0</td>\n",
       "      <td>0.000000</td>\n",
       "    </tr>\n",
       "  </tbody>\n",
       "</table>\n",
       "<p>211963 rows × 2 columns</p>\n",
       "</div>"
      ],
      "text/plain": [
       "                           Open     Close\n",
       "Date_Time                                \n",
       "2013-01-01 05:00:00+00:00   0.0  0.000000\n",
       "2013-01-01 22:15:00+00:00   0.0  0.000000\n",
       "2013-01-02 05:00:00+00:00   0.0  0.000000\n",
       "2013-01-02 14:30:00+00:00   0.0  0.000000\n",
       "2013-01-02 14:35:00+00:00   0.0  0.000000\n",
       "...                         ...       ...\n",
       "2023-03-17 20:00:00+00:00   0.0 -0.000069\n",
       "2023-03-17 20:05:00+00:00   0.0  0.000000\n",
       "2023-03-17 20:10:00+00:00   0.0  0.000000\n",
       "2023-03-17 20:15:00+00:00   0.0  0.000000\n",
       "2023-03-17 20:20:00+00:00   0.0  0.000000\n",
       "\n",
       "[211963 rows x 2 columns]"
      ]
     },
     "execution_count": 231,
     "metadata": {},
     "output_type": "execute_result"
    }
   ],
   "source": [
    "p.assets[1].returns"
   ]
  }
 ],
 "metadata": {
  "kernelspec": {
   "display_name": "dev3.9",
   "language": "python",
   "name": "dev3.9"
  },
  "language_info": {
   "codemirror_mode": {
    "name": "ipython",
    "version": 3
   },
   "file_extension": ".py",
   "mimetype": "text/x-python",
   "name": "python",
   "nbconvert_exporter": "python",
   "pygments_lexer": "ipython3",
   "version": "3.9.12"
  }
 },
 "nbformat": 4,
 "nbformat_minor": 2
}
