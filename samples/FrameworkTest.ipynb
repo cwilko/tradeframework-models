{
 "cells": [
  {
   "cell_type": "code",
   "execution_count": 1,
   "metadata": {},
   "outputs": [
    {
     "name": "stderr",
     "output_type": "stream",
     "text": [
      "2023-04-04 13:40:39.107602: I tensorflow/core/platform/cpu_feature_guard.cc:193] This TensorFlow binary is optimized with oneAPI Deep Neural Network Library (oneDNN) to use the following CPU instructions in performance-critical operations:  AVX2 FMA\n",
      "To enable them in other operations, rebuild TensorFlow with the appropriate compiler flags.\n",
      "2023-04-04 13:40:39.263865: W tensorflow/compiler/xla/stream_executor/platform/default/dso_loader.cc:64] Could not load dynamic library 'libcudart.so.11.0'; dlerror: libcudart.so.11.0: cannot open shared object file: No such file or directory\n",
      "2023-04-04 13:40:39.263893: I tensorflow/compiler/xla/stream_executor/cuda/cudart_stub.cc:29] Ignore above cudart dlerror if you do not have a GPU set up on your machine.\n",
      "2023-04-04 13:40:40.450505: W tensorflow/compiler/xla/stream_executor/platform/default/dso_loader.cc:64] Could not load dynamic library 'libnvinfer.so.7'; dlerror: libnvinfer.so.7: cannot open shared object file: No such file or directory\n",
      "2023-04-04 13:40:40.450642: W tensorflow/compiler/xla/stream_executor/platform/default/dso_loader.cc:64] Could not load dynamic library 'libnvinfer_plugin.so.7'; dlerror: libnvinfer_plugin.so.7: cannot open shared object file: No such file or directory\n",
      "2023-04-04 13:40:40.450656: W tensorflow/compiler/tf2tensorrt/utils/py_utils.cc:38] TF-TRT Warning: Cannot dlopen some TensorRT libraries. If you would like to use Nvidia GPU with TensorRT, please make sure the missing libraries mentioned above are installed properly.\n"
     ]
    }
   ],
   "source": [
    "#!pip install --upgrade ~/Development/repos/tradeframework\n",
    "#!pip install --upgrade ~/Development/repos/tradeframework-insights\n",
    "#!pip install --upgrade ~/Development/repos/quantutils\n",
    "#!pip install --upgrade ~/Development/repos/marketinsights-price-aggregator\n",
    "\n",
    "import warnings\n",
    "warnings.filterwarnings(action='ignore')\n",
    "\n",
    "# Pkg imports\n",
    "# TODO - dynamic import of SandboxEnv\n",
    "from tradeframework.environments import SandboxEnvironment  \n",
    "from marketinsights.api.aggregator import MarketDataAggregator\n",
    "from marketinsights.remote.ml import MIAssembly\n",
    "from marketinsights.remote.models import MIModelServer\n",
    "import quantutils.dataset.pipeline as ppl\n",
    "import quantutils.dataset.ml as mlutils\n",
    "\n",
    "# Dev imports\n",
    "import pandas as pd\n",
    "import numpy as np\n",
    "\n",
    "#import matplotlib\n",
    "#%matplotlib inline\n",
    "#matplotlib.rcParams['figure.figsize'] = (12.0, 6.0)\n",
    "\n",
    "\n"
   ]
  },
  {
   "cell_type": "code",
   "execution_count": 2,
   "metadata": {},
   "outputs": [],
   "source": [
    "modelsvr = MIModelServer(secret=\"marketinsights-k8s-cred\")\n",
    "assembly = MIAssembly(modelsvr, secret=\"marketinsights-k8s-cred\")"
   ]
  },
  {
   "cell_type": "code",
   "execution_count": 2,
   "metadata": {},
   "outputs": [
    {
     "name": "stderr",
     "output_type": "stream",
     "text": [
      "100%|██████████| 1/1 [00:00<00:00,  2.29it/s]"
     ]
    },
    {
     "name": "stdout",
     "output_type": "stream",
     "text": [
      "Data Loaded\n"
     ]
    },
    {
     "name": "stderr",
     "output_type": "stream",
     "text": [
      "\n"
     ]
    }
   ],
   "source": [
    "data_config = [\n",
    "    {\n",
    "        \"ID\": \"MDS\",\n",
    "        \"class\": \"MDSConnector\",\n",
    "        \"opts\": {\n",
    "            \"location\": \"http://localhost:8080\"\n",
    "        },\n",
    "        \"timezone\": \"UTC\",\n",
    "        \"markets\": [\n",
    "            {\n",
    "                \"ID\": \"DOW\",\n",
    "                \"sources\": [\n",
    "                    {\n",
    "                        \"ID\": \"WallSt-hourly\",\n",
    "                        \"sample_unit\": \"H\"\n",
    "                    },\n",
    "                    {\n",
    "                        \"ID\": \"D&J-IND\",\n",
    "                        \"sample_unit\": \"5min\"\n",
    "                    }\n",
    "                ]\n",
    "            },\n",
    "            {\n",
    "                \"ID\": \"SPY\",\n",
    "                \"sources\": [\n",
    "                    {\n",
    "                        \"ID\":\"SP500-hourly\",\n",
    "                        \"sample_unit\":\"H\"\n",
    "                    },\n",
    "                    {\n",
    "                        \"ID\":\"SANDP-500\",\n",
    "                        \"sample_unit\":\"5min\"\n",
    "                    }\n",
    "                ]\n",
    "            }\n",
    "        ]\n",
    "    }\n",
    "]\n",
    "\n",
    "\n",
    "## Get Market Data\n",
    "aggregator = MarketDataAggregator(data_config)\n",
    "   \n",
    "#start = \"2013-01-01\" # Train period\n",
    "#end = \"2018-08-01\"\n",
    "\n",
    "#start=\"2018-08-02\" # Test period\n",
    "#end=\"2018-12-31\"\n",
    "\n",
    "start=\"2018-08-02\" # Test period\n",
    "end=\"2025-12-31\"\n",
    "\n",
    "marketData = aggregator.getData(mkts=[\"DOW\"], sample_unit=\"D\", start=start, end=end, aggregate=True, debug=False)\n",
    "print(\"Data Loaded\")\n",
    "#marketData = marketData.xs(\"mID\")\n",
    "#marketData = marketData.tz_convert(\"US/Eastern\", level=\"Date_Time\")\n",
    "#marketData = marketData.unstack(level=0).dropna(axis=1).stack() # Remove rows that don't have values from all markets\n",
    "#tickers = marketData.index.get_level_values(\"mID\").unique().values\n"
   ]
  },
  {
   "cell_type": "code",
   "execution_count": 3,
   "metadata": {},
   "outputs": [
    {
     "ename": "AttributeError",
     "evalue": "module 'tradeframework.models' has no attribute 'ARIMA'",
     "output_type": "error",
     "traceback": [
      "\u001b[0;31m---------------------------------------------------------------------------\u001b[0m",
      "\u001b[0;31mAttributeError\u001b[0m                            Traceback (most recent call last)",
      "Cell \u001b[0;32mIn[3], line 26\u001b[0m\n\u001b[1;32m     13\u001b[0m \u001b[39m\"\"\" p.addAsset(\u001b[39;00m\n\u001b[1;32m     14\u001b[0m \u001b[39m    env.createDerivative(\u001b[39;00m\n\u001b[1;32m     15\u001b[0m \u001b[39m        \"BuyAndHold\", \u001b[39;00m\n\u001b[0;32m   (...)\u001b[0m\n\u001b[1;32m     19\u001b[0m \u001b[39m            opts={\"barOnly\": False}\u001b[39;00m\n\u001b[1;32m     20\u001b[0m \u001b[39m        )).addStoredAsset([\"DOW\"])) \"\"\"\u001b[39;00m\n\u001b[1;32m     22\u001b[0m \u001b[39m# ARIMA\u001b[39;00m\n\u001b[1;32m     23\u001b[0m p\u001b[39m.\u001b[39maddAsset(\n\u001b[1;32m     24\u001b[0m     env\u001b[39m.\u001b[39mcreateDerivative(\n\u001b[1;32m     25\u001b[0m         \u001b[39m\"\u001b[39m\u001b[39mARIMA\u001b[39m\u001b[39m\"\u001b[39m, \n\u001b[0;32m---> 26\u001b[0m         weightGenerator\u001b[39m=\u001b[39menv\u001b[39m.\u001b[39;49mcreateModel(\n\u001b[1;32m     27\u001b[0m             \u001b[39m\"\u001b[39;49m\u001b[39mARIMA\u001b[39;49m\u001b[39m\"\u001b[39;49m, \n\u001b[1;32m     28\u001b[0m             opts\u001b[39m=\u001b[39;49m{\u001b[39m\"\u001b[39;49m\u001b[39mAR\u001b[39;49m\u001b[39m\"\u001b[39;49m:\u001b[39m3\u001b[39;49m, \u001b[39m\"\u001b[39;49m\u001b[39mI\u001b[39;49m\u001b[39m\"\u001b[39;49m:\u001b[39m1\u001b[39;49m, \u001b[39m\"\u001b[39;49m\u001b[39mMA\u001b[39;49m\u001b[39m\"\u001b[39;49m:\u001b[39m2\u001b[39;49m, \u001b[39m\"\u001b[39;49m\u001b[39mwindow\u001b[39;49m\u001b[39m\"\u001b[39;49m:\u001b[39m24\u001b[39;49m\u001b[39m*\u001b[39;49m\u001b[39m5\u001b[39;49m\u001b[39m*\u001b[39;49m\u001b[39m4\u001b[39;49m\u001b[39m*\u001b[39;49m\u001b[39m3\u001b[39;49m, \u001b[39m\"\u001b[39;49m\u001b[39mfit\u001b[39;49m\u001b[39m\"\u001b[39;49m:\u001b[39m\"\u001b[39;49m\u001b[39minSample\u001b[39;49m\u001b[39m\"\u001b[39;49m, \u001b[39m\"\u001b[39;49m\u001b[39mbarOnly\u001b[39;49m\u001b[39m\"\u001b[39;49m: \u001b[39mFalse\u001b[39;49;00m}\n\u001b[1;32m     29\u001b[0m         ))\u001b[39m.\u001b[39maddStoredAsset([\u001b[39m\"\u001b[39m\u001b[39mDOW\u001b[39m\u001b[39m\"\u001b[39m]))\n\u001b[1;32m     31\u001b[0m \u001b[39m# Feed data into the portfolio\u001b[39;00m\n\u001b[1;32m     32\u001b[0m env\u001b[39m.\u001b[39mrefresh()\n",
      "File \u001b[0;32m~/Development/anaconda/envs/dev3.9/lib/python3.9/site-packages/tradeframework/api/core/tradeEnvironment.py:71\u001b[0m, in \u001b[0;36mTradeEnvironment.createModel\u001b[0;34m(self, modelClass, modelModule, opts)\u001b[0m\n\u001b[1;32m     69\u001b[0m \u001b[39mdef\u001b[39;00m \u001b[39mcreateModel\u001b[39m(\u001b[39mself\u001b[39m, modelClass, modelModule\u001b[39m=\u001b[39m\u001b[39m\"\u001b[39m\u001b[39mtradeframework.models\u001b[39m\u001b[39m\"\u001b[39m, opts\u001b[39m=\u001b[39m{}):\n\u001b[1;32m     70\u001b[0m     module \u001b[39m=\u001b[39m importlib\u001b[39m.\u001b[39mimport_module(modelModule)\n\u001b[0;32m---> 71\u001b[0m     modelInstance \u001b[39m=\u001b[39m \u001b[39mgetattr\u001b[39;49m(module, modelClass)\n\u001b[1;32m     72\u001b[0m     model \u001b[39m=\u001b[39m modelInstance(\u001b[39mself\u001b[39m, \u001b[39m*\u001b[39m\u001b[39m*\u001b[39mopts)\n\u001b[1;32m     73\u001b[0m     \u001b[39mreturn\u001b[39;00m model\n",
      "\u001b[0;31mAttributeError\u001b[0m: module 'tradeframework.models' has no attribute 'ARIMA'"
     ]
    }
   ],
   "source": [
    "env = SandboxEnvironment(\"TradeFair\", \"US/Eastern\")\n",
    "env.createAssets(marketData)\n",
    "\n",
    "p = env.createDerivative(\"MyPortfolio\", weightGenerator=env.createOptimizer(\"EqualWeightsOptimizer\"))\n",
    "env.setPortfolio(p)\n",
    "\n",
    "# Create baseline as an unweighted asset\n",
    "baseline = env.createDerivative(\"Baseline Signal\", weightGenerator=env.createModel(\"BuyAndHold\", opts={\"barOnly\": True}))\n",
    "baseline.addStoredAsset([\"DOW\"])\n",
    "p.addAsset(baseline, weighted=False)\n",
    "\n",
    "# BuyAndHold\n",
    "\"\"\" p.addAsset(\n",
    "    env.createDerivative(\n",
    "        \"BuyAndHold\", \n",
    "        weightGenerator=env.createModel(\n",
    "            \"BuyAndHold\", \n",
    "            #opts={\"start\":\"19:00\", \"end\":\"20:00\", \"barOnly\": True}\n",
    "            opts={\"barOnly\": False}\n",
    "        )).addStoredAsset([\"DOW\"])) \"\"\"\n",
    "\n",
    "# ARIMA\n",
    "p.addAsset(\n",
    "    env.createDerivative(\n",
    "        \"ARIMA\", \n",
    "        weightGenerator=env.createModel(\n",
    "            \"ARIMA\", \n",
    "            modelModule=\"tradeframework.models.remote\",\n",
    "            opts={\"AR\":3, \"I\":1, \"MA\":2, \"window\":24*5*4*3, \"fit\":\"inSample\", \"barOnly\": False}\n",
    "        )).addStoredAsset([\"DOW\"]))\n",
    "\n",
    "# Feed data into the portfolio\n",
    "env.refresh()\n"
   ]
  },
  {
   "cell_type": "code",
   "execution_count": 7,
   "metadata": {
    "scrolled": false
   },
   "outputs": [
    {
     "data": {
      "image/png": "[encoded data removed]",
      "text/plain": [
       "<Figure size 1200x600 with 1 Axes>"
      ]
     },
     "metadata": {},
     "output_type": "display_data"
    }
   ],
   "source": [
    "from tradeframework.api.insights import InsightManager\n",
    "import warnings\n",
    "warnings.filterwarnings(\"ignore\")\n",
    "\n",
    "im = InsightManager(p)\n",
    "im.addInsightGenerator(im.createInsightGenerator(\"BasicPlot\"))\n",
    "\n",
    "results = im.generateInsights()\n"
   ]
  },
  {
   "cell_type": "code",
   "execution_count": null,
   "metadata": {},
   "outputs": [
    {
     "name": "stdout",
     "output_type": "stream",
     "text": [
      "ARIMA:3,0,2, AIC:-6764.116825131872, MFE:-2.901702059095676e-05, MAE:-0.02602751332839405\n",
      "\n",
      "=============================================\n",
      "Augmented Dicker-Fuller Test for Stationarity\n",
      "=============================================\n",
      "\n",
      "H0 = Non-Stationary data\n",
      "H1 = Stationary data\n",
      "\n",
      "Critical value: -26.00452801080604\n",
      "Probability of Non-Stationarity: 0.0%\n",
      "Number of lags used: 1\n",
      "Number of observations: 1162\n",
      "T-Scores:\n",
      "         -> 10% : -2.5680960046332366\n",
      "         -> 5%  : -2.86403051064684\n",
      "         -> 1%  : -3.4359901072390353\n",
      "\n",
      "H0 can be rejected with 100.0% confidence\n",
      "Conclusion: Data is stationary\n",
      "\n",
      "=============================================\n",
      "Ljung-Box Test for AutoCorrelations\n",
      "=============================================\n",
      "\n",
      "H0 = No Serial AutoCorrelation in the data\n",
      "H1 = AutoCorrelation exists\n",
      "\n",
      "Critical value: 24.543848348082246\n",
      "Probability of White Noise: 21.944236354097796\n",
      "\n",
      "H0 can be rejected with [0.78055764]% confidence\n",
      "Conclusion: Data is white noise\n",
      "\n",
      "=============================================\n",
      "Jaque-Bera Test for Normal Distribution\n",
      "=============================================\n",
      "\n",
      "H0 = Data is Normally distributed\n",
      "H1 = Data may not be Normally distributed\n",
      "\n",
      "Critical value: 6000.84117467664\n",
      "Probability of Normal Distribution: 0.0\n",
      "\n",
      "H0 can be rejected with 1.0% confidence\n",
      "Conclusion: Data may not be Normally distributed\n"
     ]
    }
   ],
   "source": [
    "from tradeframework.api.insights import InsightManager\n",
    "import warnings\n",
    "warnings.filterwarnings(\"ignore\")\n",
    "\n",
    "im = InsightManager(p)\n",
    "im.addInsightGenerator(im.createInsightGenerator(\"ARIMAFit\", opts={\"series\":\"returns\", \"order\": (3,0,2)}))\n",
    "\n",
    "results = im.generateInsights()\n",
    "\n",
    "im = InsightManager(p)\n",
    "#im.addInsightGenerator(im.createInsightGenerator(\"AnalysisPlot\", opts={\"series\":results[\"ARIMAFit\"].resid}))\n",
    "im.addInsightGenerator(im.createInsightGenerator(\"StationarityTest\", opts={\"series\":results[\"ARIMAFit\"].resid}))\n",
    "#im.addInsightGenerator(im.createInsightGenerator(\"MACFPlot\", opts={\"series\":results[\"ARIMAFit\"].resid})\n",
    "im.addInsightGenerator(im.createInsightGenerator(\"WhiteNoiseTest\", opts={\"series\":results[\"ARIMAFit\"].resid}))\n",
    "im.addInsightGenerator(im.createInsightGenerator(\"NormalityTest\", opts={\"series\":results[\"ARIMAFit\"].resid}))\n",
    "  \n",
    "results = im.generateInsights()"
   ]
  },
  {
   "cell_type": "code",
   "execution_count": 17,
   "metadata": {},
   "outputs": [
    {
     "name": "stdout",
     "output_type": "stream",
     "text": [
      "Won : 576.0\n",
      "Lost : 579.0\n",
      "Total : 1155.0\n",
      "Diff : -3.0\n",
      "Edge : -0.2597402597402597%\n",
      "IR : -0.08827348\n"
     ]
    },
    {
     "data": {
      "text/plain": [
       "0.4987013"
      ]
     },
     "execution_count": 17,
     "metadata": {},
     "output_type": "execute_result"
    }
   ],
   "source": [
    "mlutils.evaluate(ppl.onehot(predictions[[\"y_pred0\"]].values), ppl.onehot(predictions[[9]].values), threshold=0.5)"
   ]
  },
  {
   "cell_type": "code",
   "execution_count": 18,
   "metadata": {},
   "outputs": [
    {
     "name": "stdout",
     "output_type": "stream",
     "text": [
      "Won : 562.0\n",
      "Lost : 593.0\n",
      "Total : 1155.0\n",
      "Diff : -31.0\n",
      "Edge : -2.683982683982684%\n",
      "IR : -0.91215926\n"
     ]
    },
    {
     "data": {
      "text/plain": [
       "0.48658007"
      ]
     },
     "execution_count": 18,
     "metadata": {},
     "output_type": "execute_result"
    }
   ],
   "source": [
    "mlutils.evaluate(ppl.onehot(np.ones(predictions[[9]].values.shape)), ppl.onehot(predictions[[9]].values), threshold=0.5)"
   ]
  },
  {
   "cell_type": "code",
   "execution_count": 4,
   "metadata": {},
   "outputs": [],
   "source": [
    "import pandas as pd\n",
    "import numpy as np\n",
    "from tradeframework.api.core import Model\n",
    "import statsmodels.api as sm\n",
    "from typing import Literal\n",
    "from tqdm import tqdm\n",
    "\n",
    "\n",
    "class ARIMA(Model):\n",
    "    \"\"\"Creates a predictive model based on an ARIMA timeseries model\"\"\"\n",
    "\n",
    "    def __init__(self, env, AR=0, I=0, MA=0, window=1000, fit: Literal[\"fitAll\", \"fitWindow\", \"fitOnce\", \"inSample\"] = \"inSample\", barOnly=True):\n",
    "        Model.__init__(self, env, window)\n",
    "        self.AR = AR\n",
    "        self.I = I\n",
    "        self.MA = MA\n",
    "        self.fit = fit\n",
    "        self.barOnly = barOnly\n",
    "\n",
    "    def getSignals(self, window, idx=0):\n",
    "\n",
    "        signals = pd.DataFrame(\n",
    "            np.zeros((len(window), 2)),\n",
    "            index=window.index,\n",
    "            columns=[\"bar\", \"gap\"],\n",
    "        )\n",
    "\n",
    "        if self.fit == \"inSample\":\n",
    "            \n",
    "            # For development and analysis purposes, get \"predictions\" of in-sample values\n",
    "            self.result = sm.tsa.arima.ARIMA(window[\"Close\"].values, order=(self.AR, self.I, self.MA)).fit()\n",
    "            predictions = self.result.predict(start=0, end=len(window)-1)\n",
    "                \n",
    "            predictionSignals = np.sign(\n",
    "                predictions - window[\"Close\"].shift().values\n",
    "            )\n",
    "\n",
    "            predictionSignals = pd.DataFrame(\n",
    "                np.array([predictionSignals, predictionSignals]).T,\n",
    "                index=window.index,\n",
    "                columns=[\"bar\", \"gap\"],\n",
    "            )\n",
    "            \n",
    "        elif len(window) > self.window:\n",
    "\n",
    "            dataLen = len(window) - self.window\n",
    "            res = sm.tsa.arima.ARIMA(\n",
    "                window[: self.window][\"Close\"].values, order=(self.AR, self.I, self.MA)\n",
    "            ).fit()\n",
    "            \n",
    "            if self.fit == \"fitOnce\":            \n",
    "\n",
    "                # Fit to an initial window, then predict all based on fitted model.\n",
    "                res = res.append(window[self.window:][\"Close\"].values)    \n",
    "                predictions = res.predict(start=self.window, end=len(window)-1)\n",
    "                    \n",
    "            else:\n",
    "                predictions = np.array([res.forecast()[0]])\n",
    "\n",
    "                for i in tqdm(range(1, dataLen)):\n",
    "                    if self.fit == \"fitAll\":\n",
    "                        # Fit to an ever increasing window and predict next step\n",
    "\n",
    "                        predictions = np.array([res.forecast()[0]])\n",
    "                        res = res.append(\n",
    "                            window[self.window + i - 1 : self.window + i][\"Close\"].values,\n",
    "                            refit=True\n",
    "                        )\n",
    "                    elif self.fit == \"fitWindow\":\n",
    "                        # Fit to an rolling window and predict next step\n",
    "                        res = sm.tsa.arima.ARIMA(\n",
    "                            window[i:i+self.window][\"Close\"].values, order=(self.AR, self.I, self.MA)\n",
    "                        ).fit()\n",
    "                        \n",
    "                    predictions = np.append(predictions, res.forecast()[0])\n",
    "\n",
    "            predictionSignals = np.sign(\n",
    "                predictions - window[self.window - 1 : -1][\"Close\"].values\n",
    "            )\n",
    "\n",
    "            predictionSignals = pd.DataFrame(\n",
    "                np.array([predictionSignals, predictionSignals]).T,\n",
    "                index=window[self.window :].index,\n",
    "                columns=[\"bar\", \"gap\"],\n",
    "            )\n",
    "\n",
    "        if self.barOnly:\n",
    "            predictionSignals[\"gap\"] = 0\n",
    "\n",
    "        signals.update(predictionSignals)\n",
    "\n",
    "        return signals[idx:]\n"
   ]
  },
  {
   "cell_type": "code",
   "execution_count": 33,
   "metadata": {},
   "outputs": [
    {
     "data": {
      "text/plain": [
       "array([ 1.,  1.,  1., -1.,  1.,  1., -1., -1., -1.,  1.])"
      ]
     },
     "execution_count": 33,
     "metadata": {},
     "output_type": "execute_result"
    }
   ],
   "source": [
    "import statsmodels.api as sm\n",
    "x = marketData.xs(\"DOW\")\n",
    "window = 9498#24*5*4*3\n",
    "x = x.iloc[-window-100:]\n",
    "r = len(x) - window\n",
    "predictions = np.array([sm.tsa.arima.ARIMA(x[i:i+window][\"Close\"].values, order=(3, 1, 5)).fit().forecast()[0] for i in range(r)])\n",
    "signals = np.sign(predictions - x[window-1:-1][\"Close\"].values)\n",
    "signals"
   ]
  },
  {
   "cell_type": "code",
   "execution_count": 238,
   "metadata": {},
   "outputs": [
    {
     "name": "stderr",
     "output_type": "stream",
     "text": [
      "/home/cwilkin/Development/anaconda/envs/dev3.9/lib/python3.9/site-packages/statsmodels/base/model.py:604: ConvergenceWarning: Maximum Likelihood optimization failed to converge. Check mle_retvals\n",
      "  warnings.warn(\"Maximum Likelihood optimization failed to \"\n"
     ]
    },
    {
     "data": {
      "text/plain": [
       "array([-1.,  1.,  1., -1., -1.,  1., -1., -1.,  1.,  1., -1., -1.,  1.,\n",
       "        1., -1., -1.,  1.,  1., -1., -1.,  1.,  1., -1., -1., -1.,  1.,\n",
       "       -1., -1., -1.,  1.,  1., -1., -1.,  1.,  1., -1., -1.,  1., -1.,\n",
       "       -1., -1.,  1., -1., -1.,  1.,  1., -1., -1.,  1.,  1., -1., -1.,\n",
       "        1.,  1., -1., -1.,  1.,  1., -1., -1.,  1.,  1., -1., -1.,  1.,\n",
       "        1., -1., -1.,  1.,  1., -1., -1.,  1.,  1., -1., -1.,  1.,  1.,\n",
       "       -1., -1.,  1.,  1., -1., -1.,  1.,  1., -1.,  1., -1.,  1., -1.,\n",
       "        1., -1., -1., -1.,  1., -1., -1., -1.,  1., -1., -1.,  1., -1.,\n",
       "       -1.,  1.,  1., -1., -1.,  1.,  1., -1., -1.,  1., -1.,  1., -1.,\n",
       "        1., -1., -1., -1.,  1., -1., -1., -1.,  1., -1., -1.,  1.,  1.,\n",
       "        1., -1.,  1.,  1.,  1., -1.,  1.,  1., -1., -1.,  1.,  1., -1.,\n",
       "       -1.,  1.,  1., -1., -1.,  1.,  1., -1., -1.,  1.,  1., -1.,  1.,\n",
       "        1.,  1., -1., -1.,  1.,  1., -1., -1.,  1., -1., -1.,  1.,  1.,\n",
       "       -1., -1.,  1.,  1., -1., -1.,  1.,  1., -1., -1.,  1.,  1., -1.,\n",
       "       -1.,  1., -1., -1.,  1.,  1., -1., -1.,  1.,  1., -1., -1.,  1.,\n",
       "        1.,  1., -1.,  1.,  1., -1., -1.,  1.,  1., -1., -1.,  1.,  1.,\n",
       "       -1., -1.,  1.,  1., -1., -1.,  1.,  1., -1., -1.,  1.,  1., -1.,\n",
       "       -1.,  1., -1., -1.,  1.,  1., -1., -1.,  1.,  1., -1., -1.,  1.,\n",
       "        1., -1., -1.,  1.,  1., -1., -1., -1.,  1., -1., -1.,  1.,  1.,\n",
       "       -1., -1.,  1.,  1., -1., -1.,  1.,  1., -1., -1.,  1.,  1., -1.,\n",
       "       -1.,  1.,  1., -1., -1.,  1., -1., -1., -1.,  1.,  1., -1.,  1.,\n",
       "        1., -1., -1.,  1.,  1., -1., -1.,  1.,  1., -1., -1.,  1.,  1.,\n",
       "       -1., -1.,  1.,  1., -1., -1.,  1.,  1., -1., -1.,  1.,  1., -1.,\n",
       "       -1.,  1.,  1., -1., -1.,  1.,  1., -1., -1.,  1.,  1., -1., -1.,\n",
       "        1.,  1., -1., -1.,  1.,  1., -1., -1.,  1.,  1., -1.,  1.,  1.,\n",
       "       -1., -1.,  1.,  1., -1., -1.,  1.,  1., -1., -1.,  1.,  1., -1.,\n",
       "        1.,  1., -1., -1.,  1.,  1., -1., -1.,  1.,  1., -1., -1.,  1.,\n",
       "        1.,  1., -1.,  1., -1., -1., -1.,  1., -1., -1., -1.,  1.,  1.,\n",
       "       -1., -1.,  1., -1., -1.,  1.,  1., -1., -1.,  1.,  1., -1., -1.,\n",
       "        1.,  1., -1., -1.,  1.,  1., -1., -1.,  1.,  1., -1., -1.,  1.,\n",
       "        1., -1., -1.,  1.,  1., -1.,  1.,  1.,  1., -1.,  1.,  1., -1.,\n",
       "       -1.,  1.,  1., -1., -1.,  1.,  1., -1., -1.,  1., -1., -1., -1.,\n",
       "        1., -1., -1.,  1.,  1., -1., -1., -1.,  1., -1., -1.,  1.,  1.,\n",
       "       -1., -1.,  1., -1., -1., -1.,  1., -1., -1., -1.,  1., -1., -1.,\n",
       "        1.,  1., -1., -1.,  1.,  1., -1., -1.,  1.,  1., -1., -1.,  1.,\n",
       "        1., -1., -1.,  1.,  1., -1., -1.,  1.,  1., -1., -1.,  1.,  1.,\n",
       "       -1., -1.,  1.,  1., -1.,  1.,  1., -1., -1.,  1.,  1., -1., -1.,\n",
       "        1.,  1., -1., -1.,  1.,  1., -1., -1.,  1.,  1., -1., -1.,  1.,\n",
       "        1., -1.,  1.,  1.,  1., -1., -1.,  1., -1.,  1., -1.,  1., -1.,\n",
       "        1.,  1.,  1., -1.,  1.,  1., -1., -1.,  1.,  1., -1., -1.,  1.,\n",
       "        1., -1., -1.,  1., -1.,  1., -1.,  1., -1., -1., -1.,  1., -1.,\n",
       "       -1., -1.,  1., -1., -1.,  1.,  1., -1., -1.,  1.,  1., -1., -1.,\n",
       "        1., -1., -1., -1.,  1., -1., -1.,  1.,  1., -1., -1., -1.,  1.,\n",
       "       -1., -1.,  1.,  1., -1., -1.,  1.,  1., -1., -1.,  1.,  1., -1.,\n",
       "        1.,  1., -1., -1.,  1.,  1., -1., -1.,  1.,  1., -1., -1.,  1.,\n",
       "        1., -1., -1.,  1.,  1., -1., -1.,  1.,  1., -1., -1.,  1.,  1.,\n",
       "       -1., -1.,  1.,  1., -1., -1.,  1.,  1., -1.,  1.,  1., -1., -1.,\n",
       "        1.,  1., -1., -1.,  1.,  1., -1., -1.,  1.,  1., -1., -1.,  1.,\n",
       "        1., -1., -1.,  1.,  1., -1., -1.,  1.,  1., -1., -1.,  1.,  1.,\n",
       "       -1., -1.,  1.,  1., -1., -1.,  1.,  1., -1., -1.,  1.,  1., -1.,\n",
       "       -1.,  1., -1., -1.,  1.,  1., -1., -1.,  1.,  1.,  1., -1.,  1.,\n",
       "        1., -1., -1.,  1.,  1., -1.,  1.,  1.,  1., -1., -1.,  1.,  1.,\n",
       "       -1., -1.,  1.,  1., -1., -1.,  1.,  1., -1., -1.,  1.,  1., -1.,\n",
       "       -1.,  1., -1., -1., -1.,  1., -1., -1.,  1.,  1., -1., -1.,  1.,\n",
       "        1., -1., -1.,  1.,  1., -1., -1.,  1.,  1., -1., -1.,  1.,  1.,\n",
       "       -1., -1.,  1.,  1., -1., -1.,  1., -1., -1.,  1.,  1.,  1., -1.,\n",
       "        1.,  1., -1.,  1., -1.,  1., -1.,  1.,  1., -1., -1., -1.,  1.,\n",
       "       -1., -1., -1.,  1.,  1., -1., -1.,  1.,  1., -1., -1.,  1., -1.,\n",
       "       -1., -1.,  1.,  1., -1., -1.,  1., -1.,  1., -1.,  1.,  1., -1.,\n",
       "       -1.,  1.,  1., -1., -1.,  1., -1., -1., -1.,  1.,  1., -1.,  1.,\n",
       "        1., -1., -1.,  1.,  1., -1., -1.,  1.,  1., -1., -1.,  1.,  1.,\n",
       "       -1., -1.,  1.,  1., -1., -1.,  1.,  1., -1., -1.,  1.,  1., -1.,\n",
       "       -1., -1.,  1., -1., -1.,  1., -1.,  1., -1.,  1., -1.,  1., -1.,\n",
       "        1., -1.,  1., -1.,  1., -1.,  1.,  1., -1.,  1.,  1.,  1., -1.,\n",
       "       -1.,  1., -1.,  1.,  1.,  1., -1.,  1.,  1.,  1., -1., -1.,  1.,\n",
       "        1., -1., -1.,  1.,  1., -1., -1.,  1.,  1., -1.,  1.,  1., -1.,\n",
       "       -1., -1.,  1., -1., -1., -1.,  1.,  1., -1., -1.,  1., -1., -1.,\n",
       "        1.,  1., -1., -1.,  1.,  1., -1., -1.,  1.,  1., -1., -1.,  1.,\n",
       "        1., -1., -1.,  1.,  1., -1., -1.,  1.,  1., -1., -1.,  1.,  1.,\n",
       "       -1., -1.,  1.,  1., -1., -1.,  1.,  1., -1.,  1.,  1., -1., -1.,\n",
       "        1.,  1., -1., -1.,  1.,  1., -1., -1.,  1.,  1., -1., -1.,  1.,\n",
       "        1., -1., -1.,  1.,  1., -1.,  1.,  1., -1., -1.,  1.,  1., -1.,\n",
       "       -1.,  1.,  1., -1., -1.,  1.,  1., -1., -1.,  1.,  1., -1., -1.,\n",
       "        1., -1., -1., -1.,  1., -1., -1., -1.,  1., -1., -1., -1.,  1.,\n",
       "       -1., -1.,  1.,  1.,  1., -1.,  1.,  1.,  1., -1.,  1.,  1., -1.,\n",
       "       -1.,  1.,  1., -1., -1.,  1.,  1., -1., -1.,  1.,  1., -1., -1.,\n",
       "        1.,  1., -1., -1.,  1.,  1., -1., -1.,  1., -1., -1.,  1.])"
      ]
     },
     "execution_count": 238,
     "metadata": {},
     "output_type": "execute_result"
    }
   ],
   "source": [
    "import statsmodels.api as sm\n",
    "x = marketData.xs(\"DOW\")\n",
    "window = 24*5*4*3\n",
    "x = x.iloc[-window-1000:]\n",
    "r = len(x) - window\n",
    "params = sm.tsa.arima.ARIMA(x[:window][\"Close\"].values, order=(3, 1, 5)).fit().params\n",
    "predictions = np.array([sm.tsa.arima.ARIMA(x[i:i+window][\"Close\"].values, order=(3, 1, 5)).filter(params).forecast()[0] for i in range(r)])\n",
    "signals = np.sign(predictions - x[window-1:-1][\"Close\"].values)\n",
    "signals"
   ]
  },
  {
   "cell_type": "code",
   "execution_count": 280,
   "metadata": {},
   "outputs": [
    {
     "data": {
      "text/plain": [
       "array([ 1.,  1., -1., -1., -1.,  1.,  1., -1., -1.,  1.])"
      ]
     },
     "execution_count": 280,
     "metadata": {},
     "output_type": "execute_result"
    }
   ],
   "source": [
    "import statsmodels.api as sm\n",
    "x = marketData.xs(\"DOW\")\n",
    "window = 24*5*4*3\n",
    "x = x.iloc[-window-10:]\n",
    "r = len(x) - window\n",
    "res = sm.tsa.arima.ARIMA(x[:window][\"Close\"].values, order=(3, 1, 5)).fit()\n",
    "predictions = np.array([res.apply(x[i:i+window][\"Close\"].values, refit=True).forecast()[0] for i in range(r)])\n",
    "signals = np.sign(predictions - x[window-1:-1][\"Close\"].values)\n",
    "signals"
   ]
  },
  {
   "cell_type": "code",
   "execution_count": 290,
   "metadata": {},
   "outputs": [
    {
     "name": "stderr",
     "output_type": "stream",
     "text": [
      "/home/cwilkin/Development/anaconda/envs/dev3.9/lib/python3.9/site-packages/statsmodels/base/model.py:604: ConvergenceWarning: Maximum Likelihood optimization failed to converge. Check mle_retvals\n",
      "  warnings.warn(\"Maximum Likelihood optimization failed to \"\n",
      "/home/cwilkin/Development/anaconda/envs/dev3.9/lib/python3.9/site-packages/statsmodels/base/model.py:604: ConvergenceWarning: Maximum Likelihood optimization failed to converge. Check mle_retvals\n",
      "  warnings.warn(\"Maximum Likelihood optimization failed to \"\n"
     ]
    },
    {
     "data": {
      "text/plain": [
       "array([-1., -1.,  1., -1.,  1., -1., -1.,  1., -1.,  1.,  1., -1., -1.,\n",
       "        1.,  1.,  1., -1., -1.,  1.,  1.,  1., -1., -1., -1.,  1.,  1.,\n",
       "       -1.,  1.,  1., -1., -1.,  1.,  1.,  1., -1., -1.,  1.,  1., -1.,\n",
       "        1.,  1., -1., -1., -1.,  1.,  1.,  1.,  1., -1.,  1., -1., -1.,\n",
       "        1.,  1.,  1., -1.,  1., -1.,  1.,  1., -1., -1., -1., -1.,  1.,\n",
       "        1., -1.,  1.,  1.,  1., -1., -1.,  1.,  1., -1., -1.,  1.,  1.,\n",
       "       -1.,  1., -1., -1.,  1., -1., -1.,  1.,  1., -1., -1., -1.,  1.,\n",
       "        1.,  1., -1., -1.,  1.,  1.,  1., -1., -1.])"
      ]
     },
     "execution_count": 290,
     "metadata": {},
     "output_type": "execute_result"
    }
   ],
   "source": [
    "import statsmodels.api as sm\n",
    "x = marketData.xs(\"DOW\")\n",
    "window = 24*5*4*3\n",
    "x = x.iloc[-window-100:]\n",
    "r = len(x) - window\n",
    "res = sm.tsa.arima.ARIMA(x[:window][\"Close\"].values, order=(3, 1, 5)).fit()\n",
    "#print(x[:window][\"Close\"].values)\n",
    "predictions = np.array([res.forecast()[0]])\n",
    "for i in range(1, r):\n",
    "    res = res.append(x[window+i-1:window+i][\"Close\"].values, refit=True)\n",
    "    #print(x[window+i-1:window+i][\"Close\"].values)\n",
    "    predictions = np.append(predictions, res.forecast()[0])\n",
    "signals = np.sign(predictions - x[window-1:-1][\"Close\"].values)\n",
    "signals"
   ]
  },
  {
   "cell_type": "code",
   "execution_count": 62,
   "metadata": {},
   "outputs": [
    {
     "ename": "ValueError",
     "evalue": "operands could not be broadcast together with shapes (10,) (8068,) ",
     "output_type": "error",
     "traceback": [
      "\u001b[0;31m---------------------------------------------------------------------------\u001b[0m",
      "\u001b[0;31mValueError\u001b[0m                                Traceback (most recent call last)",
      "Cell \u001b[0;32mIn[62], line 9\u001b[0m\n\u001b[1;32m      7\u001b[0m \u001b[39m#print(x[:window][\"Close\"].values)\u001b[39;00m\n\u001b[1;32m      8\u001b[0m predictions \u001b[39m=\u001b[39m res\u001b[39m.\u001b[39mpredict(start\u001b[39m=\u001b[39m\u001b[39mlen\u001b[39m(x)\u001b[39m-\u001b[39m\u001b[39m10\u001b[39m, end\u001b[39m=\u001b[39m\u001b[39mlen\u001b[39m(x)\u001b[39m-\u001b[39m\u001b[39m1\u001b[39m)\n\u001b[0;32m----> 9\u001b[0m signals \u001b[39m=\u001b[39m np\u001b[39m.\u001b[39msign(predictions \u001b[39m-\u001b[39;49m x[window\u001b[39m-\u001b[39;49m\u001b[39m1\u001b[39;49m:\u001b[39m-\u001b[39;49m\u001b[39m1\u001b[39;49m][\u001b[39m\"\u001b[39;49m\u001b[39mClose\u001b[39;49m\u001b[39m\"\u001b[39;49m]\u001b[39m.\u001b[39;49mvalues)\n\u001b[1;32m     10\u001b[0m signals\n",
      "\u001b[0;31mValueError\u001b[0m: operands could not be broadcast together with shapes (10,) (8068,) "
     ]
    }
   ],
   "source": [
    "import statsmodels.api as sm\n",
    "x = marketData.xs(\"DOW\")\n",
    "#window = 24*5*4*3\n",
    "#x = x.iloc[-10:]\n",
    "#r = len(x) - window\n",
    "res = sm.tsa.arima.ARIMA(x[\"Close\"].values, order=(3, 1, 5)).fit()\n",
    "#print(x[:window][\"Close\"].values)\n",
    "predictions = res.predict(start=len(x)-10, end=len(x)-1)\n",
    "signals = np.sign(predictions - x[window-1:-1][\"Close\"].values)\n",
    "signals"
   ]
  },
  {
   "cell_type": "code",
   "execution_count": 190,
   "metadata": {},
   "outputs": [
    {
     "name": "stderr",
     "output_type": "stream",
     "text": [
      "/home/cwilkin/Development/anaconda/envs/dev3.9/lib/python3.9/site-packages/statsmodels/base/model.py:604: ConvergenceWarning: Maximum Likelihood optimization failed to converge. Check mle_retvals\n",
      "  warnings.warn(\"Maximum Likelihood optimization failed to \"\n"
     ]
    },
    {
     "data": {
      "text/plain": [
       "array([ 1., -1., -1., -1., -1., -1.,  1., -1.,  1., -1.])"
      ]
     },
     "execution_count": 190,
     "metadata": {},
     "output_type": "execute_result"
    }
   ],
   "source": [
    "import statsmodels.api as sm\n",
    "y = marketData.xs(\"DOW\")\n",
    "window = 24*5*4*3\n",
    "x = y.iloc[-window-10:]\n",
    "r = len(x) - window\n",
    "res = sm.tsa.arima.ARIMA(x[:window][\"Close\"].values, order=(3, 1, 5)).fit()\n",
    "#print(x[:window][\"Close\"].values)\n",
    "predictions = np.array([res.forecast()[0]])\n",
    "for i in range(1, r):\n",
    "    res = res.extend(x[window+i-1:window+i][\"Close\"].values)\n",
    "    #print(x[window+i-1:window+i][\"Close\"].values)\n",
    "    predictions = np.append(predictions, res.forecast()[0])\n",
    "signals = np.sign(predictions - x[window-1:-1][\"Close\"].values)\n",
    "signals"
   ]
  },
  {
   "cell_type": "code",
   "execution_count": 198,
   "metadata": {},
   "outputs": [
    {
     "name": "stderr",
     "output_type": "stream",
     "text": [
      "/home/cwilkin/Development/anaconda/envs/dev3.9/lib/python3.9/site-packages/statsmodels/base/model.py:604: ConvergenceWarning: Maximum Likelihood optimization failed to converge. Check mle_retvals\n",
      "  warnings.warn(\"Maximum Likelihood optimization failed to \"\n"
     ]
    },
    {
     "data": {
      "text/plain": [
       "array([ 1., -1., -1., -1., -1., -1.,  1., -1.,  1., -1.])"
      ]
     },
     "execution_count": 198,
     "metadata": {},
     "output_type": "execute_result"
    }
   ],
   "source": [
    "import statsmodels.api as sm\n",
    "y = marketData.xs(\"DOW\")\n",
    "window = 24*5*4*3\n",
    "x = y.iloc[-window-10:]\n",
    "r = len(x) - window\n",
    "res = sm.tsa.arima.ARIMA(x[:window][\"Close\"].values, order=(3, 1, 5)).fit()\n",
    "#print(x[:window][\"Close\"].values)\n",
    "#predictions2 = np.array([res.forecast()[0]])\n",
    "\n",
    "res = res.append(x[window:][\"Close\"].values)\n",
    "    #print(x[window+i-1:window+i][\"Close\"].values)\n",
    "predictions2 = res.predict(start=len(x)-10, end=len(x)-1)\n",
    "signals2 = np.sign(predictions2 - x[window-1:-1][\"Close\"].values)\n",
    "signals2"
   ]
  },
  {
   "cell_type": "code",
   "execution_count": 199,
   "metadata": {},
   "outputs": [
    {
     "data": {
      "text/plain": [
       "array([25362.6742862 , 25356.89759519, 25370.59228602, 25362.35768089,\n",
       "       25360.84946418, 25330.26384022, 25335.66772374, 25334.57961911,\n",
       "       25335.74281298, 25334.357043  ])"
      ]
     },
     "execution_count": 199,
     "metadata": {},
     "output_type": "execute_result"
    }
   ],
   "source": [
    "predictions2"
   ]
  },
  {
   "cell_type": "code",
   "execution_count": 191,
   "metadata": {},
   "outputs": [
    {
     "data": {
      "text/plain": [
       "array([25362.6742862 , 25356.89759519, 25370.59228602, 25362.35768089,\n",
       "       25360.84946418, 25330.26384022, 25335.66772374, 25334.57961911,\n",
       "       25335.74281298, 25334.357043  ])"
      ]
     },
     "execution_count": 191,
     "metadata": {},
     "output_type": "execute_result"
    }
   ],
   "source": [
    "predictions"
   ]
  },
  {
   "cell_type": "code",
   "execution_count": 64,
   "metadata": {},
   "outputs": [
    {
     "data": {
      "text/plain": [
       "Date_Time\n",
       "2023-03-16 20:00:00+00:00    32247.638805\n",
       "2023-03-16 21:00:00+00:00    32247.588803\n",
       "2023-03-17 13:00:00+00:00    32012.540867\n",
       "2023-03-17 14:00:00+00:00    31855.235556\n",
       "2023-03-17 15:00:00+00:00    31809.454010\n",
       "2023-03-17 16:00:00+00:00    31899.177039\n",
       "2023-03-17 17:00:00+00:00    31912.627494\n",
       "2023-03-17 18:00:00+00:00    31811.364074\n",
       "2023-03-17 19:00:00+00:00    31859.435698\n",
       "2023-03-17 20:00:00+00:00    31863.055820\n",
       "Name: Close, dtype: float64"
      ]
     },
     "execution_count": 64,
     "metadata": {},
     "output_type": "execute_result"
    }
   ],
   "source": [
    "x[-10:][\"Close\"]"
   ]
  },
  {
   "cell_type": "code",
   "execution_count": 199,
   "metadata": {},
   "outputs": [],
   "source": [
    "mod = sm.tsa.statespace.SARIMAX(x[:window][\"Close\"].values, order=(3, 1, 5))\n",
    "#res = mod.fit(disp=False)"
   ]
  },
  {
   "cell_type": "code",
   "execution_count": 161,
   "metadata": {},
   "outputs": [
    {
     "data": {
      "text/plain": [
       "array([32246.08159955])"
      ]
     },
     "execution_count": 161,
     "metadata": {},
     "output_type": "execute_result"
    }
   ],
   "source": [
    "res.apply(x[window-10:window][\"Close\"].values).forecast()\n"
   ]
  },
  {
   "cell_type": "code",
   "execution_count": 201,
   "metadata": {},
   "outputs": [
    {
     "data": {
      "text/plain": [
       "array([32245.7395778])"
      ]
     },
     "execution_count": 201,
     "metadata": {},
     "output_type": "execute_result"
    }
   ],
   "source": [
    "res.forecast()"
   ]
  },
  {
   "cell_type": "code",
   "execution_count": 18,
   "metadata": {},
   "outputs": [
    {
     "data": {
      "text/plain": [
       "9508"
      ]
     },
     "execution_count": 18,
     "metadata": {},
     "output_type": "execute_result"
    }
   ],
   "source": [
    "y = marketData.xs(\"DOW\")\n",
    "len(y)"
   ]
  },
  {
   "cell_type": "code",
   "execution_count": 289,
   "metadata": {},
   "outputs": [
    {
     "data": {
      "text/plain": [
       "array([32228.23928744])"
      ]
     },
     "execution_count": 289,
     "metadata": {},
     "output_type": "execute_result"
    }
   ],
   "source": [
    "sm.tsa.arima.ARIMA(x[:window][\"Close\"].values, order=(3, 1, 5)).filter(params).forecast()"
   ]
  },
  {
   "cell_type": "code",
   "execution_count": 224,
   "metadata": {},
   "outputs": [
    {
     "data": {
      "text/plain": [
       "-2.448366808491554e-05"
      ]
     },
     "execution_count": 224,
     "metadata": {},
     "output_type": "execute_result"
    }
   ],
   "source": [
    "import tradeframework.operations.utils as utils\n",
    "np.log(utils.getPeriodReturns(p.returns) + 1)[-5:].values[0][0]\n"
   ]
  },
  {
   "cell_type": "code",
   "execution_count": 231,
   "metadata": {},
   "outputs": [
    {
     "data": {
      "text/html": [
       "<div>\n",
       "<style scoped>\n",
       "    .dataframe tbody tr th:only-of-type {\n",
       "        vertical-align: middle;\n",
       "    }\n",
       "\n",
       "    .dataframe tbody tr th {\n",
       "        vertical-align: top;\n",
       "    }\n",
       "\n",
       "    .dataframe thead th {\n",
       "        text-align: right;\n",
       "    }\n",
       "</style>\n",
       "<table border=\"1\" class=\"dataframe\">\n",
       "  <thead>\n",
       "    <tr style=\"text-align: right;\">\n",
       "      <th></th>\n",
       "      <th>Open</th>\n",
       "      <th>Close</th>\n",
       "    </tr>\n",
       "    <tr>\n",
       "      <th>Date_Time</th>\n",
       "      <th></th>\n",
       "      <th></th>\n",
       "    </tr>\n",
       "  </thead>\n",
       "  <tbody>\n",
       "    <tr>\n",
       "      <th>2013-01-01 05:00:00+00:00</th>\n",
       "      <td>0.0</td>\n",
       "      <td>0.000000</td>\n",
       "    </tr>\n",
       "    <tr>\n",
       "      <th>2013-01-01 22:15:00+00:00</th>\n",
       "      <td>0.0</td>\n",
       "      <td>0.000000</td>\n",
       "    </tr>\n",
       "    <tr>\n",
       "      <th>2013-01-02 05:00:00+00:00</th>\n",
       "      <td>0.0</td>\n",
       "      <td>0.000000</td>\n",
       "    </tr>\n",
       "    <tr>\n",
       "      <th>2013-01-02 14:30:00+00:00</th>\n",
       "      <td>0.0</td>\n",
       "      <td>0.000000</td>\n",
       "    </tr>\n",
       "    <tr>\n",
       "      <th>2013-01-02 14:35:00+00:00</th>\n",
       "      <td>0.0</td>\n",
       "      <td>0.000000</td>\n",
       "    </tr>\n",
       "    <tr>\n",
       "      <th>...</th>\n",
       "      <td>...</td>\n",
       "      <td>...</td>\n",
       "    </tr>\n",
       "    <tr>\n",
       "      <th>2023-03-17 20:00:00+00:00</th>\n",
       "      <td>0.0</td>\n",
       "      <td>-0.000069</td>\n",
       "    </tr>\n",
       "    <tr>\n",
       "      <th>2023-03-17 20:05:00+00:00</th>\n",
       "      <td>0.0</td>\n",
       "      <td>0.000000</td>\n",
       "    </tr>\n",
       "    <tr>\n",
       "      <th>2023-03-17 20:10:00+00:00</th>\n",
       "      <td>0.0</td>\n",
       "      <td>0.000000</td>\n",
       "    </tr>\n",
       "    <tr>\n",
       "      <th>2023-03-17 20:15:00+00:00</th>\n",
       "      <td>0.0</td>\n",
       "      <td>0.000000</td>\n",
       "    </tr>\n",
       "    <tr>\n",
       "      <th>2023-03-17 20:20:00+00:00</th>\n",
       "      <td>0.0</td>\n",
       "      <td>0.000000</td>\n",
       "    </tr>\n",
       "  </tbody>\n",
       "</table>\n",
       "<p>211963 rows × 2 columns</p>\n",
       "</div>"
      ],
      "text/plain": [
       "                           Open     Close\n",
       "Date_Time                                \n",
       "2013-01-01 05:00:00+00:00   0.0  0.000000\n",
       "2013-01-01 22:15:00+00:00   0.0  0.000000\n",
       "2013-01-02 05:00:00+00:00   0.0  0.000000\n",
       "2013-01-02 14:30:00+00:00   0.0  0.000000\n",
       "2013-01-02 14:35:00+00:00   0.0  0.000000\n",
       "...                         ...       ...\n",
       "2023-03-17 20:00:00+00:00   0.0 -0.000069\n",
       "2023-03-17 20:05:00+00:00   0.0  0.000000\n",
       "2023-03-17 20:10:00+00:00   0.0  0.000000\n",
       "2023-03-17 20:15:00+00:00   0.0  0.000000\n",
       "2023-03-17 20:20:00+00:00   0.0  0.000000\n",
       "\n",
       "[211963 rows x 2 columns]"
      ]
     },
     "execution_count": 231,
     "metadata": {},
     "output_type": "execute_result"
    }
   ],
   "source": [
    "p.assets[1].returns"
   ]
  }
 ],
 "metadata": {
  "kernelspec": {
   "display_name": "dev3.9",
   "language": "python",
   "name": "python3"
  },
  "language_info": {
   "codemirror_mode": {
    "name": "ipython",
    "version": 3
   },
   "file_extension": ".py",
   "mimetype": "text/x-python",
   "name": "python",
   "nbconvert_exporter": "python",
   "pygments_lexer": "ipython3",
   "version": "3.9.12"
  }
 },
 "nbformat": 4,
 "nbformat_minor": 2
}
